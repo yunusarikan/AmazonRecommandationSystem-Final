{
 "cells": [
  {
   "cell_type": "markdown",
   "metadata": {},
   "source": [
    "Amazon Recommandation System"
   ]
  },
  {
   "cell_type": "markdown",
   "metadata": {},
   "source": [
    "# Dataset columns​ -\n",
    "    **  first three columns are userId, productId, and ratings and the fourth column is timestamp.We discard the timestamp column because we dont use it.\n",
    "\n",
    "# Source​ - \n",
    "    ** Amazon Reviews data (https://www.kaggle.com/datasets/saurav9786/amazon-product-reviews). We used electronics."
   ]
  },
  {
   "cell_type": "code",
   "execution_count": 5,
   "metadata": {},
   "outputs": [],
   "source": [
    "\n",
    "import pandas as pd\n",
    "import numpy as np\n",
    "import matplotlib.pyplot as plt\n",
    "import seaborn as sns\n",
    "import surprise as sp\n",
    "import warnings\n",
    "\n",
    "warnings.filterwarnings('ignore')\n",
    "%matplotlib inline"
   ]
  },
  {
   "cell_type": "code",
   "execution_count": 6,
   "metadata": {},
   "outputs": [],
   "source": [
    "from surprise import KNNBasic, SVD, NormalPredictor, KNNBaseline,KNNWithMeans, KNNWithZScore, BaselineOnly, CoClustering, Reader, dataset, accuracy"
   ]
  },
  {
   "cell_type": "markdown",
   "metadata": {},
   "source": [
    "# Read and explore the dataset  ( Rename column/add headers, plot histograms, find data characteristics) "
   ]
  },
  {
   "cell_type": "code",
   "execution_count": 7,
   "metadata": {},
   "outputs": [
    {
     "name": "stdout",
     "output_type": "stream",
     "text": [
      "File loaded successfully\n"
     ]
    }
   ],
   "source": [
    "import pandas as pd\n",
    "\n",
    "columns = ['userID', 'productID', 'ratings', 'timestamp']\n",
    "file_path = r'C:\\Users\\Admin\\Desktop\\Product-Recommendation-Systems-master\\Electronics.csv'\n",
    "\n",
    "try:\n",
    "    recomm_df = pd.read_csv(file_path, names=columns)\n",
    "    print(\"File loaded successfully\")\n",
    "except FileNotFoundError:\n",
    "    print(f\"File not found: {file_path}\")"
   ]
  },
  {
   "cell_type": "code",
   "execution_count": 8,
   "metadata": {},
   "outputs": [
    {
     "name": "stdout",
     "output_type": "stream",
     "text": [
      "<class 'pandas.core.frame.DataFrame'>\n",
      "RangeIndex: 7824482 entries, 0 to 7824481\n",
      "Data columns (total 4 columns):\n",
      " #   Column     Dtype  \n",
      "---  ------     -----  \n",
      " 0   userID     object \n",
      " 1   productID  object \n",
      " 2   ratings    float64\n",
      " 3   timestamp  int64  \n",
      "dtypes: float64(1), int64(1), object(2)\n",
      "memory usage: 238.8+ MB\n"
     ]
    }
   ],
   "source": [
    "recomm_df.info()"
   ]
  },
  {
   "cell_type": "code",
   "execution_count": 9,
   "metadata": {},
   "outputs": [
    {
     "data": {
      "text/html": [
       "<div>\n",
       "<style scoped>\n",
       "    .dataframe tbody tr th:only-of-type {\n",
       "        vertical-align: middle;\n",
       "    }\n",
       "\n",
       "    .dataframe tbody tr th {\n",
       "        vertical-align: top;\n",
       "    }\n",
       "\n",
       "    .dataframe thead th {\n",
       "        text-align: right;\n",
       "    }\n",
       "</style>\n",
       "<table border=\"1\" class=\"dataframe\">\n",
       "  <thead>\n",
       "    <tr style=\"text-align: right;\">\n",
       "      <th></th>\n",
       "      <th>userID</th>\n",
       "      <th>productID</th>\n",
       "      <th>ratings</th>\n",
       "      <th>timestamp</th>\n",
       "    </tr>\n",
       "  </thead>\n",
       "  <tbody>\n",
       "    <tr>\n",
       "      <th>0</th>\n",
       "      <td>AKM1MP6P0OYPR</td>\n",
       "      <td>0132793040</td>\n",
       "      <td>5.0</td>\n",
       "      <td>1365811200</td>\n",
       "    </tr>\n",
       "    <tr>\n",
       "      <th>1</th>\n",
       "      <td>A2CX7LUOHB2NDG</td>\n",
       "      <td>0321732944</td>\n",
       "      <td>5.0</td>\n",
       "      <td>1341100800</td>\n",
       "    </tr>\n",
       "    <tr>\n",
       "      <th>2</th>\n",
       "      <td>A2NWSAGRHCP8N5</td>\n",
       "      <td>0439886341</td>\n",
       "      <td>1.0</td>\n",
       "      <td>1367193600</td>\n",
       "    </tr>\n",
       "    <tr>\n",
       "      <th>3</th>\n",
       "      <td>A2WNBOD3WNDNKT</td>\n",
       "      <td>0439886341</td>\n",
       "      <td>3.0</td>\n",
       "      <td>1374451200</td>\n",
       "    </tr>\n",
       "    <tr>\n",
       "      <th>4</th>\n",
       "      <td>A1GI0U4ZRJA8WN</td>\n",
       "      <td>0439886341</td>\n",
       "      <td>1.0</td>\n",
       "      <td>1334707200</td>\n",
       "    </tr>\n",
       "  </tbody>\n",
       "</table>\n",
       "</div>"
      ],
      "text/plain": [
       "           userID   productID  ratings   timestamp\n",
       "0   AKM1MP6P0OYPR  0132793040      5.0  1365811200\n",
       "1  A2CX7LUOHB2NDG  0321732944      5.0  1341100800\n",
       "2  A2NWSAGRHCP8N5  0439886341      1.0  1367193600\n",
       "3  A2WNBOD3WNDNKT  0439886341      3.0  1374451200\n",
       "4  A1GI0U4ZRJA8WN  0439886341      1.0  1334707200"
      ]
     },
     "execution_count": 9,
     "metadata": {},
     "output_type": "execute_result"
    }
   ],
   "source": [
    "recomm_df.head()"
   ]
  },
  {
   "cell_type": "code",
   "execution_count": 10,
   "metadata": {},
   "outputs": [
    {
     "data": {
      "text/plain": [
       "(7824482, 4)"
      ]
     },
     "execution_count": 10,
     "metadata": {},
     "output_type": "execute_result"
    }
   ],
   "source": [
    "recomm_df.shape"
   ]
  },
  {
   "cell_type": "code",
   "execution_count": 11,
   "metadata": {},
   "outputs": [
    {
     "data": {
      "text/html": [
       "<div>\n",
       "<style scoped>\n",
       "    .dataframe tbody tr th:only-of-type {\n",
       "        vertical-align: middle;\n",
       "    }\n",
       "\n",
       "    .dataframe tbody tr th {\n",
       "        vertical-align: top;\n",
       "    }\n",
       "\n",
       "    .dataframe thead th {\n",
       "        text-align: right;\n",
       "    }\n",
       "</style>\n",
       "<table border=\"1\" class=\"dataframe\">\n",
       "  <thead>\n",
       "    <tr style=\"text-align: right;\">\n",
       "      <th></th>\n",
       "      <th>count</th>\n",
       "      <th>mean</th>\n",
       "      <th>std</th>\n",
       "      <th>min</th>\n",
       "      <th>25%</th>\n",
       "      <th>50%</th>\n",
       "      <th>75%</th>\n",
       "      <th>max</th>\n",
       "    </tr>\n",
       "  </thead>\n",
       "  <tbody>\n",
       "    <tr>\n",
       "      <th>ratings</th>\n",
       "      <td>7824482.0</td>\n",
       "      <td>4.012337e+00</td>\n",
       "      <td>1.380910e+00</td>\n",
       "      <td>1.0</td>\n",
       "      <td>3.000000e+00</td>\n",
       "      <td>5.000000e+00</td>\n",
       "      <td>5.000000e+00</td>\n",
       "      <td>5.000000e+00</td>\n",
       "    </tr>\n",
       "    <tr>\n",
       "      <th>timestamp</th>\n",
       "      <td>7824482.0</td>\n",
       "      <td>1.338178e+09</td>\n",
       "      <td>6.900426e+07</td>\n",
       "      <td>912729600.0</td>\n",
       "      <td>1.315354e+09</td>\n",
       "      <td>1.361059e+09</td>\n",
       "      <td>1.386115e+09</td>\n",
       "      <td>1.406074e+09</td>\n",
       "    </tr>\n",
       "  </tbody>\n",
       "</table>\n",
       "</div>"
      ],
      "text/plain": [
       "               count          mean           std          min           25%  \\\n",
       "ratings    7824482.0  4.012337e+00  1.380910e+00          1.0  3.000000e+00   \n",
       "timestamp  7824482.0  1.338178e+09  6.900426e+07  912729600.0  1.315354e+09   \n",
       "\n",
       "                    50%           75%           max  \n",
       "ratings    5.000000e+00  5.000000e+00  5.000000e+00  \n",
       "timestamp  1.361059e+09  1.386115e+09  1.406074e+09  "
      ]
     },
     "execution_count": 11,
     "metadata": {},
     "output_type": "execute_result"
    }
   ],
   "source": [
    "recomm_df.describe().T"
   ]
  },
  {
   "cell_type": "markdown",
   "metadata": {},
   "source": [
    "#  Dropping the \"timestamp\" as it is not a needed field"
   ]
  },
  {
   "cell_type": "code",
   "execution_count": 12,
   "metadata": {},
   "outputs": [],
   "source": [
    "recomm_df = recomm_df.drop('timestamp', axis=1)"
   ]
  },
  {
   "cell_type": "markdown",
   "metadata": {},
   "source": [
    "# Missing Value"
   ]
  },
  {
   "cell_type": "code",
   "execution_count": 13,
   "metadata": {},
   "outputs": [
    {
     "data": {
      "text/plain": [
       "userID       0\n",
       "productID    0\n",
       "ratings      0\n",
       "dtype: int64"
      ]
     },
     "execution_count": 13,
     "metadata": {},
     "output_type": "execute_result"
    }
   ],
   "source": [
    "recomm_df.isna().sum()"
   ]
  },
  {
   "cell_type": "code",
   "execution_count": 14,
   "metadata": {},
   "outputs": [
    {
     "data": {
      "text/plain": [
       "(7824482, 3)"
      ]
     },
     "execution_count": 14,
     "metadata": {},
     "output_type": "execute_result"
    }
   ],
   "source": [
    "recomm_df.shape"
   ]
  },
  {
   "cell_type": "markdown",
   "metadata": {},
   "source": [
    "# plot histograms"
   ]
  },
  {
   "cell_type": "code",
   "execution_count": 15,
   "metadata": {},
   "outputs": [
    {
     "data": {
      "text/plain": [
       "array([[<Axes: title={'center': 'ratings'}>]], dtype=object)"
      ]
     },
     "execution_count": 15,
     "metadata": {},
     "output_type": "execute_result"
    },
    {
     "data": {
      "image/png": "[encoded data removed]",
      "text/plain": [
       "<Figure size 640x480 with 1 Axes>"
      ]
     },
     "metadata": {},
     "output_type": "display_data"
    }
   ],
   "source": [
    "recomm_df.hist('ratings',bins = 15)"
   ]
  },
  {
   "cell_type": "code",
   "execution_count": 16,
   "metadata": {},
   "outputs": [
    {
     "data": {
      "image/png": "[encoded data removed]",
      "text/plain": [
       "<Figure size 640x480 with 1 Axes>"
      ]
     },
     "metadata": {},
     "output_type": "display_data"
    }
   ],
   "source": [
    "popular = recomm_df[['userID','ratings']].groupby('userID').sum().reset_index()\n",
    "popular_20 = popular.sort_values('ratings', ascending=False).head(n=20)\n",
    "import matplotlib.pyplot as plt; plt.rcdefaults()\n",
    "import numpy as np\n",
    "import matplotlib.pyplot as plt\n",
    " \n",
    "objects = (list(popular_20['userID']))\n",
    "y_pos = np.arange(len(objects))\n",
    "performance = list(popular_20['ratings'])\n",
    " \n",
    "plt.bar(y_pos, performance, align='center', alpha=0.5)\n",
    "plt.xticks(y_pos, objects, rotation='vertical')\n",
    "plt.ylabel('userID')\n",
    "plt.title('Most popular')\n",
    " \n",
    "plt.show() # Most popular users"
   ]
  },
  {
   "cell_type": "code",
   "execution_count": 17,
   "metadata": {},
   "outputs": [
    {
     "data": {
      "text/plain": [
       "userID\n",
       "A5JLAU2ARJ0BO     520\n",
       "ADLVFFE4VBT8      501\n",
       "A3OXHLG6DIBRW8    498\n",
       "A6FIAB28IS79      431\n",
       "A680RUE1FDO8B     406\n",
       "                 ... \n",
       "A1IUWX30VMVJGP      1\n",
       "A1WBP7XSZI6AUL      1\n",
       "A2K7UNJHE9ZR0G      1\n",
       "A1A6SIW6EWF6FP      1\n",
       "A10M2KEFPEQDHN      1\n",
       "Name: count, Length: 4201696, dtype: int64"
      ]
     },
     "execution_count": 17,
     "metadata": {},
     "output_type": "execute_result"
    }
   ],
   "source": [
    "# find unique users\n",
    "recomm_df.userID.value_counts()  # 4201696"
   ]
  },
  {
   "cell_type": "code",
   "execution_count": 18,
   "metadata": {},
   "outputs": [
    {
     "name": "stdout",
     "output_type": "stream",
     "text": [
      "Number of unique users 4201696\n"
     ]
    }
   ],
   "source": [
    "print('Number of unique users', len(recomm_df['userID'].unique())) # kaç unique user var"
   ]
  },
  {
   "cell_type": "code",
   "execution_count": 19,
   "metadata": {},
   "outputs": [
    {
     "name": "stdout",
     "output_type": "stream",
     "text": [
      "Number of unique products 476002\n"
     ]
    }
   ],
   "source": [
    "print('Number of unique products', len(recomm_df['productID'].unique())) # kaç unique product var"
   ]
  },
  {
   "cell_type": "code",
   "execution_count": 20,
   "metadata": {},
   "outputs": [
    {
     "name": "stdout",
     "output_type": "stream",
     "text": [
      "Unique Ratings [5. 1. 3. 2. 4.]\n"
     ]
    }
   ],
   "source": [
    "print('Unique Ratings', recomm_df['ratings'].unique()) # kaç unique rating var"
   ]
  },
  {
   "cell_type": "code",
   "execution_count": 21,
   "metadata": {},
   "outputs": [],
   "source": [
    "min_ratings1 = recomm_df[(recomm_df['ratings'] < 2.0)] # 1.0 ve 1.5 rating alanlar"
   ]
  },
  {
   "cell_type": "code",
   "execution_count": 22,
   "metadata": {},
   "outputs": [
    {
     "name": "stdout",
     "output_type": "stream",
     "text": [
      "Number of unique products rated low 176283\n"
     ]
    }
   ],
   "source": [
    "print('Number of unique products rated low',len(min_ratings1['productID'].unique())) # 1.0 ve 1.5 rating alan unique product sayısı"
   ]
  },
  {
   "cell_type": "code",
   "execution_count": 23,
   "metadata": {},
   "outputs": [],
   "source": [
    "med_ratings1 = recomm_df[(recomm_df['ratings'] > 2.0) & (recomm_df['ratings'] < 4.0)] # 2.5 ve 3.0 rating alanlar"
   ]
  },
  {
   "cell_type": "code",
   "execution_count": 24,
   "metadata": {},
   "outputs": [
    {
     "name": "stdout",
     "output_type": "stream",
     "text": [
      "Number of unique products rated medium 152827\n"
     ]
    }
   ],
   "source": [
    "print('Number of unique products rated medium',len(med_ratings1['productID'].unique())) # 2.5 ve 3.0 rating alan unique product sayısı"
   ]
  },
  {
   "cell_type": "code",
   "execution_count": 25,
   "metadata": {},
   "outputs": [],
   "source": [
    "max_ratings1 = recomm_df[recomm_df['ratings'] >= 4.0] # 3.5 ve 4.0 rating alanlar"
   ]
  },
  {
   "cell_type": "code",
   "execution_count": 26,
   "metadata": {},
   "outputs": [
    {
     "name": "stdout",
     "output_type": "stream",
     "text": [
      "Number of unique products rated high 410110\n"
     ]
    }
   ],
   "source": [
    "print('Number of unique products rated high',len(max_ratings1['productID'].unique())) # 3.5 ve 4.0 rating alan unique product sayısı"
   ]
  },
  {
   "cell_type": "code",
   "execution_count": 27,
   "metadata": {},
   "outputs": [
    {
     "name": "stdout",
     "output_type": "stream",
     "text": [
      "productID\n",
      "0132793040    5.000000\n",
      "0321732944    5.000000\n",
      "0439886341    1.666667\n",
      "0511189877    4.500000\n",
      "0528881469    2.851852\n",
      "                ...   \n",
      "BT008G3W52    5.000000\n",
      "BT008SXQ4C    1.000000\n",
      "BT008T2BGK    5.000000\n",
      "BT008UKTMW    4.000000\n",
      "BT008V9J9U    5.000000\n",
      "Name: ratings, Length: 476002, dtype: float64\n"
     ]
    }
   ],
   "source": [
    "avg_rating_prod = recomm_df.groupby('productID')['ratings'].mean() # her bir product için ortalama rating\n",
    "\n",
    "print(avg_rating_prod)"
   ]
  },
  {
   "cell_type": "code",
   "execution_count": 28,
   "metadata": {},
   "outputs": [
    {
     "name": "stdout",
     "output_type": "stream",
     "text": [
      "    productID   ratings\n",
      "0  0132793040  5.000000\n",
      "1  0321732944  5.000000\n",
      "2  0439886341  1.666667\n",
      "3  0511189877  4.500000\n",
      "4  0528881469  2.851852\n"
     ]
    }
   ],
   "source": [
    "\n",
    "avg_rating_prod = recomm_df.groupby('productID')['ratings'].mean() \n",
    "avg_rating_prod = avg_rating_prod.reset_index()\n",
    "print(avg_rating_prod.head())"
   ]
  },
  {
   "cell_type": "code",
   "execution_count": 29,
   "metadata": {
    "scrolled": true
   },
   "outputs": [
    {
     "name": "stdout",
     "output_type": "stream",
     "text": [
      "Top 10 highly rated products \n",
      "             userID   productID  ratings\n",
      "0    AKM1MP6P0OYPR  0132793040      5.0\n",
      "1   A2CX7LUOHB2NDG  0321732944      5.0\n",
      "5   A1QGNMC6O1VW39  0511189877      5.0\n",
      "7   A2TY0BTJOTENPG  0511189877      5.0\n",
      "8   A34ATBPOK6HCHY  0511189877      5.0\n",
      "9    A89DO69P0XZ27  0511189877      5.0\n",
      "10   AZYNQZ94U6VDB  0511189877      5.0\n",
      "11  A1DA3W4GTFXP6O  0528881469      5.0\n",
      "13   AO94DHGC771SJ  0528881469      5.0\n",
      "20  A37K02NKUIT68K  0528881469      5.0\n"
     ]
    }
   ],
   "source": [
    "print ('Top 10 highly rated products \\n',recomm_df.nlargest(10,'ratings')) # en yüksek rating alan 10 ürün"
   ]
  },
  {
   "cell_type": "markdown",
   "metadata": {},
   "source": [
    "# Take a subset of the dataset to make it less sparse/ denser. ( For example, keep the users only who has given 50 or more number of ratings )"
   ]
  },
  {
   "cell_type": "code",
   "execution_count": 30,
   "metadata": {},
   "outputs": [
    {
     "name": "stdout",
     "output_type": "stream",
     "text": [
      "Index(['userID', 'productID', 'ratings'], dtype='object')\n"
     ]
    }
   ],
   "source": [
    "print(recomm_df.columns)\n",
    "correct_column_name = 'userId'\n",
    "recomm_df.rename(columns={'userId': correct_column_name}, inplace=True)"
   ]
  },
  {
   "cell_type": "code",
   "execution_count": 37,
   "metadata": {},
   "outputs": [],
   "source": [
    "userID = recomm_df.groupby('userID').count() \n",
    "top_user = userID[userID['ratings'] >= 50].index # 50'den fazla rating alan userlar\n",
    "topuser_ratings_df = recomm_df[recomm_df['userID'].isin(top_user)] # 50'den fazla rating alan userların ratingleri"
   ]
  },
  {
   "cell_type": "code",
   "execution_count": 38,
   "metadata": {},
   "outputs": [
    {
     "data": {
      "text/plain": [
       "(125871, 3)"
      ]
     },
     "execution_count": 38,
     "metadata": {},
     "output_type": "execute_result"
    }
   ],
   "source": [
    "topuser_ratings_df.shape # 50'den fazla rating alan userların rating sayısı"
   ]
  },
  {
   "cell_type": "code",
   "execution_count": 39,
   "metadata": {},
   "outputs": [
    {
     "data": {
      "text/html": [
       "<div>\n",
       "<style scoped>\n",
       "    .dataframe tbody tr th:only-of-type {\n",
       "        vertical-align: middle;\n",
       "    }\n",
       "\n",
       "    .dataframe tbody tr th {\n",
       "        vertical-align: top;\n",
       "    }\n",
       "\n",
       "    .dataframe thead th {\n",
       "        text-align: right;\n",
       "    }\n",
       "</style>\n",
       "<table border=\"1\" class=\"dataframe\">\n",
       "  <thead>\n",
       "    <tr style=\"text-align: right;\">\n",
       "      <th></th>\n",
       "      <th>userID</th>\n",
       "      <th>productID</th>\n",
       "      <th>ratings</th>\n",
       "    </tr>\n",
       "  </thead>\n",
       "  <tbody>\n",
       "    <tr>\n",
       "      <th>94</th>\n",
       "      <td>A3BY5KCNQZXV5U</td>\n",
       "      <td>0594451647</td>\n",
       "      <td>5.0</td>\n",
       "    </tr>\n",
       "    <tr>\n",
       "      <th>118</th>\n",
       "      <td>AT09WGFUM934H</td>\n",
       "      <td>0594481813</td>\n",
       "      <td>3.0</td>\n",
       "    </tr>\n",
       "    <tr>\n",
       "      <th>177</th>\n",
       "      <td>A32HSNCNPRUMTR</td>\n",
       "      <td>0970407998</td>\n",
       "      <td>1.0</td>\n",
       "    </tr>\n",
       "    <tr>\n",
       "      <th>178</th>\n",
       "      <td>A17HMM1M7T9PJ1</td>\n",
       "      <td>0970407998</td>\n",
       "      <td>4.0</td>\n",
       "    </tr>\n",
       "    <tr>\n",
       "      <th>492</th>\n",
       "      <td>A3CLWR1UUZT6TG</td>\n",
       "      <td>0972683275</td>\n",
       "      <td>5.0</td>\n",
       "    </tr>\n",
       "  </tbody>\n",
       "</table>\n",
       "</div>"
      ],
      "text/plain": [
       "             userID   productID  ratings\n",
       "94   A3BY5KCNQZXV5U  0594451647      5.0\n",
       "118   AT09WGFUM934H  0594481813      3.0\n",
       "177  A32HSNCNPRUMTR  0970407998      1.0\n",
       "178  A17HMM1M7T9PJ1  0970407998      4.0\n",
       "492  A3CLWR1UUZT6TG  0972683275      5.0"
      ]
     },
     "execution_count": 39,
     "metadata": {},
     "output_type": "execute_result"
    }
   ],
   "source": [
    "topuser_ratings_df.head() "
   ]
  },
  {
   "cell_type": "code",
   "execution_count": 40,
   "metadata": {},
   "outputs": [
    {
     "data": {
      "text/html": [
       "<div>\n",
       "<style scoped>\n",
       "    .dataframe tbody tr th:only-of-type {\n",
       "        vertical-align: middle;\n",
       "    }\n",
       "\n",
       "    .dataframe tbody tr th {\n",
       "        vertical-align: top;\n",
       "    }\n",
       "\n",
       "    .dataframe thead th {\n",
       "        text-align: right;\n",
       "    }\n",
       "</style>\n",
       "<table border=\"1\" class=\"dataframe\">\n",
       "  <thead>\n",
       "    <tr style=\"text-align: right;\">\n",
       "      <th></th>\n",
       "      <th>userID</th>\n",
       "      <th>productID</th>\n",
       "      <th>ratings</th>\n",
       "    </tr>\n",
       "  </thead>\n",
       "  <tbody>\n",
       "    <tr>\n",
       "      <th>94</th>\n",
       "      <td>A3BY5KCNQZXV5U</td>\n",
       "      <td>0594451647</td>\n",
       "      <td>5.0</td>\n",
       "    </tr>\n",
       "    <tr>\n",
       "      <th>4256669</th>\n",
       "      <td>A680RUE1FDO8B</td>\n",
       "      <td>B004M8RWDE</td>\n",
       "      <td>5.0</td>\n",
       "    </tr>\n",
       "    <tr>\n",
       "      <th>4258497</th>\n",
       "      <td>AOMEH9W6LHC4S</td>\n",
       "      <td>B004M8SBNE</td>\n",
       "      <td>5.0</td>\n",
       "    </tr>\n",
       "    <tr>\n",
       "      <th>4258199</th>\n",
       "      <td>A2GKMXRLI7KLFP</td>\n",
       "      <td>B004M8SBD4</td>\n",
       "      <td>5.0</td>\n",
       "    </tr>\n",
       "    <tr>\n",
       "      <th>4258099</th>\n",
       "      <td>A1UNJ46NSB352E</td>\n",
       "      <td>B004M8SBCK</td>\n",
       "      <td>5.0</td>\n",
       "    </tr>\n",
       "  </tbody>\n",
       "</table>\n",
       "</div>"
      ],
      "text/plain": [
       "                 userID   productID  ratings\n",
       "94       A3BY5KCNQZXV5U  0594451647      5.0\n",
       "4256669   A680RUE1FDO8B  B004M8RWDE      5.0\n",
       "4258497   AOMEH9W6LHC4S  B004M8SBNE      5.0\n",
       "4258199  A2GKMXRLI7KLFP  B004M8SBD4      5.0\n",
       "4258099  A1UNJ46NSB352E  B004M8SBCK      5.0"
      ]
     },
     "execution_count": 40,
     "metadata": {},
     "output_type": "execute_result"
    }
   ],
   "source": [
    "topuser_ratings_df.sort_values(by='ratings', ascending=False).head() # en yüksek rating alan userlar"
   ]
  },
  {
   "cell_type": "markdown",
   "metadata": {},
   "source": [
    "\n",
    "# We kept data only for products that have 50 or more ratings"
   ]
  },
  {
   "cell_type": "code",
   "execution_count": 41,
   "metadata": {},
   "outputs": [],
   "source": [
    "prodID = recomm_df.groupby('productID').count()  "
   ]
  },
  {
   "cell_type": "code",
   "execution_count": 42,
   "metadata": {},
   "outputs": [],
   "source": [
    "top_prod = prodID[prodID['ratings'] >= 50].index "
   ]
  },
  {
   "cell_type": "code",
   "execution_count": 43,
   "metadata": {},
   "outputs": [],
   "source": [
    "top_ratings_df = topuser_ratings_df[topuser_ratings_df['productID'].isin(top_prod)]"
   ]
  },
  {
   "cell_type": "code",
   "execution_count": 44,
   "metadata": {},
   "outputs": [
    {
     "data": {
      "text/html": [
       "<div>\n",
       "<style scoped>\n",
       "    .dataframe tbody tr th:only-of-type {\n",
       "        vertical-align: middle;\n",
       "    }\n",
       "\n",
       "    .dataframe tbody tr th {\n",
       "        vertical-align: top;\n",
       "    }\n",
       "\n",
       "    .dataframe thead th {\n",
       "        text-align: right;\n",
       "    }\n",
       "</style>\n",
       "<table border=\"1\" class=\"dataframe\">\n",
       "  <thead>\n",
       "    <tr style=\"text-align: right;\">\n",
       "      <th></th>\n",
       "      <th>userID</th>\n",
       "      <th>productID</th>\n",
       "      <th>ratings</th>\n",
       "    </tr>\n",
       "  </thead>\n",
       "  <tbody>\n",
       "    <tr>\n",
       "      <th>492</th>\n",
       "      <td>A3CLWR1UUZT6TG</td>\n",
       "      <td>0972683275</td>\n",
       "      <td>5.0</td>\n",
       "    </tr>\n",
       "    <tr>\n",
       "      <th>4220481</th>\n",
       "      <td>A2AY4YUOX2N1BQ</td>\n",
       "      <td>B004KJE8FU</td>\n",
       "      <td>5.0</td>\n",
       "    </tr>\n",
       "    <tr>\n",
       "      <th>4217715</th>\n",
       "      <td>A2Q204DY2L7YRP</td>\n",
       "      <td>B004K8WPUQ</td>\n",
       "      <td>5.0</td>\n",
       "    </tr>\n",
       "    <tr>\n",
       "      <th>4218748</th>\n",
       "      <td>A87CILADRIZW0</td>\n",
       "      <td>B004KA8Y4U</td>\n",
       "      <td>5.0</td>\n",
       "    </tr>\n",
       "    <tr>\n",
       "      <th>4219205</th>\n",
       "      <td>A11KZ906QD08C5</td>\n",
       "      <td>B004KCI80I</td>\n",
       "      <td>5.0</td>\n",
       "    </tr>\n",
       "  </tbody>\n",
       "</table>\n",
       "</div>"
      ],
      "text/plain": [
       "                 userID   productID  ratings\n",
       "492      A3CLWR1UUZT6TG  0972683275      5.0\n",
       "4220481  A2AY4YUOX2N1BQ  B004KJE8FU      5.0\n",
       "4217715  A2Q204DY2L7YRP  B004K8WPUQ      5.0\n",
       "4218748   A87CILADRIZW0  B004KA8Y4U      5.0\n",
       "4219205  A11KZ906QD08C5  B004KCI80I      5.0"
      ]
     },
     "execution_count": 44,
     "metadata": {},
     "output_type": "execute_result"
    }
   ],
   "source": [
    "top_ratings_df.sort_values(by='ratings', ascending=False).head()"
   ]
  },
  {
   "cell_type": "code",
   "execution_count": 45,
   "metadata": {},
   "outputs": [
    {
     "data": {
      "text/plain": [
       "(79182, 3)"
      ]
     },
     "execution_count": 45,
     "metadata": {},
     "output_type": "execute_result"
    }
   ],
   "source": [
    "top_ratings_df.shape"
   ]
  },
  {
   "cell_type": "markdown",
   "metadata": {},
   "source": [
    "# Split the data randomly into train and test dataset. We split 80/20"
   ]
  },
  {
   "cell_type": "code",
   "execution_count": 46,
   "metadata": {},
   "outputs": [],
   "source": [
    "from sklearn.model_selection import train_test_split\n",
    "train_data, test_data = train_test_split(top_ratings_df, test_size = 0.20, random_state=0)"
   ]
  },
  {
   "cell_type": "code",
   "execution_count": 47,
   "metadata": {},
   "outputs": [
    {
     "data": {
      "text/html": [
       "<div>\n",
       "<style scoped>\n",
       "    .dataframe tbody tr th:only-of-type {\n",
       "        vertical-align: middle;\n",
       "    }\n",
       "\n",
       "    .dataframe tbody tr th {\n",
       "        vertical-align: top;\n",
       "    }\n",
       "\n",
       "    .dataframe thead th {\n",
       "        text-align: right;\n",
       "    }\n",
       "</style>\n",
       "<table border=\"1\" class=\"dataframe\">\n",
       "  <thead>\n",
       "    <tr style=\"text-align: right;\">\n",
       "      <th></th>\n",
       "      <th>userID</th>\n",
       "      <th>productID</th>\n",
       "      <th>ratings</th>\n",
       "    </tr>\n",
       "  </thead>\n",
       "  <tbody>\n",
       "    <tr>\n",
       "      <th>837326</th>\n",
       "      <td>A15T9G38F589KM</td>\n",
       "      <td>B000E6NGBU</td>\n",
       "      <td>5.0</td>\n",
       "    </tr>\n",
       "    <tr>\n",
       "      <th>5411754</th>\n",
       "      <td>AUK79PXTAOJP9</td>\n",
       "      <td>B006JMI604</td>\n",
       "      <td>5.0</td>\n",
       "    </tr>\n",
       "    <tr>\n",
       "      <th>6059888</th>\n",
       "      <td>A2WB7LZ595CR50</td>\n",
       "      <td>B00846Z34K</td>\n",
       "      <td>1.0</td>\n",
       "    </tr>\n",
       "    <tr>\n",
       "      <th>773127</th>\n",
       "      <td>A2FHTXLKY1XJDB</td>\n",
       "      <td>B000BQ7GW8</td>\n",
       "      <td>3.0</td>\n",
       "    </tr>\n",
       "    <tr>\n",
       "      <th>4947985</th>\n",
       "      <td>A2OOLI2WFY4L2</td>\n",
       "      <td>B005GTO07O</td>\n",
       "      <td>4.0</td>\n",
       "    </tr>\n",
       "  </tbody>\n",
       "</table>\n",
       "</div>"
      ],
      "text/plain": [
       "                 userID   productID  ratings\n",
       "837326   A15T9G38F589KM  B000E6NGBU      5.0\n",
       "5411754   AUK79PXTAOJP9  B006JMI604      5.0\n",
       "6059888  A2WB7LZ595CR50  B00846Z34K      1.0\n",
       "773127   A2FHTXLKY1XJDB  B000BQ7GW8      3.0\n",
       "4947985   A2OOLI2WFY4L2  B005GTO07O      4.0"
      ]
     },
     "execution_count": 47,
     "metadata": {},
     "output_type": "execute_result"
    }
   ],
   "source": [
    "train_data.head()"
   ]
  },
  {
   "cell_type": "code",
   "execution_count": 48,
   "metadata": {},
   "outputs": [
    {
     "data": {
      "text/html": [
       "<div>\n",
       "<style scoped>\n",
       "    .dataframe tbody tr th:only-of-type {\n",
       "        vertical-align: middle;\n",
       "    }\n",
       "\n",
       "    .dataframe tbody tr th {\n",
       "        vertical-align: top;\n",
       "    }\n",
       "\n",
       "    .dataframe thead th {\n",
       "        text-align: right;\n",
       "    }\n",
       "</style>\n",
       "<table border=\"1\" class=\"dataframe\">\n",
       "  <thead>\n",
       "    <tr style=\"text-align: right;\">\n",
       "      <th></th>\n",
       "      <th>userID</th>\n",
       "      <th>productID</th>\n",
       "      <th>ratings</th>\n",
       "    </tr>\n",
       "  </thead>\n",
       "  <tbody>\n",
       "    <tr>\n",
       "      <th>6562653</th>\n",
       "      <td>AWH2AY17ZU7W2</td>\n",
       "      <td>B009A6CZ30</td>\n",
       "      <td>5.0</td>\n",
       "    </tr>\n",
       "    <tr>\n",
       "      <th>1001830</th>\n",
       "      <td>A1SHHQSPOWR00F</td>\n",
       "      <td>B000HGIWN4</td>\n",
       "      <td>3.0</td>\n",
       "    </tr>\n",
       "    <tr>\n",
       "      <th>3904732</th>\n",
       "      <td>A1PVJICI412IN4</td>\n",
       "      <td>B00466X9SY</td>\n",
       "      <td>5.0</td>\n",
       "    </tr>\n",
       "    <tr>\n",
       "      <th>7600678</th>\n",
       "      <td>AGYH5U11ZKPFB</td>\n",
       "      <td>B00F3ZN0CC</td>\n",
       "      <td>4.0</td>\n",
       "    </tr>\n",
       "    <tr>\n",
       "      <th>2743475</th>\n",
       "      <td>AMKNPIDFLRFMP</td>\n",
       "      <td>B002O3W2OI</td>\n",
       "      <td>2.0</td>\n",
       "    </tr>\n",
       "  </tbody>\n",
       "</table>\n",
       "</div>"
      ],
      "text/plain": [
       "                 userID   productID  ratings\n",
       "6562653   AWH2AY17ZU7W2  B009A6CZ30      5.0\n",
       "1001830  A1SHHQSPOWR00F  B000HGIWN4      3.0\n",
       "3904732  A1PVJICI412IN4  B00466X9SY      5.0\n",
       "7600678   AGYH5U11ZKPFB  B00F3ZN0CC      4.0\n",
       "2743475   AMKNPIDFLRFMP  B002O3W2OI      2.0"
      ]
     },
     "execution_count": 48,
     "metadata": {},
     "output_type": "execute_result"
    }
   ],
   "source": [
    "test_data.head()"
   ]
  },
  {
   "cell_type": "markdown",
   "metadata": {},
   "source": [
    "# Building Popularity Recommender model."
   ]
  },
  {
   "cell_type": "code",
   "execution_count": 49,
   "metadata": {},
   "outputs": [
    {
     "name": "stdout",
     "output_type": "stream",
     "text": [
      "        productID   ratings\n",
      "0      0972683275  4.500000\n",
      "1      1400501466  3.333333\n",
      "2      1400501520  5.000000\n",
      "3      1400501776  4.000000\n",
      "4      1400532620  1.000000\n",
      "...           ...       ...\n",
      "15668  B00K7O2DJU  5.000000\n",
      "15669  B00K91DB7Y  3.875000\n",
      "15670  B00KFAGCUM  4.833333\n",
      "15671  B00KWHMR6G  2.000000\n",
      "15672  B00L3YHF6O  5.000000\n",
      "\n",
      "[15673 rows x 2 columns]\n"
     ]
    }
   ],
   "source": [
    "train_data['ratings'] = pd.to_numeric(train_data['ratings'], errors='coerce')\n",
    "\n",
    "#Drop rows with NaN values in 'ratings' column\n",
    "train_data = train_data.dropna(subset=['ratings'])\n",
    "\n",
    "\n",
    "#Group by 'productID' and calculate the mean of 'ratings'\n",
    "train_data_grouped = train_data.groupby('productID')['ratings'].mean().reset_index()\n",
    "\n",
    "\n",
    "print(train_data_grouped)"
   ]
  },
  {
   "cell_type": "code",
   "execution_count": 50,
   "metadata": {},
   "outputs": [
    {
     "data": {
      "text/html": [
       "<div>\n",
       "<style scoped>\n",
       "    .dataframe tbody tr th:only-of-type {\n",
       "        vertical-align: middle;\n",
       "    }\n",
       "\n",
       "    .dataframe tbody tr th {\n",
       "        vertical-align: top;\n",
       "    }\n",
       "\n",
       "    .dataframe thead th {\n",
       "        text-align: right;\n",
       "    }\n",
       "</style>\n",
       "<table border=\"1\" class=\"dataframe\">\n",
       "  <thead>\n",
       "    <tr style=\"text-align: right;\">\n",
       "      <th></th>\n",
       "      <th>productID</th>\n",
       "      <th>ratings</th>\n",
       "    </tr>\n",
       "  </thead>\n",
       "  <tbody>\n",
       "    <tr>\n",
       "      <th>0</th>\n",
       "      <td>0972683275</td>\n",
       "      <td>4.500000</td>\n",
       "    </tr>\n",
       "    <tr>\n",
       "      <th>1</th>\n",
       "      <td>1400501466</td>\n",
       "      <td>3.333333</td>\n",
       "    </tr>\n",
       "    <tr>\n",
       "      <th>2</th>\n",
       "      <td>1400501520</td>\n",
       "      <td>5.000000</td>\n",
       "    </tr>\n",
       "    <tr>\n",
       "      <th>3</th>\n",
       "      <td>1400501776</td>\n",
       "      <td>4.000000</td>\n",
       "    </tr>\n",
       "    <tr>\n",
       "      <th>4</th>\n",
       "      <td>1400532620</td>\n",
       "      <td>1.000000</td>\n",
       "    </tr>\n",
       "  </tbody>\n",
       "</table>\n",
       "</div>"
      ],
      "text/plain": [
       "    productID   ratings\n",
       "0  0972683275  4.500000\n",
       "1  1400501466  3.333333\n",
       "2  1400501520  5.000000\n",
       "3  1400501776  4.000000\n",
       "4  1400532620  1.000000"
      ]
     },
     "execution_count": 50,
     "metadata": {},
     "output_type": "execute_result"
    }
   ],
   "source": [
    "train_data_grouped.head()"
   ]
  },
  {
   "cell_type": "code",
   "execution_count": 51,
   "metadata": {},
   "outputs": [],
   "source": [
    "train_data_sort = train_data_grouped.sort_values(['ratings', 'productID'], ascending=False)  "
   ]
  },
  {
   "cell_type": "code",
   "execution_count": 52,
   "metadata": {},
   "outputs": [
    {
     "data": {
      "text/html": [
       "<div>\n",
       "<style scoped>\n",
       "    .dataframe tbody tr th:only-of-type {\n",
       "        vertical-align: middle;\n",
       "    }\n",
       "\n",
       "    .dataframe tbody tr th {\n",
       "        vertical-align: top;\n",
       "    }\n",
       "\n",
       "    .dataframe thead th {\n",
       "        text-align: right;\n",
       "    }\n",
       "</style>\n",
       "<table border=\"1\" class=\"dataframe\">\n",
       "  <thead>\n",
       "    <tr style=\"text-align: right;\">\n",
       "      <th></th>\n",
       "      <th>productID</th>\n",
       "      <th>ratings</th>\n",
       "    </tr>\n",
       "  </thead>\n",
       "  <tbody>\n",
       "    <tr>\n",
       "      <th>15672</th>\n",
       "      <td>B00L3YHF6O</td>\n",
       "      <td>5.0</td>\n",
       "    </tr>\n",
       "    <tr>\n",
       "      <th>15668</th>\n",
       "      <td>B00K7O2DJU</td>\n",
       "      <td>5.0</td>\n",
       "    </tr>\n",
       "    <tr>\n",
       "      <th>15667</th>\n",
       "      <td>B00K4VQZCM</td>\n",
       "      <td>5.0</td>\n",
       "    </tr>\n",
       "    <tr>\n",
       "      <th>15666</th>\n",
       "      <td>B00K0OBEE2</td>\n",
       "      <td>5.0</td>\n",
       "    </tr>\n",
       "    <tr>\n",
       "      <th>15662</th>\n",
       "      <td>B00JLADOGW</td>\n",
       "      <td>5.0</td>\n",
       "    </tr>\n",
       "  </tbody>\n",
       "</table>\n",
       "</div>"
      ],
      "text/plain": [
       "        productID  ratings\n",
       "15672  B00L3YHF6O      5.0\n",
       "15668  B00K7O2DJU      5.0\n",
       "15667  B00K4VQZCM      5.0\n",
       "15666  B00K0OBEE2      5.0\n",
       "15662  B00JLADOGW      5.0"
      ]
     },
     "execution_count": 52,
     "metadata": {},
     "output_type": "execute_result"
    }
   ],
   "source": [
    "train_data_sort.head()"
   ]
  },
  {
   "cell_type": "code",
   "execution_count": 53,
   "metadata": {},
   "outputs": [
    {
     "data": {
      "text/plain": [
       "productID\n",
       "B0088CJT4U    162\n",
       "B003ES5ZUU    146\n",
       "B007WTAJTO    139\n",
       "B000N99BBC    132\n",
       "B00829TIEK    118\n",
       "B00829THK0    113\n",
       "B008DWCRQW    111\n",
       "B002R5AM7C    108\n",
       "B004CLYEDC     94\n",
       "B002SZEOLG     88\n",
       "Name: ratings, dtype: int64"
      ]
     },
     "execution_count": 53,
     "metadata": {},
     "output_type": "execute_result"
    }
   ],
   "source": [
    "train_data.groupby('productID')['ratings'].count().sort_values(ascending=False).head(10)   # en çok rating alan 10 ürün"
   ]
  },
  {
   "cell_type": "code",
   "execution_count": 54,
   "metadata": {},
   "outputs": [],
   "source": [
    "ratings_mean_count = pd.DataFrame(train_data.groupby('productID')['ratings'].mean())   # her bir ürün için ortalama rating"
   ]
  },
  {
   "cell_type": "code",
   "execution_count": 55,
   "metadata": {},
   "outputs": [],
   "source": [
    "ratings_mean_count['rating_counts'] = pd.DataFrame(train_data.groupby('productID')['ratings'].count())  "
   ]
  },
  {
   "cell_type": "code",
   "execution_count": 56,
   "metadata": {},
   "outputs": [
    {
     "data": {
      "text/html": [
       "<div>\n",
       "<style scoped>\n",
       "    .dataframe tbody tr th:only-of-type {\n",
       "        vertical-align: middle;\n",
       "    }\n",
       "\n",
       "    .dataframe tbody tr th {\n",
       "        vertical-align: top;\n",
       "    }\n",
       "\n",
       "    .dataframe thead th {\n",
       "        text-align: right;\n",
       "    }\n",
       "</style>\n",
       "<table border=\"1\" class=\"dataframe\">\n",
       "  <thead>\n",
       "    <tr style=\"text-align: right;\">\n",
       "      <th></th>\n",
       "      <th>ratings</th>\n",
       "      <th>rating_counts</th>\n",
       "    </tr>\n",
       "    <tr>\n",
       "      <th>productID</th>\n",
       "      <th></th>\n",
       "      <th></th>\n",
       "    </tr>\n",
       "  </thead>\n",
       "  <tbody>\n",
       "    <tr>\n",
       "      <th>0972683275</th>\n",
       "      <td>4.500000</td>\n",
       "      <td>2</td>\n",
       "    </tr>\n",
       "    <tr>\n",
       "      <th>1400501466</th>\n",
       "      <td>3.333333</td>\n",
       "      <td>6</td>\n",
       "    </tr>\n",
       "    <tr>\n",
       "      <th>1400501520</th>\n",
       "      <td>5.000000</td>\n",
       "      <td>1</td>\n",
       "    </tr>\n",
       "    <tr>\n",
       "      <th>1400501776</th>\n",
       "      <td>4.000000</td>\n",
       "      <td>1</td>\n",
       "    </tr>\n",
       "    <tr>\n",
       "      <th>1400532620</th>\n",
       "      <td>1.000000</td>\n",
       "      <td>1</td>\n",
       "    </tr>\n",
       "  </tbody>\n",
       "</table>\n",
       "</div>"
      ],
      "text/plain": [
       "             ratings  rating_counts\n",
       "productID                          \n",
       "0972683275  4.500000              2\n",
       "1400501466  3.333333              6\n",
       "1400501520  5.000000              1\n",
       "1400501776  4.000000              1\n",
       "1400532620  1.000000              1"
      ]
     },
     "execution_count": 56,
     "metadata": {},
     "output_type": "execute_result"
    }
   ],
   "source": [
    "ratings_mean_count.head()  "
   ]
  },
  {
   "cell_type": "code",
   "execution_count": 57,
   "metadata": {},
   "outputs": [],
   "source": [
    "pred_df = test_data[['productID', 'ratings']]"
   ]
  },
  {
   "cell_type": "code",
   "execution_count": 58,
   "metadata": {},
   "outputs": [],
   "source": [
    "pred_df.rename(columns = {'ratings' : 'true_ratings'}, inplace=True)"
   ]
  },
  {
   "cell_type": "code",
   "execution_count": 59,
   "metadata": {},
   "outputs": [],
   "source": [
    "pred_df = pred_df.merge(train_data_sort, left_on='productID', right_on = 'productID')"
   ]
  },
  {
   "cell_type": "code",
   "execution_count": 60,
   "metadata": {},
   "outputs": [
    {
     "data": {
      "text/html": [
       "<div>\n",
       "<style scoped>\n",
       "    .dataframe tbody tr th:only-of-type {\n",
       "        vertical-align: middle;\n",
       "    }\n",
       "\n",
       "    .dataframe tbody tr th {\n",
       "        vertical-align: top;\n",
       "    }\n",
       "\n",
       "    .dataframe thead th {\n",
       "        text-align: right;\n",
       "    }\n",
       "</style>\n",
       "<table border=\"1\" class=\"dataframe\">\n",
       "  <thead>\n",
       "    <tr style=\"text-align: right;\">\n",
       "      <th></th>\n",
       "      <th>productID</th>\n",
       "      <th>true_ratings</th>\n",
       "      <th>ratings</th>\n",
       "    </tr>\n",
       "  </thead>\n",
       "  <tbody>\n",
       "    <tr>\n",
       "      <th>0</th>\n",
       "      <td>B009A6CZ30</td>\n",
       "      <td>5.0</td>\n",
       "      <td>4.52381</td>\n",
       "    </tr>\n",
       "    <tr>\n",
       "      <th>1</th>\n",
       "      <td>B009A6CZ30</td>\n",
       "      <td>4.0</td>\n",
       "      <td>4.52381</td>\n",
       "    </tr>\n",
       "    <tr>\n",
       "      <th>2</th>\n",
       "      <td>B009A6CZ30</td>\n",
       "      <td>5.0</td>\n",
       "      <td>4.52381</td>\n",
       "    </tr>\n",
       "  </tbody>\n",
       "</table>\n",
       "</div>"
      ],
      "text/plain": [
       "    productID  true_ratings  ratings\n",
       "0  B009A6CZ30           5.0  4.52381\n",
       "1  B009A6CZ30           4.0  4.52381\n",
       "2  B009A6CZ30           5.0  4.52381"
      ]
     },
     "execution_count": 60,
     "metadata": {},
     "output_type": "execute_result"
    }
   ],
   "source": [
    "pred_df.head(3)"
   ]
  },
  {
   "cell_type": "code",
   "execution_count": 61,
   "metadata": {},
   "outputs": [],
   "source": [
    "pred_df.rename(columns = {'ratings' : 'predicted_ratings'}, inplace = True)"
   ]
  },
  {
   "cell_type": "code",
   "execution_count": 62,
   "metadata": {},
   "outputs": [
    {
     "data": {
      "text/html": [
       "<div>\n",
       "<style scoped>\n",
       "    .dataframe tbody tr th:only-of-type {\n",
       "        vertical-align: middle;\n",
       "    }\n",
       "\n",
       "    .dataframe tbody tr th {\n",
       "        vertical-align: top;\n",
       "    }\n",
       "\n",
       "    .dataframe thead th {\n",
       "        text-align: right;\n",
       "    }\n",
       "</style>\n",
       "<table border=\"1\" class=\"dataframe\">\n",
       "  <thead>\n",
       "    <tr style=\"text-align: right;\">\n",
       "      <th></th>\n",
       "      <th>productID</th>\n",
       "      <th>true_ratings</th>\n",
       "      <th>predicted_ratings</th>\n",
       "    </tr>\n",
       "  </thead>\n",
       "  <tbody>\n",
       "    <tr>\n",
       "      <th>0</th>\n",
       "      <td>B009A6CZ30</td>\n",
       "      <td>5.0</td>\n",
       "      <td>4.523810</td>\n",
       "    </tr>\n",
       "    <tr>\n",
       "      <th>1</th>\n",
       "      <td>B009A6CZ30</td>\n",
       "      <td>4.0</td>\n",
       "      <td>4.523810</td>\n",
       "    </tr>\n",
       "    <tr>\n",
       "      <th>2</th>\n",
       "      <td>B009A6CZ30</td>\n",
       "      <td>5.0</td>\n",
       "      <td>4.523810</td>\n",
       "    </tr>\n",
       "    <tr>\n",
       "      <th>3</th>\n",
       "      <td>B009A6CZ30</td>\n",
       "      <td>5.0</td>\n",
       "      <td>4.523810</td>\n",
       "    </tr>\n",
       "    <tr>\n",
       "      <th>4</th>\n",
       "      <td>B000HGIWN4</td>\n",
       "      <td>3.0</td>\n",
       "      <td>4.857143</td>\n",
       "    </tr>\n",
       "  </tbody>\n",
       "</table>\n",
       "</div>"
      ],
      "text/plain": [
       "    productID  true_ratings  predicted_ratings\n",
       "0  B009A6CZ30           5.0           4.523810\n",
       "1  B009A6CZ30           4.0           4.523810\n",
       "2  B009A6CZ30           5.0           4.523810\n",
       "3  B009A6CZ30           5.0           4.523810\n",
       "4  B000HGIWN4           3.0           4.857143"
      ]
     },
     "execution_count": 62,
     "metadata": {},
     "output_type": "execute_result"
    }
   ],
   "source": [
    "pred_df.head()"
   ]
  },
  {
   "cell_type": "code",
   "execution_count": 63,
   "metadata": {},
   "outputs": [
    {
     "name": "stdout",
     "output_type": "stream",
     "text": [
      "The RMSE value for Popularity Recommender model is 1.0815377502945511\n"
     ]
    }
   ],
   "source": [
    "import sklearn.metrics as metric\n",
    "from math import sqrt\n",
    "MSE = metric.mean_squared_error(pred_df['true_ratings'], pred_df['predicted_ratings'])\n",
    "print('The RMSE value for Popularity Recommender model is', sqrt(MSE))"
   ]
  },
  {
   "cell_type": "markdown",
   "metadata": {},
   "source": [
    "**The RMSE value for Popularity Recommender model is 1.0815**"
   ]
  },
  {
   "cell_type": "markdown",
   "metadata": {},
   "source": [
    "# Build Collaborative Filtering model"
   ]
  },
  {
   "cell_type": "code",
   "execution_count": 82,
   "metadata": {},
   "outputs": [],
   "source": [
    "import surprise\n",
    "from surprise import KNNWithMeans\n",
    "from surprise.model_selection import GridSearchCV\n",
    "from surprise import Dataset\n",
    "from surprise import accuracy\n",
    "from surprise import Reader\n",
    "from surprise.model_selection import train_test_split\n",
    "from surprise import KNNBasic, KNNWithMeans, KNNWithZScore, SVD, SVDpp, CoClustering, NMF, SlopeOne"
   ]
  },
  {
   "cell_type": "code",
   "execution_count": 83,
   "metadata": {},
   "outputs": [],
   "source": [
    "reader = Reader(rating_scale=(1, 5))"
   ]
  },
  {
   "cell_type": "markdown",
   "metadata": {},
   "source": [
    "# We convert Pandas Daataframe to Surpise format"
   ]
  },
  {
   "cell_type": "code",
   "execution_count": 84,
   "metadata": {},
   "outputs": [],
   "source": [
    "data = Dataset.load_from_df(train_data[['userID', 'productID', 'ratings']], reader)"
   ]
  },
  {
   "cell_type": "code",
   "execution_count": 85,
   "metadata": {},
   "outputs": [],
   "source": [
    "# Split data to train and test\n",
    "from surprise.model_selection import train_test_split\n",
    "trainset, testset = train_test_split(data, test_size=.3,random_state=0)"
   ]
  },
  {
   "cell_type": "code",
   "execution_count": 86,
   "metadata": {},
   "outputs": [
    {
     "data": {
      "text/plain": [
       "surprise.trainset.Trainset"
      ]
     },
     "execution_count": 86,
     "metadata": {},
     "output_type": "execute_result"
    }
   ],
   "source": [
    "type(trainset)"
   ]
  },
  {
   "cell_type": "markdown",
   "metadata": {},
   "source": [
    "# Training the model"
   ]
  },
  {
   "cell_type": "markdown",
   "metadata": {},
   "source": [
    "**KNNWithMeans**"
   ]
  },
  {
   "cell_type": "code",
   "execution_count": 115,
   "metadata": {},
   "outputs": [
    {
     "name": "stdout",
     "output_type": "stream",
     "text": [
      "Estimating biases using als...\n",
      "Computing the pearson_baseline similarity matrix...\n",
      "Done computing similarity matrix.\n"
     ]
    },
    {
     "data": {
      "text/plain": [
       "<surprise.prediction_algorithms.knns.KNNWithMeans at 0x1ccc34b93a0>"
      ]
     },
     "execution_count": 115,
     "metadata": {},
     "output_type": "execute_result"
    }
   ],
   "source": [
    "algo_user = KNNWithMeans(k=10, min_k=6, sim_options={'name': 'pearson_baseline', 'user_based': True})\n",
    "algo_user.fit(trainset)"
   ]
  },
  {
   "cell_type": "markdown",
   "metadata": {},
   "source": [
    "**SVD**"
   ]
  },
  {
   "cell_type": "code",
   "execution_count": 116,
   "metadata": {},
   "outputs": [],
   "source": [
    "def evaluate_algorithms(data):\n",
    "    algorithms = {\n",
    "        'KNN Basic': KNNBasic(),\n",
    "        'KNN With Means': KNNWithMeans(),\n",
    "        'KNN With ZScore': KNNWithZScore(),\n",
    "        'SVD': SVD(),\n",
    "        'SVDpp': SVDpp(),\n",
    "    }\n",
    "\n",
    "   "
   ]
  },
  {
   "cell_type": "code",
   "execution_count": 117,
   "metadata": {},
   "outputs": [],
   "source": [
    "param_grid = {\n",
    "    'n_epochs': [20, 25], # number of iterations\n",
    "    'lr_all': [0.007, 0.009, 0.01], # learning rate\n",
    "    'reg_all': [0.4, 0.6] # regularization term\n",
    "    }"
   ]
  },
  {
   "cell_type": "code",
   "execution_count": 118,
   "metadata": {},
   "outputs": [
    {
     "name": "stdout",
     "output_type": "stream",
     "text": [
      "Best RMSE for SVD: 0.9572690395866879\n",
      "Best parameters for SVD: {'n_epochs': 20, 'lr_all': 0.007, 'reg_all': 0.4}\n",
      "Best RMSE for SVDpp: 0.9569773590616748\n",
      "Best parameters for SVDpp: {'n_epochs': 20, 'lr_all': 0.007, 'reg_all': 0.4}\n"
     ]
    }
   ],
   "source": [
    "gs_svd = GridSearchCV(SVD, param_grid, measures=['rmse', 'mae'], cv=5, n_jobs=-1) # cross-validation\n",
    "gs_svd.fit(data)\n",
    "\n",
    "#Perform grid search for SVDpp\n",
    "gs_svdpp = GridSearchCV(SVDpp, param_grid, measures=['rmse', 'mae'], cv=5, n_jobs=-1) \n",
    "gs_svdpp.fit(data)\n",
    "\n",
    "#Best results\n",
    "print('Best RMSE for SVD:', gs_svd.best_score['rmse'])\n",
    "print('Best parameters for SVD:', gs_svd.best_params['rmse'])\n",
    "print('Best RMSE for SVDpp:', gs_svdpp.best_score['rmse'])\n",
    "print('Best parameters for SVDpp:', gs_svdpp.best_params['rmse'])"
   ]
  },
  {
   "cell_type": "code",
   "execution_count": 119,
   "metadata": {},
   "outputs": [
    {
     "name": "stdout",
     "output_type": "stream",
     "text": [
      "RMSE: 0.9668\n",
      "Test RMSE for SVD: 0.9668111530239378\n",
      "RMSE: 0.9665\n",
      "Test RMSE for SVDpp: 0.9664668274890149\n"
     ]
    }
   ],
   "source": [
    "#Train best SVD model\n",
    "best_svd = gs_svd.best_estimator['rmse']\n",
    "best_svd.fit(trainset)\n",
    "\n",
    "#Train best SVDpp model\n",
    "best_svdpp = gs_svdpp.best_estimator['rmse']\n",
    "best_svdpp.fit(trainset)\n",
    "\n",
    "#Evaluate on the test set\n",
    "predictions_svd = best_svd.test(testset)\n",
    "print('Test RMSE for SVD:', accuracy.rmse(predictions_svd))\n",
    "\n",
    "predictions_svdpp = best_svdpp.test(testset)\n",
    "print('Test RMSE for SVDpp:', accuracy.rmse(predictions_svdpp))"
   ]
  },
  {
   "cell_type": "markdown",
   "metadata": {},
   "source": [
    " **Popularity Recommender Model (RMSE)**\n"
   ]
  },
  {
   "cell_type": "code",
   "execution_count": 120,
   "metadata": {},
   "outputs": [
    {
     "name": "stdout",
     "output_type": "stream",
     "text": [
      "The RMSE value for Popularity Recommender model is 1.0815377502945511\n"
     ]
    }
   ],
   "source": [
    "MSE = metric.mean_squared_error(pred_df['true_ratings'], pred_df['predicted_ratings'])\n",
    "print('The RMSE value for Popularity Recommender model is', sqrt(MSE))"
   ]
  },
  {
   "cell_type": "markdown",
   "metadata": {},
   "source": [
    "**Collaborative Filtering Recommender Model (RMSE)**"
   ]
  },
  {
   "cell_type": "code",
   "execution_count": 121,
   "metadata": {},
   "outputs": [
    {
     "name": "stdout",
     "output_type": "stream",
     "text": [
      "19004\n"
     ]
    },
    {
     "data": {
      "text/plain": [
       "list"
      ]
     },
     "execution_count": 121,
     "metadata": {},
     "output_type": "execute_result"
    }
   ],
   "source": [
    "print(len(testset))\n",
    "type(testset)"
   ]
  },
  {
   "cell_type": "markdown",
   "metadata": {},
   "source": [
    "**KNNWithMeans**"
   ]
  },
  {
   "cell_type": "code",
   "execution_count": 122,
   "metadata": {},
   "outputs": [
    {
     "data": {
      "text/plain": [
       "Prediction(uid='A2XHOLOLKGV1FE', iid='B000NDA5E0', r_ui=4.0, est=2.789473684210526, details={'actual_k': 0, 'was_impossible': False})"
      ]
     },
     "execution_count": 122,
     "metadata": {},
     "output_type": "execute_result"
    }
   ],
   "source": [
    "# Evalute on test set\n",
    "test_pred = algo_user.test(testset)\n",
    "test_pred[0]"
   ]
  },
  {
   "cell_type": "code",
   "execution_count": 96,
   "metadata": {},
   "outputs": [
    {
     "name": "stdout",
     "output_type": "stream",
     "text": [
      "RMSE: 1.0016\n"
     ]
    },
    {
     "data": {
      "text/plain": [
       "1.0015950381186367"
      ]
     },
     "execution_count": 96,
     "metadata": {},
     "output_type": "execute_result"
    }
   ],
   "source": [
    "# compute RMSE\n",
    "accuracy.rmse(test_pred) #range of value of error"
   ]
  },
  {
   "cell_type": "markdown",
   "metadata": {},
   "source": [
    "**SVD**"
   ]
  },
  {
   "cell_type": "code",
   "execution_count": 123,
   "metadata": {},
   "outputs": [
    {
     "data": {
      "text/plain": [
       "<surprise.prediction_algorithms.matrix_factorization.SVD at 0x1ccc29438b0>"
      ]
     },
     "execution_count": 123,
     "metadata": {},
     "output_type": "execute_result"
    }
   ],
   "source": [
    "best_svd = gs_svd.best_estimator['rmse']\n",
    "best_svd.fit(trainset)\n"
   ]
  },
  {
   "cell_type": "code",
   "execution_count": 124,
   "metadata": {},
   "outputs": [
    {
     "name": "stdout",
     "output_type": "stream",
     "text": [
      "RMSE: 0.9675\n",
      "Test RMSE for SVD: 0.9675483811431123\n"
     ]
    }
   ],
   "source": [
    "#Train best SVDpp model\n",
    "predictions_svd = best_svd.test(testset)\n",
    "print('Test RMSE for SVD:', accuracy.rmse(predictions_svd))"
   ]
  },
  {
   "cell_type": "markdown",
   "metadata": {},
   "source": [
    " **Parameter tuning of SVD Recommendation system**"
   ]
  },
  {
   "cell_type": "code",
   "execution_count": 125,
   "metadata": {},
   "outputs": [],
   "source": [
    "from surprise.model_selection import GridSearchCV\n",
    "param_grid = {'n_factors' : [5,10,15], \"reg_all\":[0.01,0.02]}\n",
    "gs = GridSearchCV(SVD, param_grid, measures=['rmse'], cv=3,refit = True)"
   ]
  },
  {
   "cell_type": "code",
   "execution_count": 126,
   "metadata": {},
   "outputs": [],
   "source": [
    "gs.fit(data)"
   ]
  },
  {
   "cell_type": "code",
   "execution_count": 127,
   "metadata": {},
   "outputs": [
    {
     "data": {
      "text/plain": [
       "{'rmse': {'n_factors': 5, 'reg_all': 0.02}}"
      ]
     },
     "execution_count": 127,
     "metadata": {},
     "output_type": "execute_result"
    }
   ],
   "source": [
    "# get best parameters\n",
    "gs.best_params"
   ]
  },
  {
   "cell_type": "code",
   "execution_count": 128,
   "metadata": {},
   "outputs": [
    {
     "name": "stdout",
     "output_type": "stream",
     "text": [
      "RMSE: 0.8608\n"
     ]
    },
    {
     "data": {
      "text/plain": [
       "0.8608374806356534"
      ]
     },
     "execution_count": 128,
     "metadata": {},
     "output_type": "execute_result"
    }
   ],
   "source": [
    "# Use the \"best model\" for prediction\n",
    "gs.test(testset)\n",
    "accuracy.rmse(gs.test(testset))"
   ]
  },
  {
   "cell_type": "markdown",
   "metadata": {},
   "source": [
    "**The RMSE value for Collaborative Filtering model, byKNNWithMeans is 1.0015950381186367 and SVD is 0.9672121554841631. After parameter tuning of SVD it is 0.8612**"
   ]
  },
  {
   "cell_type": "markdown",
   "metadata": {},
   "source": [
    "# Get top - K ( K = 5) recommendations. Since our goal is to recommend new products to each user based on his/her habits, we will recommend 5 new products."
   ]
  },
  {
   "cell_type": "code",
   "execution_count": 129,
   "metadata": {},
   "outputs": [],
   "source": [
    "from collections import defaultdict\n",
    "def get_top_n(predictions, n=5):\n",
    "  \n",
    "    # First map the predictions to each user.\n",
    "    top_n = defaultdict(list)\n",
    "    for uid, iid, true_r, est, _ in predictions:\n",
    "        top_n[uid].append((iid, est))\n",
    "\n",
    "    # Then sort the predictions for each user and retrieve the k highest ones.\n",
    "    for uid, user_ratings in top_n.items():\n",
    "        user_ratings.sort(key=lambda x: x[1], reverse=True)\n",
    "        top_n[uid] = user_ratings[:n]\n",
    "\n",
    "    return top_n"
   ]
  },
  {
   "cell_type": "code",
   "execution_count": 130,
   "metadata": {},
   "outputs": [],
   "source": [
    "top_n = get_top_n(test_pred, n=5)"
   ]
  },
  {
   "cell_type": "code",
   "execution_count": 131,
   "metadata": {},
   "outputs": [
    {
     "name": "stdout",
     "output_type": "stream",
     "text": [
      "A2XHOLOLKGV1FE ['B0076LY7UK', 'B0077R2B9M', 'B004T1YA5W', 'B000NDA5E0', 'B00429N18S']\n",
      "A1PL7QILVQV3IF ['B007M4M3NO', 'B000B8IHDS', 'B00829THK0', 'B000JE7GPY', 'B000R6QAHY']\n",
      "AY6A8KPYCE6B0 ['B0000E1717', 'B004YIFP9K', 'B0056YNA1Q', 'B00CD8ADKO', 'B0041OMWNY']\n",
      "A2J0IBS4PFRO2C ['B000OK2X6K', 'B0007Z1M50', 'B000A3WS84', 'B0000C4G79', 'B003VNKKRG']\n",
      "A21T0D2F7SKG5S ['B001GO5TU0', 'B006QB1RPY', 'B000BH5OW6', 'B0002Y5WXE', 'B00009R6VZ']\n",
      "A1U5NWJOYH2QQH ['B008J127VC', 'B0001WXTF0', 'B000A4AVQO', 'B00011Y1MQ', 'B0007P11M4']\n",
      "A30J7WQV0ZNRXG ['B006RG0QC8', 'B0013FRNKG', 'B00COEBCXY', 'B008H9BXMK', 'B000NK3H4S']\n",
      "A1R377IPZOKLMM ['B00486MH80', 'B008Q7HUR0', 'B009A6CZ30', 'B003MQWN40', 'B00DDK1QUC']\n",
      "A1KXJCXS6HFRQZ ['B000WLWBI6', 'B0001Y7Z4Y', 'B000F1O0X2', 'B001B8EOMU', 'B001DULYZG']\n",
      "A19W47CXJJP1MI ['B004JF9N1O', 'B000HKGK8Y', 'B000IF51UQ', 'B007FPIQ0E', 'B003M0NURK']\n",
      "A3J8A5L5AF5TX9 ['B00BCA4116', 'B0016BENZ0', 'B0058SYDTI', 'B004LAEKBU', 'B0017RLFM2']\n",
      "ATZJNEXX7LWD3 ['B002QEBMAK', 'B001GS8FZ2', 'B004GCJEZU', 'B00ISRUFSY', 'B000F49RAA']\n",
      "AD9ZL63H0VKCZ ['B0074BW614', 'B009YE462G', 'B001TSMJDS', 'B00BRMGQIA', 'B003XCDA9A']\n",
      "AHF4I1FSIHABC ['B0040HEMP8', 'B003Y60DZO', 'B001G1ZPV6', 'B00006I53W', 'B004Q3R9AQ']\n",
      "A2JWF9IG8PJAOA ['B002YU83YO', 'B008RJZQSW', 'B001FVI91U', 'B005FVNGRI', 'B005CT56F8']\n",
      "ATFBVUXDIRXT6 ['B0035FCWBC', 'B001GX6MJ8', 'B0019SHZU0', 'B0062K951C', 'B004N6259G']\n",
      "A1B6O7SAIYG2N0 ['B0009NEUOA', 'B0012S4APK', 'B0009O6IXA', 'B00BEGS4R0', 'B004SBBDD0']\n",
      "A3N8O68DOEQ2FE ['B007BJHETS', 'B004NBL9WK', 'B000HCGAFK', 'B000067SMH', 'B007KSQRNY']\n",
      "A2J8T58Z4X15IO ['B005HY4UPK', 'B007Q8GOGI', 'B008EQZ25K', 'B00IL7B2YM', 'B004XNLR16']\n",
      "A2I2KPNJDQ9SL0 ['B0047ZFHBG', 'B009WHV3BM', 'B007SM7O2U', 'B009FU8BTI', 'B003ES5ZUU']\n",
      "A3VC74TJ06WDDD ['B003UH0Z9Q', 'B000O8I474', 'B0035B4LJM', 'B005CT56F8', 'B000V0BIWI']\n",
      "A2XPK6XCL0UH1S ['B000069E2V', 'B00267S7UK', 'B000NK3H4S', 'B0009VKJH4', 'B002P3KH80']\n",
      "A3LWC833HQIG7J ['B00452V66G', 'B004SKBJP8', 'B002ONCC98', 'B000OL3QTW', 'B00310PJM0']\n",
      "A2BMZRO0H7TFCS ['B002R5AM7C', 'B0041RRNLC', 'B0068INTCY', 'B0001N3ZRQ', 'B004CXBJ6A']\n",
      "A2D0CO1OA6DSWY ['B00CPDRKWG', 'B004N85YB0', 'B00E3AKF1C', 'B0007XJSQC', 'B009SYZ8OC']\n",
      "AMVXR3NPL0GWX ['B00746O3X8', 'B004XY65WQ', 'B003VANO7C', 'B0002Y5WXO', 'B0096PVLL2']\n",
      "A21Q9JVG4SII51 ['B00EDSI7QO', 'B005UBNLFK', 'B000BTL0OA', 'B004QXFHJG', 'B003M8HWDA']\n",
      "A5KMMY627T3W ['B000HZDF8W', 'B000NO8GNG', 'B00099C2M6', 'B00GRNUO2I', 'B003FW0LR2']\n",
      "A3OXHLG6DIBRW8 ['B0079UAT0A', 'B00E87E1OM', 'B005CLPP84', 'B0053R0WWG', 'B0002EXJ8Y']\n",
      "A12DQZKRKTNF5E ['B00009L1UX', 'B0057WWP2W', 'B002ZV7WYE', 'B000FB44VA', 'B00005T3Q2']\n",
      "A3HPCRD9RX351S ['B003B4CU3M', 'B00330O2U8', 'B00JF0D7RE', 'B000JMJWV2', 'B009614ANM']\n",
      "A2V9DTXTQ5YIMK ['B0075Z2SMG', 'B0074BW614', 'B005HY4UG4', 'B009NHWVIA', 'B002NEG0VO']\n",
      "A9ELHLPXF7JKD ['B002DUCMQU', 'B00JP12170', 'B009C3M7H0', 'B00HPM1FZ0', 'B004GUT1QO']\n",
      "A20WUUD9EDWY4N ['B005LFT3GG', 'B002S9KTAW', 'B00BXA7N6A', 'B003ES61EE', 'B004MYFOE2']\n",
      "A2OKRGHIYTBQ6P ['B007WTAJTO', 'B00F9ZQQ8Q', 'B005NEZDUA', 'B007CO5DZ4', 'B00005105N']\n",
      "A1F9Z42CFF9IAY ['B007HBLX5G', 'B000GZUN9W', 'B0002ILKNQ', 'B004C867R6', 'B000M6XKEK']\n",
      "A3EFSLEMHNPP6A ['B0041G5XFQ', 'B00004Z0BO', 'B003VANO7C', 'B003YH9EZ8', 'B009C98NPY']\n",
      "AATWFX0ZZSE6C ['B0031U1ATQ', 'B003LPUWT0', 'B0049P6OTI', 'B002EVP85K', 'B00347L6I6']\n",
      "A3TNM3C9ENUCFW ['B005X9XVNQ', 'B005PUZOYM', 'B0093GIME8', 'B0041D81WQ', 'B000T9DHZW']\n",
      "A1MFVAHTT2BHM0 ['B002ZE4TDI', 'B0053H73JQ', 'B002I3OZB2', 'B003CJTR8M', 'B001C4ETU0']\n",
      "A1VJ0V58N0698J ['B002G1YPIE', 'B006K551TO', 'B000CSOXTO', 'B004TB70Y0', 'B007M50PTM']\n",
      "A3VBXQKRM7A4JR ['B002TLSOGA', 'B004S7Q8CA', 'B006K552LG', 'B00752R4S2', 'B0043T7FXE']\n",
      "A1KDUQ2HU0WD68 ['B00D6PTMHI', 'B00CALM17C', 'B005VAORH6', 'B007X3VC7W', 'B00DBX371C']\n",
      "A1ZU55TM45Y2R8 ['B0079UAT0A', 'B001PBYQHG', 'B004CLYEFK', 'B004CLYEE6', 'B008X9Z528']\n",
      "A1NRMTQ5SZPZA ['B0042UC5BG', 'B004QHI3ZW', 'B004TKTOWC', 'B00CDS9HTM', 'B00AQRUW4Q']\n",
      "A19EKT8H85AKO5 ['B003DPKOKK', 'B008YDTNDU', 'B003YNO0LA', 'B00AW48DS0', 'B004G8QO8O']\n",
      "A38C12950IM24P ['B00BCGROFU', 'B0096YOQRY', 'B00DK2JQOQ', 'B00E83H6FW', 'B0053ORUS8']\n",
      "ABE5E8B3J7MKY ['B00AXWOLO6', 'B000083KIH', 'B000R9PXE2', 'B00BGGDVOO', 'B007SM7O2U']\n",
      "AWHL379EE14K7 ['B0056TYRMW', 'B00E1XI6N0', 'B0001PFQAI', 'B0000T8BB6', 'B002G1YPH0']\n",
      "A34DQINHT6NYJU ['B0096JZRBI', 'B00475K64E', 'B008MWBY6W', 'B0043M668G', 'B006I5MKZY']\n",
      "A2GKMXRLI7KLFP ['B00426C56U', 'B002FJJGUO', 'B004T9RR6I', 'B002SQ9ZX2', 'B002Y2NI4M']\n",
      "A32482Z7XIKDQX ['B00829THK0', 'B009USAJCC', 'B00483WRZ6', 'B00GTGETFG', 'B005JE3VYY']\n",
      "AJX9A4Q19UTJU ['B000N99BBC', 'B00829THK0', 'B00834SJSK', 'B005GOINEK', 'B0035AN31A']\n",
      "A10ZFE6YE0UHW8 ['B002WE6D44', 'B00GNGCX6O', 'B003690Q42', 'B0092MD8OW', 'B00EFE9OAE']\n",
      "A2UEB48LAWFUCW ['B003H1DLXC', 'B0079TOI8K', 'B0017JY5FE', 'B0013LRLUM', 'B00DDK1QUC']\n",
      "ADOR3TR7GDF68 ['B00FGKEMKS', 'B001N9X4CS', 'B005CTCD6S', 'B000233WJ6', 'B001PHLMAE']\n",
      "A1EXGL6L0QQ0M5 ['B005KOZNBW', 'B0021Y73W6', 'B00FRDUZXM', 'B002HWRJBM', 'B00CO0DE0W']\n",
      "A356RFKNIG043B ['B004HW7KDC', 'B002YOENAS', 'B00006LK1O', 'B003VAGXZC', 'B001V399GG']\n",
      "AONUCJBC85BL ['B0026GJHVY', 'B004MKNJEI', 'B00486MH80', 'B00COHALOM', 'B005JLQL26']\n",
      "A357B3PUHSVQA ['B00BYOE4C6', 'B004JMZPK0', 'B00F3F0EIU', 'B003I4FHNA', 'B005HEUUEA']\n",
      "A200DY76VXVGP9 ['B00126U0VA', 'B00005125T', 'B0049P6OTI', 'B0001FTVDQ', 'B004Q0PT3I']\n",
      "A2K5RRMPICZ606 ['B00B1YZSOC', 'B002WE4HE2', 'B008MB70TI', 'B004K1EOCA', 'B0045XAIFU']\n",
      "A5MCDQ60DWUEV ['B00004THCZ', 'B00894YP00', 'B001G445Q4', 'B000EXR0SI', 'B00062PN6I']\n",
      "A2VAD79S4A06DD ['B009SYZ8OC', 'B009E6J1BU', 'B002P3KMXA', 'B00FH66AW4', 'B002SZEOLG']\n",
      "A296QED1MV1V0J ['B00232YRJ8', 'B001S2PPT0', 'B005E7KMH0', 'B009NHAEXE', 'B0096W1OCG']\n",
      "A2ZY49IDE6TY5I ['B0071CE2ZE', 'B0047E8DN6', 'B004FEEZHQ', 'B00CIRLJPI', 'B0041OQKIC']\n",
      "A31N0XY2UTB25C ['B001SJVU6K', 'B001U3YIT0', 'B005QZ8BCI', 'B0018BQR84', 'B00008AWKZ']\n",
      "A2ZFBTGPDP6PH6 ['B0011NVMO8', 'B000YK1JAG', 'B000JJM8XE', 'B001OMGVII', 'B0011TS8LM']\n",
      "A370XYLIZCSK1Y ['B0053G6GI6', 'B001QUA6R0', 'B0055QZ216', 'B005KOZNBW', 'B001BXS4LW']\n",
      "A2NX6PABLIJLP1 ['B00BQ5RY1G', 'B0054JJ0QW', 'B009OZUPUC', 'B00093IIRA', 'B001UQ6F5M']\n",
      "A1A306IAZ3TM1 ['B000LY4FLA', 'B001T9AT52', 'B005L2NA54', 'B000ND75C0', 'B00065XSP8']\n",
      "A10AFVU66A79Y1 ['B001O1IZ7O', 'B003JZU8DC', 'B000F34FVM', 'B0081FLFQE', 'B003X26LXW']\n",
      "A19RGDJPNZ7NZ ['B0009O1F06', 'B000KU0PCS', 'B00FFJ0HUE', 'B001JTQCU8', 'B000AM3U2I']\n",
      "A3MUSWDCTZINQZ ['B008X9Z8NE', 'B0097CZHAU', 'B009T0NFXG', 'B00HRQB28Y', 'B009NHWVIA']\n",
      "A2UTZ4O5E2W4DK ['B001CCLBSA', 'B000PKX2KA', 'B005TGKX9S', 'B000062VUO', 'B005HY4U5A']\n",
      "A1MRPX3RM48T2I ['B00E3W15P0', 'B003FVJYF8', 'B002VPE1Q6', 'B004SBBD8U', 'B001DUQU0A']\n",
      "A16J281SJ9QXIQ ['B00DR8LA60', 'B0098Y77U0', 'B00EYTI0TG', 'B005HMO6A6', 'B00G335A58']\n",
      "A1ODOGXEYECQQ8 ['B002R5AM7C', 'B005HMO6A6', 'B0018VDADE', 'B00I3YKEKG', 'B002WE4HE2']\n",
      "AI0BCEWRE04G0 ['B000G36GOU', 'B005F77Z9C', 'B00E87OITK', 'B001E1Y5O6', 'B002RI7PHE']\n",
      "AYMD77ITD15PT ['B005QZ8BCI', 'B0096YORV4', 'B007R8U5R6', 'B004GUT1QO', 'B004CLYE8C']\n",
      "A1GQRGB8FGSLIZ ['B000N99BBC', 'B002M78E9S', 'B000M4XMGI', 'B004Z0S7K6', 'B003FSTAGY']\n",
      "A1CMD08Z49PGKQ ['B0002L5R78', 'B0036AZA6A', 'B0015YJOK2', 'B005HSG446', 'B0082E9K7U']\n",
      "A1NJHKPHD4YWZV ['B0019CSVMW', 'B00006I53X', 'B000IZDN60', 'B000VA4CK8', 'B0018LQVIA']\n",
      "A39137LW12KK7B ['B003ES5ZUU', 'B001AAVA08', 'B0015F1L7A', 'B000BQ7GW8', 'B00DR0PDNE']\n",
      "A2WXURU33RBGQS ['B003F8UWUM', 'B002Q7IKYS', 'B00505EZZ6', 'B002JSQ96K', 'B001CHQ52W']\n",
      "AA3FTJYJYX55C ['B0031ESKJA', 'B005CT56F8', 'B003FVVMS0', 'B00263D7A4', 'B000X9O8SI']\n",
      "A3MQAQT8C6D1I7 ['B000HZDF8W', 'B000J1HPXK', 'B0000X0VCY', 'B002NP8XJ0', 'B0000CE1UO']\n",
      "ARX0KOX5Q01BJ ['B000UVD8B2', 'B003CN5NXG', 'B002YKPX6U', 'B005MLAHYG', 'B0012X43P2']\n",
      "A4U27URFECK1U ['B003F5NS9W', 'B008LTBINU', 'B00C9TECFO', 'B00G6CLN3Y', 'B007G95FJE']\n",
      "A3GX0FAMEXV6FB ['B0082IX6MG', 'B007R21JK4', 'B0068B7VSO', 'B005PSLFGA', 'B006U4AV54']\n",
      "A2ZY3S7SD3QO8Z ['B009HQCAPQ', 'B00E0HITQ6', 'B0081TXIXI', 'B001WLTI7W']\n",
      "A11ED8O95W2103 ['B0013Q1XTM', 'B000VZCEU8', 'B000EVSLRO', 'B000DINCIQ', 'B000065BPC']\n",
      "A2ROZACRW31PC2 ['B002LITI8E', 'B005KFRO8Q', 'B001N0DQOS', 'B003EEMDMC', 'B00E3W15P0']\n",
      "AV10H5K6VPQIJ ['B0001VWHH2', 'B0013LRLUM', 'B003U8HTMG', 'B001GQ3DP6', 'B007CO5DZ4']\n",
      "A3FEGTOLCWXSV4 ['B00BOHNYTW', 'B008DWCRQW', 'B002FU5QMA', 'B003BYRO1K', 'B0021L9C0A']\n",
      "AWH2AY17ZU7W2 ['B005C95MRA', 'B007KZQMO6', 'B0054L8N7M', 'B00884WH74', 'B003ANK9ZA']\n",
      "A1USYP4AXF5I1D ['B009SYZ8OC', 'B0017JY5FE', 'B002V88HFE', 'B002JCSCYS', 'B0043VE28S']\n",
      "AOEAD7DPLZE53 ['B000W91XBO', 'B007ZHXFJY', 'B00368CDH6', 'B002RL9XQW', 'B00BF0RQII']\n",
      "A1RPJHUVVSI98A ['B003XCP7D2', 'B001RQ2CXO', 'B002PAX9QU', 'B00F19PYR4', 'B000M3ILF6']\n",
      "A32LX4XJ2LU740 ['B0054L8MR8', 'B006MO0IZA', 'B003UT6C9G', 'B0097BEDOC', 'B00DJERMRS']\n",
      "A3HCMJOGRRSAF2 ['B002QQ8EKO', 'B001GN7A8A', 'B002CZQ4GU', 'B000V01RLK', 'B004CADY9I']\n",
      "A4IL0CLL27Q33 ['B003HFCDLY', 'B005HPSFWI', 'B0021Y73W6', 'B00829THK0', 'B009C98NQS']\n",
      "A3NEAETOSXDBOM ['B0040702HA', 'B009FPUBBE', 'B000Q8UAWY', 'B005DKZP6G', 'B00EAY7MBM']\n",
      "A1VQHH85U7PX0 ['B008X9Z7N0', 'B00263D7A4', 'B0012Y6HC8', 'B000L47AHG', 'B008ULPA2O']\n",
      "A1PN2U0AWXGVML ['B0007U00X0', 'B00165XQWW', 'B000ENPDSW', 'B003GSLU3E', 'B000CSQJ8C']\n",
      "A3J6Q0Y0SKY7AR ['B0028Y4DDG', 'B007V9SNNY', 'B000EFIJTA', 'B0039BPG1A', 'B004NMNHVK']\n",
      "A2BIJMB2BITQUM ['B008ZGKWQI', 'B00AAIPT76', 'B000652M6Y', 'B005LMWP82', 'B00DB9WCR6']\n",
      "A194Y47BF3CUTJ ['B007M4Z60Q', 'B002RCLYXG', 'B006ZC5PDE', 'B005GGTTZ0', 'B001E1Y5O6']\n",
      "A3HSDV9Y0TV5Z2 ['B001R0LMMM', 'B002LC2DQ4', 'B001TO3L8Y', 'B003765X38', 'B0018BQR84']\n",
      "A17UNMURMLX0ZE ['B0079UAT0A', 'B00FR6VL50', 'B00EPQ97C2', 'B00EAXRVLY', 'B00A7PPLP2']\n",
      "A2BX8DDQGCCG2J ['B0035JJJQY', 'B00007EDM8', 'B003ELYQGG', 'B002RMPHMU', 'B000068O33']\n",
      "A9LNWA25IM2DX ['B000NLLXVQ', 'B00168BSEW', 'B008H9BXMK', 'B00BD7UVO4', 'B0011UK2HE']\n",
      "A2BLFCOPSMBOZ9 ['B002SE37QK', 'B004CLYEDC', 'B003RRYAXQ', 'B003UT6C9G', 'B003ES5ZSW']\n",
      "A680RUE1FDO8B ['B00829THK0', 'B00HFRWWAM', 'B00834SJNA', 'B007YX9O94', 'B0016BVKAQ']\n",
      "A17HMM1M7T9PJ1 ['B00DQZOD8Q', 'B00AWYMXZY', 'B002OOWC3I', 'B004QK7HI8', 'B0016P15E8']\n",
      "ABMF4UC4Z00NT ['B000W8UIZW', 'B000FFRZ1W', 'B001V9KG0I', 'B00AYB9PUQ', 'B004QR56SE']\n",
      "A14X244VGHWPSX ['B000ELSXZE', 'B00009W3BQ', 'B003B4CU3M', 'B000V07N9U', 'B002MRRU6G']\n",
      "A6FIAB28IS79 ['B000JMJWV2', 'B00007FGUE', 'B004JXVOD6', 'B005FMBVLA', 'B0031KF7QS']\n",
      "A3TAS1AG6FMBQW ['B003ES5ZUU', 'B00884WH74', 'B000X23I22', 'B001542X64', 'B000NLSGA2']\n",
      "A328GLDSDNFYII ['B002WE0QN8', 'B005K7192G', 'B000Q8UAWY', 'B0053NBLFW', 'B000ALLMI8']\n",
      "A33CNFK776MTWR ['B005HGBEZ2', 'B002DGM8U4', 'B002IVWSR2', 'B000AY5Y5W', 'B002RMPASG']\n",
      "AV8MDYLHHTUOY ['B00834SJSK', 'B00DR8LAE2', 'B0096239FG', 'B00DBX371C', 'B00EU9V3VW']\n",
      "A3QU3O79AGNWCY ['B000HDJT4S', 'B000FBK3QK', 'B009CN8VNY', 'B005GM1Q1O', 'B005HTIWF4']\n",
      "ACQYIC13JXAOI ['B000QUUFRW', 'B004J4VYEY', 'B00F0R9V76', 'B004I5BUSO', 'B004I3VZJK']\n",
      "A11IXJ8M1JO296 ['B003ODU0P0', 'B003QCOKGO', 'B009FU8BTI', 'B00007KDVK', 'B005DBEA52']\n",
      "A2PZXXPGLXXKZU ['B007JGB6X8', 'B00C2MBTK4', 'B004N85YAQ', 'B004QKM5MG', 'B00COQ4ETG']\n",
      "A3F7F7QKQP2FKT ['B002C7481G', 'B0042LQWXW', 'B002CMLDT6', 'B002HQUIVQ', 'B000FML9NA']\n",
      "ABDR6IJ93HFIO ['B007YUISN0', 'B007P4VOWC', 'B001EYV9TM', 'B008ATLJGC', 'B007M50PTM']\n",
      "A2EF8N7ZE7ONWX ['B002EC92KG', 'B000M4J2LM', 'B000AYGDWU', 'B004T9RR6I', 'B004J3ZV62']\n",
      "AWNBZSEZ9P8BE ['B007X3VEX4', 'B0035FZJHQ', 'B00HVT27B8', 'B00B5HE3UU', 'B0030LO5CU']\n",
      "A1RJKTYC03L0JY ['B0045FM6SU', 'B001Q6TZ5S', 'B005LFT3GG', 'B005IHAIEI']\n",
      "APOGXH3A74CM3 ['B0054CFKR2', 'B0002L5R78', 'B002SFDJMQ', 'B00829TIA4', 'B000MQNMQ6']\n",
      "AQIJ3ZEEVCIKU ['B004CLYEDC', 'B0017Q4ZXO', 'B00256HWRG', 'B000GU78Z4', 'B007Q2JQNW']\n",
      "A1UTM65Y3G9HUL ['B00BV9AOL4', 'B00CM06VIQ', 'B006HIKIG0', 'B00CMQTVK0', 'B0083YF55U']\n",
      "A3KCETSIJNOK56 ['B0002BEVO8', 'B00EZGMAC6', 'B00ANDHBNS', 'B0064XAIZY', 'B004PYEBY8']\n",
      "A2MOD50IHEDH3G ['B009O7XNTK', 'B00DR0C96S', 'B001SJLLTQ', 'B0028AD7BE', 'B00DV51DTS']\n",
      "A250AXLRBVYKB4 ['B002R5AM7C', 'B001FVI91U', 'B0007U0GZM', 'B0009V6TL4', 'B00009KIYM']\n",
      "AHIK7BUXFRMT8 ['B00009UHFI', 'B00CJLEHPM', 'B00884WH74', 'B003DZ165W', 'B000AM3U2I']\n",
      "AGVWTYW0ULXHT ['B00BOHNYU6', 'B00829TIA4', 'B00CRXZSYQ', 'B0009V1BEY', 'B0045XAIFU']\n",
      "A30XZK10EZN9V4 ['B004BFXBXI', 'B000N7VPRW', 'B0002L5R78', 'B003XM1WE0', 'B0096PVLL2']\n",
      "A30ADSBTWCORYC ['B0043VE29C', 'B005LJKEXS', 'B002DW96M6', 'B007F7G6WW', 'B0076F3RS4']\n",
      "ACJT8MUC0LRF0 ['B00CMF0SO4', 'B009HQCAPQ', 'B002DUEBIC', 'B008I21EA2', 'B0036AWR8E']\n",
      "A1JZFGZEZVWQPY ['B004S22KFE', 'B00005Y7DP', 'B00CYSHUG8', 'B00723PZ2G', 'B00AR95FP4']\n",
      "AKBVYIIHWI04B ['B004G6002M', 'B004G8HXXO', 'B004HKIB6E', 'B002CVHURQ', 'B006JWMOOI']\n",
      "A2WB7LZ595CR50 ['B008B6UA8M', 'B0039JBXSM', 'B00HFRWWAM', 'B00846Z34K', 'B00109Y2DQ']\n",
      "A1PVJICI412IN4 ['B0031KBKLY', 'B004FP3RYM', 'B002UUPWP6', 'B00BCGRRWA', 'B000E6G9RI']\n",
      "A3P4T1DKRWTL36 ['B000G3KLPA', 'B007SVHFXO', 'B003ES5ZSW', 'B008AGDTA4']\n",
      "A3INN916E4VION ['B007BJHETS', 'B002WE6D44', 'B0062IPIPQ', 'B007WTAJTO', 'B0036QL1JY']\n",
      "AKCZIJ6ZHE41D ['B000MUXVZE', 'B00BQ7JZXO', 'B000MISEI0', 'B0015EA3NO', 'B0035JJOLE']\n",
      "A3CMO216CWOF5N ['B0054X8C1M', 'B003ELYQGG', 'B001QTXKEW', 'B00006IS4X', 'B001FWYLLG']\n",
      "A2V2URLB31HG59 ['B004T9RR6I', 'B008X9Z3UC', 'B0084JFLTY', 'B0011E4NSO', 'B0079R8KO0']\n",
      "A31ICLWQ9CSHRS ['B006JINHYS', 'B000V9T2JA', 'B0012GK3MQ', 'B004FEEY9A', 'B0042FZA1S']\n",
      "A3Q1J68QY1MZQ9 ['B000MAF0X0', 'B001S0PWV8', 'B00FNPD1OY', 'B005IPMIBQ', 'B00DQZO0R0']\n",
      "A362FM6FYA1SYS ['B0045KGZOG', 'B00007EDZG', 'B000UMX7FI', 'B0042X9L6A', 'B005ES0YYA']\n",
      "A2LB4FLRZG6CUV ['B004477OAY', 'B0015YMWYW', 'B0060GEWFC', 'B003WU6KFO', 'B004275EO4']\n",
      "AUK79PXTAOJP9 ['B004C8I88W', 'B001PUSERA', 'B009NHAEXE', 'B006B7R9PU', 'B008AJLPYS']\n",
      "A3D6OI36USYOU1 ['B003VAGXZC', 'B004MYFOE2', 'B0058P0I2C', 'B001KB21KA', 'B003WUBIZQ']\n",
      "A1RDHBBZE1NPS3 ['B001CBPWT0', 'B00BCHHZGW', 'B00D1GYNT4', 'B002SZEOLG', 'B00829THK0']\n",
      "A3F8T3BRXRX5P3 ['B007RG2QNY', 'B0009MFQ12', 'B00966IU4M', 'B00006346B', 'B005IQGNCU']\n",
      "AAK6SOEJY30YG ['B004UR487A', 'B003FVVMS0', 'B00081A2KY', 'B00669L3HS', 'B001W28L2Y']\n",
      "A1AWL9JASMG904 ['B0026MTCFY', 'B000065BP9', 'B00DQZOD8Q', 'B000E5CYW8', 'B006GWO5WK']\n",
      "A23E9QQHJLNGUI ['B000EVSLRO', 'B00829THO6', 'B003ELOSIW', 'B00009XVBY', 'B00834SJSK']\n",
      "A1C47ROOK7BSVL ['B005TFONMC', 'B007RFZDL2', 'B005Q5TP5U', 'B007A9UUJK', 'B000UXDHOI']\n",
      "A3A4ZAIBQWKOZS ['B00829THK0', 'B000UWYM5C', 'B00FF6J532', 'B006TT91TW', 'B001L6LG5K']\n",
      "A2LXX47A0KMJVX ['B002LEY28O', 'B0008ESGAY', 'B001FWXDZQ', 'B002M78L6E', 'B009JP461G']\n",
      "A3LGT6UZL99IW1 ['B004CLYEDC', 'B002Q4VC9G', 'B00005MA9X', 'B009Z3SVRM', 'B0082IX6MG']\n",
      "AN81JUYW2SL24 ['B007WTAJTO', 'B00F19Q7AC', 'B009VRTEE6', 'B000K50GTA', 'B0009VT9OS']\n",
      "AR6APXLK7TJU2 ['B001EJN9OA', 'B00ASJHO4I', 'B00009V2PG', 'B001IF252C', 'B00829TIA4']\n",
      "A3M82NO6OU1FHS ['B008ABKADI', 'B001VRJ5D4', 'B005E1CGZC', 'B00BQ5RY1G', 'B008JJLW4M']\n",
      "A3F9CBHV4OHFBS ['B005EOWBKE', 'B000HAR8UI', 'B00004Z5PY', 'B007I5JT4S', '9983891212']\n",
      "A2ED50E3KWKUKW ['B00017LSPI', 'B00BKW2410', 'B00004SY4H', 'B00004XOM3', 'B003N0XDT4']\n",
      "A3FOSLM5G1BO63 ['B0002JABOY', 'B008X9ZBVI', 'B009T0NFTA', 'B00A3YDT5Q', 'B004T9RR6I']\n",
      "ASFW4ZMNZJKDA ['B000SATCUQ', 'B004NY9UUK', 'B007SHJIO2']\n",
      "ALRCAGJOJ9583 ['B000N99BBC', 'B009TLA7P4', 'B00D429Y12', 'B00923G46U', 'B00083XXTY']\n",
      "ASRA2UZ3JV87B ['B0022NHQ32', 'B003JECR8M', 'B000E9VKUQ', 'B0007MGG2M', 'B001TUYTZM']\n",
      "A3QRW0UJPKIAX7 ['B003YKG2W8', 'B009WG6JF8', 'B002HU27UW', 'B006GG1Q7I', 'B0092MD8OW']\n",
      "AEJAGHLC675A7 ['B0015DYMVO', 'B004CLYEE6', 'B0034CL2ZI', 'B0079UAT0A', 'B004CLYEDC']\n",
      "A1VQBEW0G4IH1J ['B003IT985S', 'B004GCJEZU', 'B005DEW4BQ', 'B00HPM1FZ0', 'B0031ESKJA']\n",
      "A1R19YYR5OR26T ['B002WN2JS4', 'B007I5E9Y8', 'B003DZJQQI', 'B008D2POAS', 'B009O7YU56']\n",
      "A27B1U3OWCU14J ['B001ECP666', 'B0036ORMR6', 'B000Y8Y8FG', 'B0040JBU7E', 'B0001H4BMU']\n",
      "A87CILADRIZW0 ['B008LURQ76', 'B0001LS0ZU', 'B003N8GVUY', 'B001QUA6RA', 'B004GF8TIK']\n",
      "ARIDN94LOCQFD ['B009NUK6S4', 'B003U4VIXQ', 'B007RB164E', 'B00DMWFS8C', 'B00CM0XHNS']\n",
      "A34BZM6S9L7QI4 ['B008ULPAT2', 'B004CLYEFK', 'B00BQH8UEY', 'B009VL9YGU', 'B00DQZOD8Q']\n",
      "A2F2F7N94SR1KQ ['B0049P6OTI', 'B00475WJEY', 'B002WI8GG8', 'B001RB24S2', 'B000F0ELOG']\n",
      "A3D7BGK0P5QY0X ['B000ANOY7M', 'B003LLEG00', 'B003FVJYF8', 'B007C861WO', 'B00829THH8']\n",
      "A2R6RA8FRBS608 ['B002S1CJ2Q', 'B000EUFJXE', 'B0012MI7N2', 'B002KKCNHG', 'B003NREDG4']\n",
      "A16QODENBJVUI1 ['B000N99BBC', 'B0046W5EQI', 'B0025ZH43O', 'B002FU5QMA', 'B0046RE60I']\n",
      "A2SATO5BNKWY3Y ['B00009EHJV', 'B0019WF4FE', 'B002FFT8Z6', 'B00008Y0VN', 'B0045JHJSS']\n",
      "A2NQMVTQ4PVLL ['B0043WJRRS', 'B0038W0K1G', 'B005HJWWW8', 'B00006B7DA', 'B0064R9H2A']\n",
      "A2OOLI2WFY4L2 ['B0019SVUQK', 'B00961GM1A', 'B000P5AJXI', 'B0041Q38NU', 'B000Q8UAWY']\n",
      "A13WREJ05GMRA6 ['B006ZAHMUU', 'B00906E03I', 'B0027VT6V4', 'B006WAGG14', 'B009O7YU56']\n",
      "A2I18AO597DSDI ['B007IFAP6Y', 'B00F3ZNQXU', 'B001OOZ1X2', 'B004UL34EY', 'B00HFRWWAM']\n",
      "A1N5FSCYN4796F ['B005Q3142E', 'B00D69747O', 'B000RHZJN4', 'B003VAK1I2', 'B00D68ZVY8']\n",
      "A1ZVFCPHCWFV71 ['B001DFVJ6K', 'B003OBZRPU', 'B0056YNA2A', 'B00834SJSK', 'B004CLYEFK']\n",
      "A1ROUMJOGO4QMB ['B00224ZDFY', 'B0018NWQPK', 'B004GYVPGE', 'B0091QLXW8', 'B007B5WHTE']\n",
      "AQCJWSMSURQI2 ['B006YTZUA6', 'B005A0B7CA', 'B00G6CLNCK', 'B003WCAX28', 'B0057UUB1G']\n",
      "A3963R7EPE3A7E ['B00DQZT0AC', 'B00DQZTS8Q', 'B005X9XVNQ', 'B0042FZ50O', 'B001BM5XB2']\n",
      "A3T4OHEAHOJ700 ['B00BD7UXT2', 'B00HPM1FZ0', 'B008X9Z8NE', 'B00EPQ97C2', 'B00D96BMV8']\n",
      "A2QNS95WGN35G9 ['B004J4VYG2', 'B0040702HU', 'B00654PTT2', 'B0076POAI0', 'B003ES5ZUU']\n",
      "A105TOJ6LTVMBG ['B00135IILO', 'B00005N6KG', 'B00000J1V5', 'B000LP0R3E', 'B004S4R5CK']\n",
      "A2XRMQA6PJ5ZJ8 ['B00AWKC0JM', 'B000MX48VM', 'B000ZMCILW', 'B0056YNA1Q', 'B002SGATH8']\n",
      "A2Z2MUP8JRJXEU ['B000ID7QNI', 'B002NEGTTW', 'B00BXA7N6A', 'B00JF0D7RE', 'B003XU6H8I']\n",
      "A3LDPF5FMB782Z ['B003ZSHNG8', 'B0075SUK14', 'B001FA09WI', 'B0030NL6FW', 'B001F50UHM']\n",
      "A3IMALU0RM8UT9 ['B008ABOJKS', 'B00INNP5VU', 'B007CO5DZ4', 'B00011KM38', 'B00E055H5O']\n",
      "A1KY5G5FP31F2F ['B001U02JZ8', 'B007PA1K84', 'B004Q3RE2O', 'B001DXGBII', 'B00EHZYWGM']\n",
      "A3F3B1JPACN215 ['B0054L1SOM', 'B001CF2TYC', 'B000MVBHRW', 'B002KQ5KVG', 'B000BV8604']\n",
      "A27ADCSD15F3GL ['B004CLYEDC', 'B009VV56TY', 'B00AQRUW4Q', 'B003CFATT2', 'B00AW54Z7C']\n",
      "A6XDZ1MJ0B1A2 ['B00D7P6176', 'B002LITI8E', 'B007F9XHAY', 'B008RM235I', 'B003S6ID20']\n",
      "A3RR2P5IS3DGPR ['B002RL875A', 'B00BR3ZYIW', 'B0092U3TKC', 'B007GFX0PY', 'B001AZP8EW']\n",
      "A3U41ZL33SS92P ['B00172M8HS', 'B000E5BL18', 'B0009SCMKY', 'B003P2V52M', 'B002V88HFE']\n",
      "A1OO9N1MRNQ7K0 ['B003XMROKG', 'B003QKBVYK', 'B003SGCO3E', 'B00166EUI0', 'B003XIJ566']\n",
      "A506HOOCVL8GW ['B008RI1YKC', 'B001G04VJO', 'B00DVFLJDS', 'B007GFX0PY', 'B000I68BD4']\n",
      "A2RTVGR9B1M600 ['B0007ZFLYI', 'B00006I53W', 'B000I20AJ6', 'B003OBXHPC', 'B0053T0HNI']\n",
      "A1ASWDAEDTTY5I ['B008OZF9SQ', 'B00332X1M6', 'B0072FJEA8', 'B004MU8VCS', 'B000JFJZGG']\n",
      "A3J029KBNG5MNP ['B00829THK0', 'B004CLYEDC', 'B00BWHILCY', 'B0080AO68E', 'B0034CL2ZI']\n",
      "A2VC48WIMY6L6E ['B006DDT6JO', 'B00EFILHB4', 'B0012IJYZ6', 'B008AJLPYS', 'B001QTXKB0']\n",
      "A19N3S7CBSU6O7 ['B0013FRNKG', 'B000OG4E2U', 'B0048606UG', 'B002YU83YO', '1400599997']\n",
      "AL1XV4L25FZ2S ['B000GR3XYM', 'B000BKLNHS', 'B002Y6CJJ8', 'B00DBDM934', 'B002W5V8SE']\n",
      "A2ZFFSJ0VM6KSJ ['B004R6NSQG', 'B000IDCDZY', 'B004LEAYXY', 'B005DOK8NW', 'B003GCLGYS']\n",
      "A3MU9G6YWKTGTA ['B005HMKKH4', 'B000092TT0', 'B004XC6GJ0', 'B0057V9HQ0', 'B000ZD0CV4']\n",
      "A11OTLEDSW8ZXD ['B00542VVG6', 'B0042X9LC4', 'B00D6XW62I', 'B005QCDY50', 'B005KP473Q']\n",
      "A11I1I9QLMAM1A ['B0044IOGG8', 'B00906HNZU', 'B0074BW614', 'B00E3FHXYO', 'B00F93IOR4']\n",
      "A25UZ7MA72SMKM ['B001FA1SIM', 'B002AKKFPI', 'B006ZH0KVG', 'B003M8HWDA', 'B008UG6GCC']\n",
      "A3CEUT263RNUDO ['B000WO6HJW', 'B005IPMIBQ', 'B001CCAISE', 'B0002D03ZW', 'B0009BX0AM']\n",
      "A2FRKEXDXDN1KI ['B0053FR9FQ', 'B001DWI1F0', 'B003VAK1I2', 'B002S9KTAW', 'B004TJ6JH6']\n",
      "A2UOHALGF2X77Q ['B005HY4U5A', 'B00EOI2SR2', 'B000HKGK8Y', 'B001GIOQBE', 'B000CP4ML6']\n",
      "A2NOW4U7W3F7RI ['B003ES5ZUU', 'B0002ZDIKW', 'B001IF252M', 'B00G2TK76A', 'B00FLKW0JI']\n",
      "A24J2Y1O22JYZX ['B004LNOSQO', 'B00451ZTBA', 'B0038WJTF4', 'B002OEBMT8', 'B005P91CQM']\n",
      "A2SNE4QQGVP13U ['B004Q0T0LU', 'B000N99BBC', 'B001G0WPLK', 'B0039825LM', 'B009O7YUF6']\n",
      "A3CJ7MHAS9IMAM ['B00065ANYW', 'B002LITT56', 'B004JWA70I', 'B00005ATMB', 'B00009R6WO']\n",
      "A3RGJ1FXOB1ZLL ['B00EXPNFQO', 'B0090I9VVC', 'B00009YFTI', 'B004SBI2MU', 'B0001Y7UAI']\n",
      "A1OES7R7FDAT2L ['B0013441J8', 'B002VKVZ1A', 'B005FYNSPK', 'B009A6PJKQ', 'B0035JJJQY']\n",
      "A35HUT8MQMT21L ['B0037WNONS', 'B009JJJ7S4', 'B00004T8R2', 'B0045IIZKU', 'B0000645RH']\n",
      "AYP0YPLSP9ISM ['B001GUY5PY', 'B001OP35BQ', 'B003LZ6F8M', 'B002YHYTI6', 'B0053NBLFW']\n",
      "A3R1GJY2MY8041 ['B001BXS4LW', 'B0015L0T68', 'B000F6MOQM', 'B0019X20R8', 'B001KMWOJ2']\n",
      "AZOK5STV85FBJ ['B00B25P27S', 'B0002L5R78', 'B009TL1YMY', 'B000O5N5AI', 'B00FB2XNCE']\n",
      "A25TNBMJ4ZO7RD ['B001V3B8YC', 'B007JGB4RQ', 'B000FKQ8LA', 'B003NSC2WU', 'B00D1GYNT4']\n",
      "A2TRXEZYU9GYY8 ['B005CKQF3E', 'B003XM1WE0', 'B001E0JH5E', 'B003N8GVUY', 'B005UBNL0A']\n",
      "ASJLXOX1VD4DF ['B003M8HWDA', 'B002HWRJBC', 'B008X9Z7N0', 'B003FMVCRU', 'B005IHAIDO']\n",
      "A1P4XD7IORSEFN ['B006PWGESY', 'B007UNMHIS', 'B009F1J4QQ', 'B001JTG82U', 'B0084OIY0M']\n",
      "AY3XPKRAMKKY7 ['B002SAJCYU', 'B000RECQOM', 'B000EVS4YY', 'B003HKRVAW', 'B00005NIMJ']\n",
      "A21KNRUAA5RK5E ['B0002EQUIA', 'B0076POAI0', 'B005PQ1V20', 'B006LW0W5Y', 'B001N85NMI']\n",
      "AYB4ELCS5AM8P ['B00G4V0QSK', 'B004CLYEE6', 'B004CLYEFK', 'B00CILJB0E', 'B009NHWVIA']\n",
      "A1FOSIV4TWZFR7 ['B004Q72PEM', 'B0080BK4I4', 'B004XIT4NO', 'B008R79VMQ', 'B00026BQJ6']\n",
      "ABMN74TBW5UWE ['B002WE0QN8', 'B000M2TAN4', 'B003LLS5JI', 'B0040JHVC2', 'B002DW99H8']\n",
      "A2WPL6Y08K6ZQH ['B00FJWKYYG', 'B00BGGDVOO', 'B003U4VIXQ', 'B001DJ64D4', 'B003ELOSIW']\n",
      "AI2AOCTC8BQVZ ['B008R77ZCO', 'B002V88HFE', 'B000UZN2ZK', 'B00932N46S', 'B004U9USEA']\n",
      "AS8C336DDLSO4 ['B002L6HEBE', 'B000H7GFWS', 'B008DWCRQW', 'B004CLYEDC', 'B003ZHTNNK']\n",
      "A28BX3MM90A6FI ['B001GAOYCS', 'B003F69JBW', 'B005Z452F4', 'B004TJ6JH6', 'B007FGYZFI']\n",
      "A20VG5W98SX99L ['B00834SJNA', 'B001DQKHX0', 'B004CZ9U96', 'B00G024X32', 'B006W3ZWXE']\n",
      "A225G2TFM76GYX ['B0076BDBDE', 'B002SQK2F2', 'B00EI4V3FU', 'B001F7AHXM', 'B00JC5Y6WM']\n",
      "A3N4I2KRSMACW8 ['B00ID2HI8O', 'B0011UIXLG', 'B00CBQNB7K', 'B002WI8GG8', 'B006SOLITY']\n",
      "A3PDWA32BAMB2Y ['B004JJU6I4', 'B004WYA7EE', 'B0036WTWX0', 'B003CKC8W8', 'B004W2JKWG']\n",
      "A2S26YGSVXBCFL ['B004CLYEFK', 'B00C8OT7FK', 'B00CRFK24K', 'B002SZEOLG', 'B00GRNUO2I']\n",
      "AT28RL25Q2OLK ['B004V1DAC4', 'B004XO8DMG', 'B001JSJWRY', 'B001GCVA0U', 'B000KZ70JE']\n",
      "A2QRXQPHDMFCQV ['B003VW20A2', 'B001F8SAK8', 'B002R5AM7C', 'B005GOINEK', 'B0041RSHWG']\n",
      "A1V5TRJXTI6F01 ['B002WE6D44', 'B0041Q38NU', 'B003DZ165W', 'B002FB684E', 'B0064L8Q1E']\n",
      "A20DZX38KRBIT8 ['B000UU7ZPS', 'B0031RGKZI', 'B001NT9UIA', 'B000EPHP4U', 'B001NPDKW6']\n",
      "A1B4MIXYVIKMU2 ['B000NSFLM6', 'B004IZN3WU', 'B000EWHH7I', 'B005GOINEK', 'B002R5AM7C']\n",
      "A19HKRB4LU5YR ['B0051UY168', 'B004MSQZUU', 'B00EHDZMFO', 'B00A0JUNWQ', 'B009QV72VY']\n",
      "A16RL0RMRF974O ['B002K40R84', 'B004DBIKOK', 'B00232YR3E', 'B007WTAJTO', 'B008AJNF78']\n",
      "A2PSD2R9A1CXG7 ['B00D68ZVY8', 'B002FU5QLQ', 'B002RR6TZY', 'B00007B4DM', 'B00009R6UI']\n",
      "AGX2K0FMS0IVL ['B004I5ERUW', 'B004T4XR1C', 'B001U3DZMQ', 'B0018PS4O0', 'B0015YRMXI']\n",
      "A1EKSETIBS9ETQ ['B000IN09C8', 'B00GSPW2QG', 'B00B7GAE98', 'B00019JPRO', 'B00005LEN4']\n",
      "AU3GYRAKBUAEU ['B000V9RL6G', 'B004QZASJ8', 'B001EO6QR2', 'B006LP0FXA', 'B0049P6OTI']\n",
      "A1V3TRGWOMA8LC ['B00E87E1OM', 'B0043M9ATS', 'B00GJYJFKM', 'B006I5MKZY', 'B001QXDN5O']\n",
      "A1ILWPH1GHUXE2 ['B00EAXRVLY', 'B0088CJT4U', 'B008X1BV9M', 'B002R5AM7C', 'B0094S35W4']\n",
      "AG0PM9IAHQ06C ['B005DIBH10', 'B000A0UHXU', 'B008TLQ5RY', 'B008COJXHC', 'B000SEN9U6']\n",
      "AS2II0671KT2C ['B0009Y7APU', 'B0092HP3GS', 'B0036VO6IC', 'B000RFPBQQ', 'B008R6OPJQ']\n",
      "A1KI7YHQEOS1RB ['B0088LYCZC', 'B002CMLDT6', 'B0044YU60M', 'B002RM08RE', 'B004G6002M']\n",
      "AW68KVDV7BBRS ['B005SGIILO', 'B000F38IQK', 'B00427ZLS8', 'B00429N18S', 'B000BYCKU8']\n",
      "A2ARDVMUGDFED6 ['B003LA595M', 'B00005T3W5', 'B0059AK8HQ', 'B005HNHRA6', 'B0079M711S']\n",
      "A2PMR2PIGWKCQ9 ['B004ZEZBEC', 'B00634PLTW', 'B0061HMRA2', 'B005DEW4BQ', 'B0095F5AFG']\n",
      "A1T1YSCDW0PD25 ['B002J9HBIO', 'B00F2GMUPU', 'B007KI8IMW', 'B003ZM7YTA', 'B006TF36TM']\n",
      "A1UNJ46NSB352E ['B00ISIG690', 'B0063705PE', 'B009X00E18', 'B005QCDY50', 'B00HFRWWAM']\n",
      "A3HH340REI4J47 ['B004Q0PT3I', 'B001F42MKG', 'B001W26TKU', 'B000O8I474', 'B002IO2UM2']\n",
      "A18S2VGUH9SCV5 ['B001VEI2OA', 'B004NNVHUC', 'B002CO6GUK', 'B005QL1H3W', 'B003GDFJUO']\n",
      "A3TBMAWIIHKHFN ['B002EOSQII', 'B000MVBHRW', 'B003LD4T0K', 'B004K1EZDS', 'B001E1Y5O6']\n",
      "A8FKL1DHTHC12 ['B004VFGJQ4', 'B004LTEUDO', 'B002UT42UI', 'B001V9LPT4', 'B002NO7PWC']\n",
      "A2X78O6G89CB30 ['B000WYVBR0', 'B000Q8UAWY', 'B003DV71DW', 'B003SQEAY0', 'B0049HKKPK']\n",
      "A2DS9DLMSU2M2Z ['B003WUX6PG', 'B004D4917W', 'B001EQ4BVI', 'B004W2JKWG', 'B0019CSVMW']\n",
      "A1URXSRV6WDHVY ['B00829THK0', 'B004CLYEE6', 'B003GALRIA', 'B00EU9V3S0', 'B00BQ5RY1G']\n",
      "A2QAOP52OEB5EV ['B001EUE6AK', 'B00018MSNI', 'B000JE7GPY', 'B006ZT4VA0', 'B000BDD56W']\n",
      "A74UT8IQCM0I2 ['B008RM235I', 'B006U3O566', 'B007JOO4YS', 'B00316263Y', 'B00004W3ZQ']\n",
      "A37PV5GMP2ILJC ['B00834SJNA', 'B00176TEGM', 'B003L1ZYZ6', 'B006JINHYS', 'B001DJ64C0']\n",
      "A1R76R4E6A8S3B ['B004QK7HI8', 'B000E1FYS8', 'B003VNKKTE', 'B00ADG5FLK', 'B008DWCRQW']\n",
      "AR8LWDT6TUKNZ ['B008B14VAK', 'B003T0EYVE', 'B0025EWXEU', 'B00363EZY0', 'B00BI9X7UC']\n",
      "A2ZDY0V4Q1SZD7 ['B001TH7GUU', 'B004MODQOC', 'B007DJGHF8', 'B0027VT6V4', 'B00C28L6EW']\n",
      "A3N0P5AAMP6XD2 ['B0073WTG6M', 'B005YHC4LW', 'B002SSM5AU', 'B002NUDGOC', 'B003GGXGU6']\n",
      "AG7EF0SVBQOUX ['B001GGL7Z4', 'B000067RVL', 'B003DC8D8I', 'B000F7QRTG', 'B002RL9WDQ']\n",
      "A2858RV2VLI14X ['B008ASF5MC', 'B0007TOR08', 'B000T8YM34', 'B000I2C80K', 'B00847TOLC']\n",
      "A16SRDVPBXN69C ['B000UMX7FI', 'B000B9O83A', 'B000I1X3W8', 'B00622AG6S', 'B0001G6U3Y']\n",
      "A3RMEU4GNP60BM ['B00DR0C96S', 'B0009Y7APU', 'B00461E7JE', 'B000QUUFRW', 'B006Y61KY4']\n",
      "AKSFZ4G1AXYFC ['B002W4RPD2', 'B001TH7GUU', 'B005C31HC0', 'B000FFISV8', 'B000FOYMKU']\n",
      "AOEDWQLH2WKKW ['B003XQ6FDE', 'B009K184TO', 'B000NO5QVG', 'B001S0I1M0', 'B006Z1J2JI']\n",
      "A3VZH0PWLQ9BB1 ['B00119T6NQ', 'B00275XTSQ', 'B004CLYE8C', 'B0097FZRYI', 'B003DZ14EU']\n",
      "A2T689YVOAYGGD ['B0007SXGJW', 'B003MVZ60S', 'B008RVJJZG', 'B000R9AAJA', 'B002K42W4Q']\n",
      "A2EW01G2LNJN06 ['B000EW8074', 'B002FGTWOC', 'B002VPE1WK', 'B000TYL27M', 'B003VAGXWK']\n",
      "A319Y83RT0MRVR ['B00CXADBRY', 'B00E6ONJJU', 'B00DQZOD8Q', 'B0046HAO40', 'B0097CZHAU']\n",
      "A11R5VW7IM6ISQ ['B000I4T7VG', 'B001SJVU24', 'B0000AI0N1', 'B000068O33', 'B0017XMN7C']\n",
      "A2EN82VBJT44QP ['B000COZ504', 'B005OMOUDM', 'B0029U0XF6', 'B001XURP7W', 'B0076DKLA8']\n",
      "A185O1MX1RP964 ['B009KY58FE', 'B0023Y9EQC', 'B0085IZNJW', 'B001VEAI74', 'B000067RT6']\n",
      "A23ONMGKEWDG4M ['B0047WZOOO', 'B001EO10IW', 'B000V04RQM', 'B000B69WVG', 'B00316ZH5I']\n",
      "A2IXK5LB4Y0NYV ['B001212ELY', 'B007PA1K84', 'B007G51UV0', 'B0053NBLFW', 'B00HQ883QW']\n",
      "A2RIXSMGE9VIBG ['B0090IA3AU', 'B007M58WWO', 'B004U78J1G', 'B0006A7X36', 'B0097252UK']\n",
      "A1DQHS7MOVYYYA ['B001F51G1G', 'B00CALLZK6', 'B000MMWT9Q', 'B006K551TO', 'B001B5CVNC']\n",
      "A3Q6ZPW60CVF2L ['B0096TTOHG', 'B000L9635G', 'B0012MI7N2', 'B000W3QLLW', 'B0015L0T68']\n",
      "ARBKYIVNYWK3C ['B005FYNSPK', 'B001C4ETU0', 'B00D5Q75RC', 'B0041Q38NU', 'B0002A9U7M']\n",
      "AGXV8E7XK9J6H ['B000EPHQNA', 'B00009R6WL', 'B000EPJLGK', 'B00004WCIC', 'B003VNKKRG']\n",
      "A18A5VSD0IPN14 ['B003GSCS3U', 'B008ZGKWQI', 'B00422KZQG', 'B001DTCPBO', 'B006G5ZVA2']\n",
      "A2TMFC9O3ZCNKE ['B0083S3NC8', 'B008JGU3YA', 'B0037ECAQ8', 'B007BCIJP8', 'B00CL8F98W']\n",
      "AWPODHOB4GFWL ['B000N99BBC', 'B00DK2JQOQ', 'B005HY4UJ6', 'B0007Y79AI', 'B004QQXDVC']\n",
      "A2LFWJ8X817QGX ['B00DSJA3G6', 'B00BQ4F9ZA', 'B007IMPMW4', 'B005003WAA', 'B00BB0ZTJA']\n",
      "A1WF4QNIE2Z3I7 ['B0099SMFVQ', 'B004K8WPUQ', 'B0093H4WT6', 'B003FVJYF8', 'B00CRY250U']\n",
      "ADLVFFE4VBT8 ['B001T9NUJE', 'B000JMJWV2', 'B004CLYEDC', 'B004CLYEFK', 'B0097CXWUW']\n",
      "A1DO9LRCO23EOM ['B001AH8BGW', 'B000MXYCU4', 'B0009KA6P0', 'B000O1QZW2', 'B000B55ANG']\n",
      "AIFLY2HF8NS8U ['B0046RE60I', 'B00IMZKDOS', 'B007IJ7T4G', 'B0021Y73W6', 'B00BBD7NFU']\n",
      "ATS2855497V0I ['B004CLYEDC', 'B002R5AM7C', 'B009AR2MQO', 'B0028Y4H1O', 'B004GUT1QO']\n",
      "A2IFKH3TJ10387 ['B00D68ZVY8', 'B004CLYEFK', 'B007Z92RGE', 'B00BVUQZZ2', 'B00CZ6WAEQ']\n",
      "A1VEELTKS8NLZB ['B003BT6BL4', 'B00B3O22NU', 'B005UBT7LW', 'B007SP2CO2', 'B005HMCCNE']\n",
      "A2HMF8ZR67BNZS ['B00603RTC8', 'B009B0MZ1M', 'B000ZMCILW', 'B00009R96C', 'B002WE4HE2']\n",
      "AEFTIUQHSVUFX ['B002SZEOLG', 'B005HWC6PI', 'B002L6HE9G', 'B007WTAJTO', 'B00316WHJ2']\n",
      "A64LEAZ2QF8L2 ['B009MAKWC0', 'B000H6AY6M', 'B005F5II1I', 'B001G5ZTZO', 'B000EVQ0OU']\n",
      "A3V5F050GVZ56Q ['B007OY5V68', 'B00DTZYHX4', 'B00FJRS5BA', 'B008EQYRRY', 'B0082E9K7U']\n",
      "A2F2GLVFRNV7JJ ['B000XZCIX4', 'B004KKZ0H4', 'B001T9EYFI', 'B0074BW614', 'B00007GQLU']\n",
      "ARXU3FESTWMJJ ['B00829THK0', 'B00001P4XA', 'B002IC0YLS', 'B000T8CWFE', 'B00006LHO7']\n",
      "A1F0KPA232MTYC ['B002MBKSV6', 'B00005115S', 'B004GCJEZU', 'B002TLTGM6', 'B008CBQSKU']\n",
      "A3S0EHEIR52HP1 ['B000233WJ6', 'B0061RJSWC', 'B0012Y2LLE', 'B001S0LUCI', 'B002F9NSMQ']\n",
      "A3UR2N0ATGBCU8 ['B000GIT002', 'B00387G6R8', 'B008M0NDOK', 'B00CXACPN0', 'B0056YNA1Q']\n",
      "A1MRRMHGV3PN5W ['B008HU9R7W', 'B002PHLZXC', 'B006K553LU', 'B002JCSV8A', 'B00829THEG']\n",
      "AFHYEO3Y1IIDD ['B008MF3X9K', 'B0096YORV4', 'B00829TIEK', 'B008U3038I', 'B004N625B4']\n",
      "A1PV5T5S4D5NPI ['B001SJVU6K', 'B00135IILO', 'B003ZYF3LO', 'B004WYA852', 'B003CP0OT2']\n",
      "A23NSKTMSPPBTR ['B0010DIK3U', 'B00505F01E', 'B001E2V7R8', 'B0000AC88K', 'B001AE30SY']\n",
      "A2LW5AL0KQ9P1M ['B008ULPAT2', 'B008V0IJ8G', 'B0079TOEQQ', 'B008X9Z7N0', 'B00ENY08VU']\n",
      "A25C2M3QF9G7OQ ['B00G4V0QSK', 'B00834SJNA', 'B004CLYEFK', 'B00829THK0', 'B0082E9K7U']\n",
      "AD8DLOGHAXL ['B000051299', 'B0012YFXSW', 'B0030DL37I', 'B00005T6GZ', 'B000H51GA6']\n",
      "A3IY316DRNF5F2 ['B004OOODOC', 'B0047E8DN6', 'B005FE72Q6', 'B003IZFCFW', 'B0057AVXJA']\n",
      "A2D1LPEUCTNT8X ['B0049WBZEK', 'B009YNICG8', 'B003ZX8B3W', 'B002Y6CJJ8', 'B0013DXVYK']\n",
      "A3OIMUR42XIOFQ ['B0058D8D3K', 'B00EZ9XKCM', 'B004CLYEDC', 'B006LW0W5Y', 'B003Y6UNI6']\n",
      "A3QMJMTLJC34QC ['B000BQ7GW8', 'B003B3P2CO', 'B00746LVOM', 'B0013FRNKG', 'B004N62HZI']\n",
      "A2WYF4POBUXL2O ['B007ADFTUG', 'B001ENW61I', 'B00009UTL1', 'B000BYCKU8', 'B002WC8862']\n",
      "A3UKWQS8SRW6IO ['B0038JECKY', 'B001CROHX6', 'B0040702HA', 'B0025VKUPW', 'B00HFRWWAM']\n",
      "A1CMWB7AWQUQH4 ['B001W1SRHE', 'B00ANKMNXO', 'B000OHYIDE', 'B008CXTX7S', 'B0001Y7UAI']\n",
      "A2V5M5EJPOD2IU ['B0063705PE', 'B000QZ0036', 'B00HFRWWAM', 'B005DLDTAE', 'B009HQCAPQ']\n",
      "A3QJU4FEN8PQSZ ['B0076U29LK', 'B009YE461W', 'B0095P2F1S', 'B00192KCAG', 'B00CDS9HTM']\n",
      "AG2YXYIQ8TLTA ['B005QUQP6W', 'B000N99BBC', 'B009LPV766', 'B0055QZ216', 'B009X00E18']\n",
      "A2FXBWR4T4OFQ ['B002K3X2WS', 'B000JV9NL2', 'B000FJD5IA', 'B00AWZFJ22', 'B001C271MA']\n",
      "A233TZONT1OGR0 ['B001LQSFKY', 'B003P2V52M', 'B0001XGQTA', 'B00005I9RU', 'B000T9DHZW']\n",
      "A4WEZJOIZIV4U ['B00829TIA4', 'B003ES5ZUU', 'B00834SJSK', 'B008EQZ25K', 'B000AZ57M6']\n",
      "AUBEFRFHJR64Y ['B002TBAFAI', 'B002KNE4R0', 'B0038A9HSK', 'B0053H73JQ', 'B002NTPLXM']\n",
      "A1L5TA5UQF7EWE ['B001U0O7PS', 'B001126PDM', 'B002SGATH8', 'B0082PVK8Q', 'B003RRY8ZG']\n",
      "A376OJHLE6SU9Q ['B000N99BBC', 'B004CLYEFK', 'B00825BZUY', 'B008DWCRQW', 'B002NU5O9C']\n",
      "A2F7CSE6KT7NI4 ['B0010DIK3U', 'B0088CJT4U', 'B005CT56F8', 'B002EE996Q', 'B0017JY5FE']\n",
      "A359MYLPLEOF7N ['B0056BPUQC', 'B00CTYEWKO', 'B004RLOPE0']\n",
      "A2UWPPU5GZLMQZ ['B004C13VWC', 'B004HO59M4', 'B00005A9AU', 'B0076F3RS4', 'B005HIS5K2']\n",
      "A18GJ9MYYO6GCQ ['B004YHXXKO', 'B001XURP7W', 'B00170F3SQ', 'B003J2V8AC', 'B003B3N258']\n",
      "A2CPP7BZKOF9TP ['B001M53FX6', 'B00DR0PDNE', 'B004G6002M', 'B0092HP3GS', 'B009X3UW2G']\n",
      "A3FFZQKCA7UOYY ['B003FVVMS0', 'B0035JJJQY', 'B001TH7T2U', 'B0007WK8MQ', 'B001SJVU6K']\n",
      "A3CW0ZLUO5X2B1 ['B004MXKSAS', 'B004GCUJWM', 'B00006HCJI', 'B000IF51UQ', 'B0002H4YUI']\n",
      "A38V76R24EJSHA ['B0057OCDQS', 'B000VX6XL6', 'B000J47W12', 'B0089WLYQ0', 'B002WLHPNK']\n",
      "A2A4X545ERLS7H ['B00989QKA8', 'B00AGABISW', 'B000JNQSIQ', 'B00123WZWK', 'B008THTWIW']\n",
      "A1F7YU6O5RU432 ['B00D6JBZBK', 'B005DSPLCQ', 'B00AYTW80M', 'B000O8WE66', 'B004SBBD8U']\n",
      "A2NX6MFZP8TM6S ['B000AYJDD6', 'B002R5AM7C', 'B001V7XPSA', 'B000WOIFGU', 'B002VPE1YS']\n",
      "A3DWO5RJDA430F ['B007E4PUT6', 'B0011N17RU', 'B001DAT0XE', 'B008CCHXJE', 'B007X3VEX4']\n",
      "A3775OP5VTX5ON ['B004803YTW', 'B006K5LBA2', 'B000CATP4A', 'B002RM08RE', 'B003RLJVYK']\n",
      "A15QYHQH80W30L ['B00015GYU4', 'B000GHXMO8', 'B00021XIJW', 'B001KJ91V4', 'B003UI62AG']\n",
      "A3QQGPI3CTV9SX ['B0013BT8US', 'B00101XVH2', 'B0013DXVYK', 'B00005LENO', 'B000BY52NK']\n",
      "AWSK1ZAEU1KFL ['B0039SM0AS', 'B00109Y2DQ', 'B00BUCLVZU', 'B009NB8WR0', 'B000063TJY']\n",
      "A2O6HZ2B9YSRXR ['B0041RRNLC', 'B003NREDC8', 'B004FA8NOQ', 'B001F51G16', 'B0041OQKIC']\n",
      "A1S7BFT0HDF3HA ['B000R9A9JG', 'B005PC7VG4', 'B004I3VZJK', 'B000EXS1BS', 'B00G024X32']\n",
      "ANXEW7IDYDJEH ['B00HVT27B8', 'B00BDS3N1G', 'B000ANCPNM', 'B006P88VSE', 'B00006JN3G']\n",
      "A2SKEQT0WTB954 ['B007G5NNOW', 'B004MKNJ84', 'B00CRXZPA8', 'B003AM7V0C', 'B001ISKNKA']\n",
      "A28UMA3GW9L124 ['B002UUPWP6', 'B004JJU6I4', 'B0088CJT4U', 'B008DWCRQW', 'B009YT6PPC']\n",
      "AJEOFP6ZWY0MK ['B0041Q38NU', 'B00CHRID4Y', 'B008LXSA78', 'B0039BPG1A', 'B002SQK2F2']\n",
      "A2V0I904FH7ABY ['B008DWCRQW', 'B002AEU3EW', 'B004J8HWHI', 'B00007M1TZ', 'B002K9IHGI']\n",
      "AVBLGXSWRN666 ['B002M3SOBU', 'B0013FRNKG', 'B001C271MA', 'B00CF7E0R0', 'B0011F19CG']\n",
      "A3BVN2QBNPBHCR ['B008R7EWEI', 'B00EOI2TD0', 'B00G6CLN3Y', 'B00EHDZMFO', 'B005TDWU24']\n",
      "AL9WKVMRI6GFB ['B003ES5ZUU', 'B0039NLS3I', 'B00113XADE', 'B00475K64E', 'B0002E51CQ']\n",
      "AELK0E5DK7LIZ ['B008D97LNE', 'B00005N5WW', 'B00BQ4F9ZA', 'B003UE52ME', 'B00CWBABP4']\n",
      "A2J7FHZFKOKGZ6 ['B003U8CP84', 'B0021RBYQY', 'B004CB56XE', 'B0007T27D2', 'B0001WW3F2']\n",
      "A1F1A0QQP2XVH5 ['B004CLYEFK', 'B009OS4V8G', 'B000JZ76IK', 'B00829THO6', 'B000CSOXTO']\n",
      "A2JP9E1H0SF392 ['B003VAK1I2', 'B006U3O566', 'B007RH5GZI', 'B000E6NGBU', 'B00BR3ZYIW']\n",
      "A28P7V9KI7MXP ['B009HQCARY', 'B0058AH2US', 'B00AAIPT76', 'B002ZIMEMW']\n",
      "A105S56ODHGJEK ['B002AEU3EW', 'B00HQ883T4', 'B009HQCARY', 'B00BD7UVHG', 'B00IVFDZBC']\n",
      "A24P4E3RJ6AX94 ['B000FNFSPY', 'B00449F6I4', 'B00C28L6EW', 'B001UYUNSE', 'B003XM1WE0']\n",
      "A3E3EQ39FZTZEK ['B00AGA6FLC', 'B001TH7T2U', 'B004FJV8EE', 'B003YFHE9I', 'B009YCASK2']\n",
      "A1UQUDT2Q0YENM ['B0006TZK6O', 'B000IXP946', 'B000JQLPZE', 'B00F9ZQQ8Q', 'B00D1GYNT4']\n",
      "A2TVJ0YDW3QO63 ['B00008SCFL', 'B001SJVU24', 'B004Q3R9B0', 'B0025ZH43O', 'B004GUT1QO']\n",
      "A1V4A5U5O3TMMD ['B0009IQ1BU', 'B002RMPHMU', 'B0058J1QYC', 'B009O7YUF6', 'B002ZCXJZE']\n",
      "A2KHG3JOFXQ4CE ['B001C0QUW4', 'B00C2ALYII', 'B0098O6CMO', 'B004N6259G', 'B008HU9R7W']\n",
      "A2HPJKM7L4EOQB ['B000EBK3FW', 'B000GHTGES', 'B0001G6UB6', 'B000EMWBV0', 'B00004Y2MM']\n",
      "AS269J1OGZT1V ['B008K24BKU', 'B006I2H0YS', 'B002UUPWP6', 'B00AA478UQ', 'B004DBD4TG']\n",
      "A38NHXL5257E3B ['B00829TIEK', 'B003SGCO3E', 'B00109Y2DQ', 'B0081FLFQE', 'B0091PEC3Q']\n",
      "A3639Z6O5JBLIZ ['B001S0NTMC', 'B001P3PSR6', 'B0018BZJNS', 'B000MPNUE6', 'B00DR0PDNE']\n",
      "A1L0P1ZP5FD6EC ['B00BFRKYVM', 'B008GVM9K4', 'B005003WAA', 'B00BC4SJEC', 'B00030AXNQ']\n",
      "A5JLAU2ARJ0BO ['B000068OJM', 'B0002T3UPG', 'B0007KQWF0', 'B0002DG0OA', 'B001LK6XFY']\n",
      "A1B0NL8UWAELI7 ['B000NP3DJW', 'B000E9U9GC', 'B000CD6B6W', 'B005B3VO24', 'B0007U00X0']\n",
      "A1143YEAZYMYHJ ['B001EYV9TM', 'B00CZ6WAEQ', 'B001GS8FZ2', 'B000TXEE14', 'B007FZN53W']\n",
      "A2HKUM9OEBQKDW ['B001TQCSUE', 'B000067SL4', 'B007TTEHMW', 'B000QZ001I', 'B003A9LH28']\n",
      "A2BYV7S1QP2YIG ['B0002WPREU', 'B009T3AHW0', 'B00C20KWP4', 'B005LJQMZC', 'B00GMTN96U']\n",
      "A3U6J0DLLDEWM2 ['B000UVZ5TA', 'B004GZ89N0', 'B005HSG31K', 'B0011UK35K', 'B00JP12170']\n",
      "A3JAH5WW61N2EK ['B008TYKEWS', 'B00B2166BS', 'B001CCAISE', 'B0002229JQ']\n",
      "A35C2IVVQR1HTK ['B001UE6MIY', 'B004K1FTI8', 'B000UWX70S', 'B007WTAJTO', 'B00013J89K']\n",
      "A28X0LT2100RL1 ['B00006JN3G', 'B000652M6Y', 'B000CSOXTO', 'B003ES5ZSW', 'B00752QXZ2']\n",
      "A1LD5SE8IZ1H70 ['B000OG4E1G', 'B007X0ASZM', 'B000OGX5AM', 'B001202C44', 'B00EB7UIO6']\n",
      "A212MDP6K4VJS5 ['B000233YDK', 'B000HJ5N2Y', 'B00101XVH2', 'B002HKHLDK', 'B005CLPP8E']\n",
      "A1HSM98KUGTHNY ['B00CFIDQZG', 'B00570DFYQ', 'B001CN9K6E', 'B000RZQZM0', 'B007BJHETS']\n",
      "A2JAEZ0FMAMJVW ['B00DBX371C', 'B004J4VYEY', 'B006TAEH7W', 'B00CYX54C0', 'B00F9VROO0']\n",
      "AWPN47SSWK1JV ['B001PNNXGO', 'B003Q6CU12', 'B002LEVGMO', 'B00FZ9SMVU', 'B000H312RK']\n",
      "AGYH5U11ZKPFB ['B000OGA81Q', 'B0064XAIZY', 'B0091F8F7A', 'B00752VKTG', 'B006VCP72W']\n",
      "A3JUHP1E3WUHEA ['B004BLK24S', 'B008C1JC4O', 'B0033PRWSW', 'B00CRY250U', 'B003NREDG4']\n",
      "A1VUN4JU731CBH ['B004E8X6FU', 'B000XQRAI6', 'B0006VJ7TI', 'B000096B01', 'B000HCRVSK']\n",
      "A2XU6J41ZQOJ2V ['B000MISEI0', 'B002Q0W80W', 'B002CIBK0W', 'B005S8ND9O', 'B00007E7JU']\n",
      "A18OTCHQ6MXD6X ['B002WE0QN8', 'B0013P3ZOE', 'B001UE6I0G', 'B00404LAPQ', 'B004WO8HQ4']\n",
      "A2SR7S6ZJJDGNB ['B00CO2D4G4', 'B006ZTMEZ4', 'B005HM0SNA', 'B00DVFLJDS', 'B007P4VOWC']\n",
      "A3DGJMO6VPG6FJ ['B00HPMCO14', 'B008MCZJXG', 'B001F8SCRE', 'B004QK7HI8', 'B000JLK5NW']\n",
      "A2W9GX82SLKROQ ['B002P370AI', 'B002EF2200', 'B0019M7WCW', 'B008HO9DIG', 'B0002XQJFA']\n",
      "A1MEISNED4NP7U ['B009NHAEXE', 'B000V1PAWQ', 'B001TZUS98', 'B000QUUFRW', 'B0054VNHSW']\n",
      "A2CIQEY05SPHTZ ['B000NK6DZI', 'B001TANZ0W', 'B001AYW91I', 'B000JMJWV2', 'B000YQ6DIS']\n",
      "A37D1ZP8GBHE38 ['B00006HVLW', 'B006ZH0KJS', 'B00DY2Y28M', 'B00EH5UGR6', 'B002SQK2F2']\n",
      "A2NN1KIYEM2SKS ['B004HXAN4O', 'B000K5VCUC', 'B000MX48VM', 'B007PJ4P4G', 'B000NMFCIA']\n",
      "A3LDLV1GWQJLEQ ['B00829TIEK', 'B004GUT1QO', 'B004T9RR6I', 'B004CZ9U96', 'B007PTCFFW']\n",
      "A3LSEIG2PIJYBL ['B000N35A0Y', 'B000063TJY', 'B003VWYBC2', 'B000068O3C', 'B0049LBJ56']\n",
      "A8CKH8XB33XGN ['B008Q3CEJS', 'B004REA7MG', 'B006LFK16Q', 'B004AW6RUQ', 'B001MRVFPY']\n",
      "AX05DBU8IRUWY ['B0025VKUPW', 'B007WTAJTO', 'B0049SCB2Y', 'B009PK9SB8', 'B003ZBZ64Q']\n",
      "A2LF16F0KX9L7P ['B00829THK0', 'B005X9XVNQ', 'B0003V577C', 'B006ZS5AQA', 'B00DR8LAE2']\n",
      "A1UQBFCERIP7VJ ['B004CLYEH8', 'B00JF0D7RE', 'B00DTZYHX4', 'B007OY5V68', 'B005VAORH6']\n",
      "A20G074MWH9U7O ['B00513HAEA', 'B00BIFNTMC', 'B00D856NOG', 'B008HYQ7ZI', 'B002HWRJBM']\n",
      "A1QQA7Y92L4F9R ['B00102ZOQC', 'B003B48UQ8', 'B000HDJT4S', 'B0000DD7OH', 'B007WTAJTO']\n",
      "A2DIQTZPF26T1L ['B00565T3ZW', 'B009AEPTDA', 'B003SGCO3E', 'B004GF1PC2', 'B004WITQ9C']\n",
      "ACYZXQ2JKPZKT ['B003CJTQ3I', 'B004RORMF6', 'B000VL1QF6', 'B001FA1NK0', 'B00017LSPI']\n",
      "A2DF62DP20RIXF ['B00094OT36', 'B0040VNDKO', 'B0048HUNSK', 'B001F51G16', 'B00025O7FC']\n",
      "A1VGXHHR08G044 ['B005BV0FHG', 'B001SERK14', 'B0088PUEPK', 'B00486UR2I', 'B0023B14TK']\n",
      "A2RG1B0K8YBJ4A ['B000A2BLEC', 'B001RB21JY', 'B000068O6B', 'B004AGX4YO', 'B000NPT4TK']\n",
      "AVSMRPI23DQI2 ['B0049H8W1Y', 'B000UVM0ES', 'B0007QKMQY', 'B000P1NAMO', 'B00093IIRA']\n",
      "A3QX0ERX4D03TF ['B007X67ETO', 'B006NWJBZE', 'B002MAPRYU', 'B00I2ZBD1U', 'B0038KTAXW']\n",
      "A2503LT8PZIHAD ['B0079UAT0A', 'B000EC3GDC', 'B003U7WCEM', 'B0000DK5LW', 'B00BE68UZ6']\n",
      "AWNJAY0M5UI70 ['B002RCNX8K', 'B0036Q7MV0', 'B005OFFH5Y', 'B002SAA42Y', 'B0077E47SI']\n",
      "A1HBEQWSMVQEWJ ['B005Q79TL8', 'B009GHYMB6', 'B00DMJI9TA', 'B009CL6DUE', 'B003XM9774']\n",
      "A247L282PID4PE ['B002UT42UI', 'B0037U95U6', 'B002KT1ZIK', 'B0011WHFPE', 'B002L6HDPG']\n",
      "A203OCQQ12MAVT ['B000S5Q9CA', 'B005DKZP6G', 'B003ZUXHV6', 'B005DKIID8', 'B002KC55OM']\n",
      "A2MOJANFPX353G ['B000J171MK', 'B001UHOX2S', 'B0067WL60I', 'B002OHDFOA', 'B000VZCEUI']\n",
      "A2NSMJVQY0RV9S ['B000NP3DJW', 'B00427TAIK', 'B001G5ZTLS', 'B00316263Y', 'B00007E7JU']\n",
      "A20951I210L0IB ['B0018P7WZ2', 'B004SZFCPG', 'B0062PLM2W', 'B003WQ4U0A', 'B0028Y5GKK']\n",
      "A1JBEKU5TYIWE7 ['B001SLFN7U', 'B000092YPR', 'B004286VMW', 'B0051PMWY6', 'B001T6K7G6']\n",
      "A17W0GMB0YY83M ['B008CNXXM4', 'B007B6YPAW', 'B009NHAEXE', 'B003VAGXWK', 'B003XM73P2']\n",
      "A15Q2L6DYRTFIU ['B002SSK9VW', 'B00394T7BW', 'B00483WRZ6', 'B0095ZLP3C', 'B005SSMPOS']\n",
      "A27TN8D0CZ8LUY ['B00AZCGF7K', 'B00F96PUNW', 'B004GUS4WG', 'B0059H60SK', 'B003ZG9T62']\n",
      "A22MANL4US4RMY ['B007NJ0S1W', 'B001SER4BU', 'B0055I183U', 'B000KFRSG4', 'B004HYFX0C']\n",
      "A1IU7S4HCK1XK0 ['B000075UZ7', 'B00603RS9W', 'B00DQZQPNM', 'B00894YWD0', 'B000XBMP5E']\n",
      "A1H98YV5K5BUX0 ['B0001GMIOE', 'B001IF252M', 'B000EM8GDW', 'B00004WCIC', 'B00006HOAE']\n",
      "A1EVV74UQYVKRY ['B004J4VYG2', 'B009PAEE58', 'B007X3VC7W', 'B00JF0D7RE', 'B001FA1O0O']\n",
      "A1SFPA80X7TRBR ['B000QUUFRW', 'B0002LEMWE', 'B0002Y5WZM', 'B0041Q38NU', 'B0007TOR08']\n",
      "A1Z16630QMH8Q6 ['B009PK2MNY', 'B000BSN4UY', 'B000VEHTLS', 'B000E8BGCE', 'B0019X20R8']\n",
      "A1QVFHPY8418HC ['B0000EZ1KK', 'B004I5BUSO', 'B000B63KSM', 'B00009EHJV', 'B009A6CZYY']\n",
      "A2I6GN7OHB9JKF ['B0052SCU8U', 'B00CU9GOAO', 'B001E0JH5E', 'B0028Y4DCC', 'B005GGTTZ0']\n",
      "A1CM4HI4S5P0WO ['B004CFF6ZI', 'B00005BC0K', 'B003FO4UHW', 'B0018QQDII', 'B001E2KAOO']\n",
      "A23GFTVIETX7DS ['B00F0DD0I6', 'B00829TIEK', 'B00HFRWWAM', 'B001DJ64C0', 'B00D38XDXM']\n",
      "A1GWG5CWLKJ7ET ['B000U8HBRW', 'B002MMY4WY', 'B00DQKQ7U8', 'B00AQDG99M', 'B00FZ9SMVU']\n",
      "A1B8EJQU73YGL9 ['B00001ZWXA', 'B004L9MBH6', 'B00009R72R', 'B008OHRJ32', 'B001EBE1LI']\n",
      "A1ZCSSCAGBCD49 ['B000BYCNM8', 'B002K9IHGI', 'B000UKMZ94', 'B00BQ5RY1G', 'B000065UDU']\n",
      "A26BDXG9KVH7SU ['B00A8OWALU', 'B0080YBH8M', 'B004ZMV2GA', 'B00HFRWWAM', 'B005450ZUG']\n",
      "ABQWMANK4AR63 ['B0000658CE', 'B0057XC5C6', 'B004H1PV4S', 'B004PA871A', 'B000Y79K32']\n",
      "A3TP31S61PPE3G ['B00365EVW4', 'B000ID37EA', 'B006ZBWV0K', 'B004MSQZUU', 'B0048IATQ0']\n",
      "A2JMJVNTBL7K7E ['B000O5MP4U', 'B00GDL2PPI', 'B00FH66AW4', 'B004U78628', 'B00EMHVVLY']\n",
      "A26877IWJGISYM ['B00BQHD4B8', 'B007HZLLOK', 'B002SQK2F2', 'B0031RG2JC', 'B003ZQYVVK']\n",
      "AGLT3L7ALL4O4 ['B007ILBJAY', 'B0026ZPFCK', 'B0013CED4I', 'B001963NZI', 'B000087NBV']\n",
      "A1TQZUSOU22E9M ['B003W9B4H4', 'B0020HR7DE', 'B005FVNHBI', 'B003ES5ZUU', 'B00CD8ADKO']\n",
      "A10Y058K7B96C6 ['B008DWCRQW', 'B005FDXMJS', 'B001QUA6RA', 'B0021L9C0A', 'B000RY2PLQ']\n",
      "AT6CZDCP4TRGA ['B0047741BG', 'B007POCCBY', 'B00064X4QM', 'B0002INUIY', 'B002M38I2U']\n",
      "A27M75LRSJ788H ['B006EWUO22', 'B001CIREXA', 'B005ZPEQZA', 'B002ZFF3KU', 'B004M5H660']\n",
      "A28621TSIR5EOG ['B007WTAJTO', 'B002UBE15C', 'B000TG4AGU', 'B00698ZUHK', 'B004P8K24W']\n",
      "A35Q0RBM3YNQNF ['B00G4UQ6U8', 'B00DIFIM36', 'B005QUQP6W', 'B00FF8ZRR8', 'B00EJ8CKGG']\n",
      "AGFSSC5DBY2HU ['B002X2F2N8', 'B002DW99H8', 'B003YH9EZ8', 'B0025VKUQ6', 'B00829TIEK']\n",
      "AN2IZT80ZUNJN ['B0000BZLBA', 'B003Y2ILB6', 'B0036NMQ7S', 'B005NGKR54', 'B004VTAVLE']\n",
      "A2UQK3DAZ8NO2T ['B003VAK1I2', 'B001CBKJGG', 'B0012GDOQS', 'B00125MHVM', 'B000HGIWN4']\n",
      "ACSX5AIZE3MJ9 ['B0007XGOTG', 'B002JM1V6O', 'B001AO4MWW', 'B00829TIEK', 'B00005ARK3']\n",
      "A3EZFFPVS34AMO ['B009A6CZ30', 'B002R5AM7C', 'B004275EO4', 'B002O3MVYO', 'B002OOWC4C']\n",
      "A1SB9BNNGKNX2Z ['B002KC55OM', 'B001LNO722', 'B005DKZP6G', 'B004SKBJYE', 'B009A6CZ30']\n",
      "A2WF58BAWLVI95 ['B00FF8CZJ6', 'B003N197CU', 'B006PU81QE', 'B002UT42UI', 'B0035JCI6M']\n",
      "A2AY4YUOX2N1BQ ['B000F7QRTG', 'B00005V8R8', 'B002VG39BI', 'B00822GIH2', 'B003AJXUTQ']\n",
      "A1ZTR0FR5AW9B4 ['B002KETE24', 'B000EVLS4C', 'B000FGNM6I', 'B000MDY7K4']\n",
      "A2U3OEIK1CUPIK ['B009IZ82DA', 'B0009GWXAK', 'B001BP1YEE', 'B000PELLGS', 'B000Y16TY6']\n",
      "A2PREU4LOFQRB1 ['B00HC0ZDOE', 'B00EXK14S0', 'B000N99BBC', 'B00B99JU5M', 'B00934CQ56']\n",
      "AOWF9T81XMX2S ['B001TH7GUU', 'B00BB0ZTJA', 'B000WXAX6G', 'B008R79VMQ', 'B0051UY168']\n",
      "A353U0L2HAMSHV ['B000H92BTM', 'B001CF2TYC', 'B005U4Y5FW', 'B000BWACX2', 'B0039BPG4M']\n",
      "AFNG8O2DXRCUV ['B0053OLY9O', 'B00BGA9WK2', 'B004E0ZLZQ', 'B001LNO722', 'B0012Z4QXO']\n",
      "A3BKNXX8QFIXIV ['B004SKBJ5S', 'B00D68ZVY8', 'B002R5AM7C', 'B00HZZZM1K', 'B002L6GEKG']\n",
      "A2X695AM08AIN1 ['B00AM4DKYC', 'B004MDQQ04', 'B00J8E8YES', 'B005J064XS', 'B005QX7KYU']\n",
      "A1RPTVW5VEOSI ['B00829TIEK', 'B0000UMLYI', 'B00AI95DI2', 'B00009W5FF', 'B00005NVBF']\n",
      "A34LQ791ACZ0JC ['B002D5XY8A', 'B0014YFC18', 'B000FQ2JLW', 'B002UDK9U6', 'B0001Y7UAI']\n",
      "AZ515FFZ7I2P7 ['B0044FJGFM', 'B001U0O5QO', 'B00CZ6WAEQ', 'B004OR14HI', 'B001UHOR88']\n",
      "A14Z6D3IRJ23F7 ['B001R1Q0OG', 'B0066D608G', 'B003LZYXYU', 'B006BZTVQM', 'B007Z419BI']\n",
      "A324X7RVDAV3FT ['B0040702IE', 'B008D4X97Q', 'B004AM6TKY', 'B001HDEECO', 'B00005T3W5']\n",
      "A35IX2GE0VC0JP ['B000HZ8942', 'B00D69747O', 'B001AH8BGW', 'B0015BUJ0Y', 'B0028Y4CWI']\n",
      "A2GMZZ6TDYOHY7 ['B00155RGYM', 'B006QB1RPY', 'B0027P9C9G', 'B003M0NURK', 'B00475K64E']\n",
      "APQQK1V695AUE ['B001DVZXC0', 'B001QTXKF6', 'B000BI2180', 'B000BI7NHY', 'B00140DBRY']\n",
      "A3SQCTNYQFVBWM ['B0055WL75K', 'B007WTAJTO', 'B001G1ZPV6', 'B001IBMLKM', 'B000PNGM18']\n",
      "A1JWSDDIH5Z7DV ['B004YKXGIK', 'B0009K9FZW', 'B0011ZCDKS', 'B000NEJYZA', 'B000JLWDB4']\n",
      "A1GNYV0RA0EQSS ['B001PKEJZQ', 'B008DWCRQW', 'B009AR2MQO', 'B008OPTQ76', 'B008ULPE70']\n",
      "A3NG7X4APIV649 ['B004CLYEFK', 'B000N8DJB6', 'B006TI443G', 'B000GL3U0U', 'B000IM9542']\n",
      "A3V0YR50F1XSKP ['B000EY5F5C', 'B00BQ4F9ZA', 'B004YWIJSA', 'B0038BW3W6', 'B0088PUEPK']\n",
      "AMFXXAOVV4CPJ ['B001QFZMCO', 'B000O8AHLA', 'B0082YNR0Q', 'B000LQMKDS', 'B007R5YDYA']\n",
      "ARX7Z3NI6O0F7 ['B008AL9VXI', 'B000BSOBG0', 'B00066EK40', 'B0093HKFYW', 'B005DKZP6G']\n",
      "A38KK0SZYEH5UD ['B00AJWLUEE', 'B003ZSHNEK', 'B007ZHAYL6', 'B0043M9ATS', 'B00858I4F2']\n",
      "A3J2YU2D9BH2J7 ['B0006I1TRY', 'B00023433U', 'B00009V6U0', 'B006W8U2MU', 'B001TH7GUA']\n",
      "ARTA78TP6H73D ['B00B9AB26G', 'B005HSDLCO', 'B00D429Y12', 'B007QJ3HKI', 'B008H9BXMK']\n",
      "A1VVRA3P6G1TWH ['B0007Y791C', 'B001DYC0CS', 'B00006I53X', 'B003RRY8ZG', 'B0014Z3XMC']\n",
      "A1V4VVBQBFXRHC ['B00DDK1QUC', 'B0063705PE', 'B001WM73P0', 'B00316263Y', 'B0049WBZEK']\n",
      "A2FSOHSM9X13JT ['B000LRMS66', 'B008B14VAK', 'B0012GDOQS', 'B0074BW614', 'B003WUBIZQ']\n",
      "A4UGMKUSX9XHI ['B004HD4L1U', 'B008BH5D6K', 'B007BY0MIS', 'B0010YWPZ8', 'B003DZJQQI']\n",
      "A3EHJ5519LG7TR ['B008AST7R6', 'B004ZMVQRA', 'B005LDLP8W', 'B002KEA8OM', 'B001FWYXD2']\n",
      "AQM0K7MBBT4AY ['B0015AV3XM', 'B0009Q56N6', 'B00FR6VL50', 'B004CLYE8C', 'B00BPHH8MA']\n",
      "A1MFAPVBW9BEGD ['B005LDG3YI', 'B0000DYV9H', 'B005Q0WDZE', 'B003B20F5E', 'B0058BG0UK']\n",
      "A3MFORLOKIOEQY ['B00DR8LAE2', 'B007TSERQO', 'B00HZT1T5E', 'B003UDCPEI', 'B0018M256G']\n",
      "A22CW0ZHY3NJH8 ['B004D9TGG8', 'B0001V2N62', 'B000V0IE66', 'B002QDQ67A', 'B008RQEEBU']\n",
      "A1NQFT941TOTT7 ['B001C4ETU0', 'B003ELYQGG', 'B005QX7KYU', 'B000UY3NR8', 'B000I5JHB0']\n",
      "A3QUDXLOJTKEP9 ['B0034XRDUA', 'B004SGSHDY', 'B003B3P2BK', 'B001Q2FM5E', 'B00829THK0']\n",
      "A10PEXB6XAQ5XF ['B0064RDIWU', 'B0040VGBYO', 'B002QI0X1K', 'B005KDYA44', 'B0084JFLTY']\n",
      "A15J9K7O10A3M6 ['B00AVBDGHM', 'B009WU5XUG', 'B001F8SCRE', 'B002SSL920', 'B000VY2BC0']\n",
      "A2HRHF83I3NDGT ['B004I4YOUG', 'B008R6OPJQ', 'B004LSNF04', 'B003SVSJ1K', 'B006VCP72W']\n",
      "ANRS196NKFVUU ['B005HJWWW8', 'B004TA0AUW', 'B004QGXOOI', 'B001EAQTRI', 'B000O8I474']\n",
      "A195EZSQDW3E21 ['B001XWTTOC', 'B00GGVPKKC', 'B004AA0U56', 'B003A31BDY', 'B006K553LU']\n",
      "A2RWHTNM5P3I8Y ['B002DGTGNG', 'B00I054WFQ', 'B00001P4ZH', 'B002JSS2NS', 'B003Q9AZHU']\n",
      "AUCISQA1YXX86 ['B000P9ZG00', 'B000P8X8R4', 'B00006JLOS', 'B007WTAJTO', 'B000WOT6O0']\n",
      "A20OBCQWBKCGZT ['B00D8T886S', 'B000O8WE66', 'B000HCRVSK', 'B001TUYQT6', 'B002VPDM2A']\n",
      "AW3LX47IHPFRL ['B00AA6OVAO', 'B0002UBDDG', 'B003TOE4PQ', 'B0053RJ3F8', 'B001EH8FZA']\n",
      "A3OYO7B6SS7QLH ['B004G7D0EG', 'B00BFDHV9E', 'B000U5TUWE', 'B005J7YA4G', 'B0057ODG6Y']\n",
      "A26EQ8U96JA92T ['B0093HAWZY', 'B008DWCRQW', 'B000ID7QNI', 'B004VTAVLE', 'B0034XRDUA']\n",
      "A3S5EXYZDEBF3K ['B0016ORQD8', 'B002LVUQYQ', 'B002JSS2NS', 'B003LSTD38', 'B005GJC01C']\n",
      "A1E1LEVQ9VQNK ['B00FSA8VQ2', 'B000HZGQ9C', 'B00AIHYHJA', 'B005HMKKH4', 'B00E3FJJYG']\n",
      "ATMQEI1LKR6VB ['B00829TIA4', 'B00BB9OOII', 'B001O94GNS', 'B005TDWU24', 'B00EOE4G4E']\n",
      "AR1T36GLLAFFX ['B004JMZPJG', 'B000WKW69Q', 'B004H8FNBC', 'B001M4HEVG', 'B001DZFYPW']\n",
      "A386LG0LRWKJZP ['B004A88RM6', 'B004H8FN94', 'B0041F2KIU', 'B00077AA5Q', 'B001QUA6RA']\n",
      "AYOTEJ617O60K ['B00BAHCYXI', 'B00011KHTW', 'B005QRA5IY', 'B0045OFBJC', 'B004T2KNS4']\n",
      "AEN44U6T9R93 ['B002BFA91C', 'B002WE6D44', 'B001U3Y6AQ', 'B0012R9T0M', 'B000TTTJ36']\n",
      "A3N4VTNFPMTHEF ['B000779RZA', 'B0002IG356', 'B0036VO67I', 'B00006B81E', 'B001F7HLRC']\n",
      "A2N3JSOIQ6ZNFL ['B00461E7JE', 'B000OGX5AM', 'B005F778JO', 'B001MA8I1U', 'B0011FCV8W']\n",
      "A14NA0W8ESGDSI ['B008WXKYX0', 'B004ELA0SS', 'B003VAK16O', 'B001CHHVCU', 'B0088CJT4U']\n",
      "A20DDH4NT6Q1E8 ['B004XC6GJ0', 'B003JQLI9O', 'B008TO3X4Y', 'B004QBUL1C', 'B0057FRTPW']\n",
      "A18HE80910BTZI ['B00829THK0', 'B000051WW9', 'B009VXUFLG', 'B002UUPWP6', 'B00D3F7D7M']\n",
      "A35OIWPVTGW3UC ['B00728ZAEY', 'B008MB6YX6', 'B004OB0EBQ', 'B0011Z44UA', 'B0007U00X0']\n",
      "AR3EVUQF0AC7R ['B00829TIEK', 'B002X2F2N8', 'B00DQZO0R0', 'B00EJ8CKGG', 'B007KZQMO6']\n",
      "A1Z4GII5CHCDG7 ['B0076W9Q5A', 'B006QB1RPY', 'B001BLTDZA', 'B000E6G9RI', 'B003NRHAH8']\n",
      "ADKZOXAOV8EXD ['B002WPUC5Y', 'B003XCVQ3C', 'B000Z80ICM', 'B000BYCKU8', 'B001CCLBSA']\n",
      "AYGEKID3G7DPW ['B001B8R03U', 'B000WMK8TE', 'B0000A1WGL', 'B0083XTQ42', 'B005FDXMJS']\n",
      "ANEXFROORI6F6 ['B000BUDHNQ', 'B003IT6YFK', 'B001AZ01EO', 'B000BV8604', 'B000XSDKP6']\n",
      "AVTJEWTCJ3PBE ['B003A4H2LI', 'B002WZAC4K', 'B00007FGUF', 'B0044DEDCA', 'B0027EMHM6']\n",
      "A2YEZ8Z3BW2SKG ['B0002Y5WZC', 'B005DKZP6G', 'B0025ZH43O', 'B008PWUS4I', 'B000N99BBC']\n",
      "A2SPV96SGOEO2 ['B001OC5L0C', 'B003E2VMJO', 'B002SNCOGA', 'B003DNS882', 'B004CLYEE6']\n",
      "A2PK64OVZA1U8Z ['B0002SQ2P2', 'B000M17AVO', 'B007JCNOHI', 'B00947LCZW', 'B0014XKQY2']\n",
      "AGOH8N902URMW ['B000N99BBC', 'B003Q6CU12', 'B00068U44I', 'B00426C57O', 'B00HFAEBWG']\n",
      "A3CP3J7OEGQMD5 ['B005KFRO8Q', 'B006DKEUAM', 'B000BTL0OA', 'B004ZEZGE2', 'B001FWKA7A']\n",
      "A13EQE9EY2ET93 ['B00EMHM622', 'B001KUL012', 'B001NJ0D0Y', 'B003YH9EZ8', 'B000EY5F5C']\n",
      "A14JBDSWKPKTZA ['B00001ZWXA', 'B004QK7HI8', 'B0010Z28XG', 'B000075UZ7', 'B0043M9ATI']\n",
      "ALHC64J88LVWO ['B005YHC4LW', 'B00CHRSAYW', 'B001RNNX8K', 'B00920HLTM', 'B0082PRPIA']\n",
      "A1TR1R2QKWRSRA ['B0036R9YA6', 'B005I6EU48', 'B00DQZTJKI', 'B0034CL2ZI', 'B009WZRCO6']\n",
      "A1H4IVXNXWWBLV ['B006U0Z72U', 'B0002ZLYYY', 'B0097DFRMC', 'B00004ZCAT', 'B00004ZCJE']\n",
      "AYLLSFYS3UP1H ['B006TT91TW', 'B008C1JC4O', 'B007CFRF72', 'B003VWY0VY', 'B00AQ2BTHK']\n",
      "A1IU4UAV9QIJAI ['B00B4PJC9K', 'B002N3DIC4', 'B0045IIZKU', 'B0027Q4HXG', 'B00012F6A6']\n",
      "ABXANRX4GPYRZ ['B000BK107G', 'B0007MGFI2', 'B00166KEG2', 'B002PHRDO2', 'B000CSVZTU']\n",
      "AOVTLYTHVDNUX ['B004YG7JV4', 'B0082E9K7U', 'B00452V66G', 'B007FELOZO', 'B0002AHS12']\n",
      "A2L36AGL8CKY3D ['B000068O3C', 'B005WUUFBW', 'B0098Y77OG', 'B0056TYRMW', 'B000068O33']\n",
      "A35X2JJI49OBZP ['B001RNNXQM', 'B000VY2BC0', 'B008HK3SSG', 'B002QAUN2M', 'B00005NIMJ']\n",
      "A33YZNZIRA3H97 ['B008SGNJY2', 'B00FZWZYWM', 'B001TKRLPC', 'B0089KJSLK', 'B008XKRPD4']\n",
      "A36A1ZYZH8568P ['B005FDWE4C', 'B009H0XQRI', 'B00D02AHEO', 'B000092YQW', 'B00092GM0Q']\n",
      "A1P0JSFW184ZXJ ['B001O5CCQK', 'B00EMHVVLY', 'B007KEZMX4', 'B00EMHVVNM', 'B001OOZ1X2']\n",
      "AYNAH993VDECT ['B00CPIF4G0', 'B004MSQZUU', 'B004UAL5AU', 'B000V0BIWI', 'B008H9BXMK']\n",
      "A10NMELR4KX0J6 ['B002UUPWP6', 'B0081CRXGI', 'B005CT56F8', 'B00CSIOLXY', 'B00B2166BS']\n",
      "A267FU71Z01CIH ['B00BWL33H8', 'B00DQZSEWM', 'B00829THK0', 'B008HO9DK4', 'B004ROOCO0']\n",
      "AGEWOMQ90BV8R ['B002N8JJ04', 'B000IWTHYA', 'B000UWYM5C', 'B005DCP280', 'B0012W7HQK']\n",
      "A2HDTOF8222KN3 ['B004V3KCJG', 'B0027BUS0M', 'B00AWKBZOI', 'B008Q60VZ4', 'B007BYLO4E']\n",
      "A2NB2E5DXE319Z ['B0088CJT4U', 'B007Q8GOHM', 'B009D79VH4', 'B005Y1CYSQ', 'B007R5YDYA']\n",
      "A1RL1OTV8IJMVD ['B00ATM1MHO', 'B00BQ5RY1G', 'B00FH66AW4', 'B0079TOI8K', 'B000II6YEA']\n",
      "A3FPSY1M6G7XIB ['B000BH5OW6', 'B000V6MSRG', 'B004VM0SE6', 'B0029ZA78O', 'B00004ZCJE']\n",
      "ANFJYYQ0P35CW ['B008BLTMFY', 'B00HRQB28Y', 'B001G5ZTN6', 'B0092ML8QW', 'B0090IA4FO']\n",
      "AK9BXHEXOOM6Z ['B004LU1U2M', 'B00109Y2DQ', 'B002ISVI3U', 'B003WV5DJC', 'B000MAXYHY']\n",
      "A16WP8NTPYB0ZM ['B002X3VBFK', 'B0019EQ1RW', 'B0092HP3GS']\n",
      "A1YVO5V1SO18DZ ['B00A7PPLP2', 'B005NHR6KM', 'B00DR0BOSC', 'B003RRYAXQ', 'B00HSQAIQU']\n",
      "ABAPF3XY1W6JX ['B003ZG9T62', 'B00EU9V3S0', 'B007WTAJTO', 'B004286VMW', 'B0077E48IM']\n",
      "A1J75JJ0Q2OEJN ['B004CLYEH8', 'B007WAWHLQ', 'B000UTQOEW', 'B0045H4FLO', 'B002IRY3ME']\n",
      "A2LTYEYGKBYXRR ['B00GR1I242', 'B000CKVOOY', 'B0031RD3YY', 'B00D5T3QK4', 'B00IKCQ0EK']\n",
      "A2YEOR4XJ8N3QE ['B0079UAT0A', 'B000S5Q9CA', 'B004T9RR6I', 'B003N3HKYA', 'B009JPBPWO']\n",
      "A1JUBRIZMO0RJV ['B002L6HECS', 'B008OEHPPM', 'B002Q0W82A', 'B003YH9EZ8', 'B001U0O5QE']\n",
      "A2Q2A6JKY95RTP ['B00170IBF8', 'B0012S4APK', 'B00DR0B7Y8', 'B0011U65F2', 'B008I21EA2']\n",
      "A11FX8HL2ANK6T ['B004YAYM06', 'B003VANOI6', 'B0000BZL1P', 'B003G2Z1M6', 'B005HMKKH4']\n",
      "A2Y1WNETD9AYHO ['B000YGO8S0', 'B0027CTURI', 'B00752R4PK', 'B00562O8U0', 'B0007LJHVA']\n",
      "AMZCZBK1EF1PV ['B002KS5CQW', 'B000P1NAMO', 'B004CLYEE6', 'B000I04WWY', 'B009SYZ8OC']\n",
      "A3LPL35P7FH78Y ['B007RESFHM', 'B003VAHYNC', 'B0026ZPFCK', 'B003X26VV4', 'B005CTCD6S']\n",
      "A2OBDNQ5ZYU1L8 ['B00175VDY4', 'B000WL0I1I', 'B00CDGSNKS', 'B00884WH74', 'B000I3NUQ0']\n",
      "A3S3VSXEFXBMRC ['B003PHJJV6', 'B00BAEVR4I', 'B0065WM4PQ', 'B0032JRRWK', 'B0074FGLUM']\n",
      "A3H4S6YO9VNGDZ ['B00212NO6W', 'B00A1A1LQ6', 'B0012X43P2', 'B0011YZJPA', 'B00CF1LS94']\n",
      "A3F9CMU8KNAY1M ['B000IS758E', 'B003X1AK12', 'B002J9HBIO', 'B005A0B3FG', 'B002K9IHGI']\n",
      "A28I5UM0FT3I6T ['B008MDSWI4', 'B0069R7FFQ', 'B007P4YAPK', 'B00E0EY7Z6', 'B007JPVT8G']\n",
      "A3QDMDSANPYGUX ['B00004Z5M1', 'B0034XRDUA', 'B005QJOIP8', 'B005S1CYO6', 'B008D4X4GW']\n",
      "ALQ4USPEQ9L5N ['B001762LIA', 'B0043M668G', 'B00DQZRQPI', 'B00JP12170', 'B00DQZSEWM']\n",
      "A1A5KUIIIHFF4U ['B000HEEG54', 'B000SEQGT2', 'B00135IILO', 'B000I20AJ6', '1400501466']\n",
      "A1A535TCGNMVPI ['B0017U8FVI', 'B0001H27PS', 'B001TZWNF0', 'B003ZSHKJ8', 'B000T5AQHS']\n",
      "A2X3L31KCXBHCL ['B001PKTR76', 'B001QATRCA', 'B002V1APJ2', 'B00DQZQ5T6', 'B005EM6IAA']\n",
      "A32NEDX6UVV8DE ['B002SB8RPO', 'B007B31IAK', 'B004RO3QLU', 'B000092TT0', 'B0079M711S']\n",
      "A3L1VJMHFWONCB ['B0032ANC8M', 'B00006BBAC', 'B0056IB3DY', 'B004G6002M', 'B00020S7XK']\n",
      "A1PEXTGNF36I1Q ['B005BHX0A4', 'B005BI5WMW', 'B001KN6WL2', 'B0014Z29OU', 'B0068RKK18']\n",
      "A16CVJUQOB6GIB ['B00596CP9E', 'B003CYKCG8']\n",
      "A2NT3W1F1XYBFZ ['B003GR6IUK', 'B00CFCTDD6', 'B004HO59M4', 'B001TP6TDW']\n",
      "A3D01HLSUFEZQY ['B0042IEVD8', 'B0018ZDGAC', 'B0034WR19Y', 'B0038MO3GE']\n",
      "A18YMFFJW974QS ['B00E1CZRHY', 'B00123WZWK', 'B00DUKJ5CQ', 'B00CSDMWGW', 'B000M4XMGI']\n",
      "A1X2LENOF84LCQ ['B00CU2K6MS', 'B000CBG0XI', 'B000FBSREU', 'B000NDA5E0', 'B0009N5MCY']\n",
      "A87N6UTYA6NOB ['B0052SCU8U', 'B002HWRJBM', 'B003YVL34O', 'B0007QU6WY', 'B001TH7T2U']\n",
      "A1X3DA7C61WZLQ ['B000ER5G58', 'B000IBROQE', 'B0015AARJI', 'B000VWOKQM', 'B00005T406']\n",
      "A1FR68QH6Z4YZM ['B001KELVS0', 'B006K5505E', 'B00065ANYC', 'B0030MITDK', 'B007BJHETS']\n",
      "A2W0XCWOK3MW6F ['B000GYI76Y', 'B003Y74AXO', 'B008HK3QII', 'B00E87E1OM', 'B002VPE1XY']\n",
      "AR74YY08IP2WE ['B0014JIKH6', 'B006U1YUW2', 'B009VV56TY', 'B00DR8LAE2', 'B00DQZQCUI']\n",
      "A2WW57XX2UVLM6 ['B005YR0X4W', 'B0094R4POC', 'B000VSWHIE', 'B002HWJT1A', 'B0013FRNKG']\n",
      "AW6A4PPENVZY3 ['B00E83XHXM', 'B009C3M7H0', 'B003LL51TU', 'B0090BSSZO', 'B000068O3C']\n",
      "A294BKN913UOGP ['B008AL9VXI', 'B001G1ZPV6', 'B001SER460', 'B000VDCT3C', 'B000T9251O']\n",
      "A28J3123I1QDKI ['B00D1W5MM0', 'B0045TYDXC', 'B000GLIIFW', 'B001TH7GUU', 'B001A4HAFS']\n",
      "A1VYFEJM12ZP11 ['B0013DXVYK', 'B004CLYEH8', 'B004I5BUSO', 'B0045I8E42', 'B00B2HCLL6']\n",
      "A2IIAQ7VVAHXTD ['B001TH7T2U', 'B000V0ETA6', 'B001VJ680U', 'B001KN6WL2', 'B000P1R9QM']\n",
      "A1AZQCVCDBQP6 ['B005SEZBXY', 'B005F778JO', 'B00F5NB7MW', 'B005B5G4S6', 'B00FEE7B1I']\n",
      "A2IT7S59GSASN7 ['B004SH40BQ', 'B005HY4UIW', 'B004MSQZUU', 'B007KTQU5I', 'B007JCNOHI']\n",
      "A1AQ8JT2A3UWMY ['B003E49GRC', 'B002BH3JDA', 'B0054L7FVW', 'B00004RC2D', 'B004Z57WDO']\n",
      "A2IFGGXG3YV3Y6 ['B00JC5Y6YA', 'B0050JS1QG', 'B006UMM1PO', 'B004N62HZI', 'B00GRNUO2I']\n",
      "AI8EMB0HUC6Z5 ['B000N99BBC', 'B000089GN3', 'B001TH7GUU', 'B002RYYZZS', 'B000CS1TLE']\n",
      "A226VGZWOEBPGL ['B002TLTE6Y', 'B00834SJSK', 'B0035JCI6M', 'B003VAM36K', 'B0041OUA38']\n",
      "A2VH0UT5EQFB6P ['B000UMXABE', 'B001S0PWWC', 'B000FVTPX2', 'B005DOUJL8', 'B009NUK6S4']\n",
      "AC6Z7DP1Z5GHD ['B001PNJM8C', 'B000L9OIQ2', 'B003Y5T464', 'B000VZS2EU', 'B000HI9O5W']\n",
      "A1X3ESYZ79H59E ['B004CLYEFK', 'B007BY0MIS', 'B005G81E9M', 'B00FQQ4PNQ', 'B005EWB37S']\n",
      "A1U4GOVZWL8ZTL ['B005LFT3GG', 'B004UR7250', 'B00001WRSJ', 'B007BY3PBE', 'B007ZIBURC']\n",
      "A3HR0ZZOFKQ97N ['B006U3O566', 'B00F0DD0I6', 'B003LGMJ4U', 'B00D6PTMHI', 'B006DDT6JO']\n",
      "A5GPH59NDWJRB ['B0002Y5WZM', 'B003B3P2CE', 'B0027VT6V4', 'B005DOUJL8', 'B0084Y9V54']\n",
      "A2L90SGUP36KGA ['B001D8X72G', 'B002ZIMEMW', 'B00029U1DK', 'B0064FS7HI', 'B006UMM1PO']\n",
      "A3OZA8HNJM26DC ['B00DQ6UPIW', 'B00834SJNA', 'B00F3SOHNU', 'B007WTAJTO', 'B007B31IAK']\n",
      "A1Y4EWMUTW73GD ['B001N85NMI', 'B00005T3EV', 'B000066E6Y', 'B0044779G8', 'B000FL2EJE']\n",
      "A149RNR5RH19YY ['B0001BRITE', 'B0046SXKO0', 'B0002UBDDG', 'B0000DIET2', 'B000ARSLB8']\n",
      "A2B7BUH8834Y6M ['B004JZI78O', 'B006GQHRU8', 'B001G5ZTLS', 'B0025VKUQ6', 'B004CLYEH8']\n",
      "A2NLI1M5K2MQ5E ['B00AI2HY72', 'B00FRHTSMW', 'B0079M711S', 'B003WGNSTE', 'B005NX7HY6']\n",
      "A1QLQCJVGCQPP0 ['B000BEQLFS', 'B0083I7Y8W', 'B0001M2FZK', 'B009SYZ8OC', 'B007FL6100']\n",
      "AO2EURP2Y4JZM ['B003DRCVUE', 'B0063705PE', 'B004SBBD1C', 'B004YIFP9K', 'B002SZEOLG']\n",
      "A3KNGMX2RVQG91 ['B007M50PTM', 'B003ELVLKU', 'B001J30FZM', 'B00022OBO2', 'B007YKUWN4']\n",
      "A314KKDIJWCNMV ['B0044YU60M', 'B00108UNEY', 'B004PYD9I2', 'B007P4YAPK', 'B003ZUXXWO']\n",
      "A1K4G5YJDJQI6Q ['B004H1PCWO', 'B008FLOWAU', 'B0036WS4CK', 'B001DU1ZHS', 'B000GIT002']\n",
      "A3LZA698SQPCXE ['B00E5UHRIO', 'B005DKIID8', 'B00FQQ4PNQ', 'B00DR8LA60', 'B005DPURPA']\n",
      "A3QNQQKJTL76H0 ['B000O8WE66', 'B004GGWOSK', 'B0000775AA', 'B00IL7B2YM', 'B00DQZQHBW']\n",
      "A3A15L96IYUO6V ['B000KBG51W', 'B00000JCT8', 'B0007QN18K', 'B005QUQP6W', 'B003M8HWDA']\n",
      "A1PPS91NLI7KEH ['B007VTYYHS', 'B00CD8ADKO', 'B00825BZUY', 'B00E0EY7Z6', 'B0079UAT0A']\n",
      "A3PD8JD9L4WEII ['B00BOHNYTW', 'B009D79VH4', 'B0041RRS0I', 'B001ISKNKA', 'B0042SDDXM']\n",
      "A3EQQHWJ1EEYEU ['B008MPB9YQ', 'B003QHXZM4', 'B0057OCDQS', 'B0030FMQ90', 'B006U1YUZE']\n",
      "A1KKE6VX8VPWZK ['B004X28I0A', 'B001S10DDO', 'B000RZ8WHG', 'B0000AHO99', 'B002L6GCP8']\n",
      "A2ZWJVKITA32OV ['B002AKKFPI', 'B000BDH2Y8', 'B003DZJQQI', 'B00AJHDZSI', 'B004XC6GJ0']\n",
      "A1NZLRAZJGD99W ['B00269SK6O', 'B000J4J6X4', 'B004T2KNS4', 'B00004Z5QU', 'B0000222MY']\n",
      "A3R1WFO4KIUQXZ ['B00022OCCI', 'B00099I0EK', 'B0000DBJ8A', 'B00EOGGDXO', 'B006TT91TW']\n",
      "A2L0F2T1DLTNT8 ['B001GIPSAW', 'B001EM9JXC', 'B00829TIEK', 'B000HJPK2C', 'B008V3TH48']\n",
      "ALNE7Q71JFC0F ['B001E1Y5O6', 'B008ALAAV0', 'B000XB9GV0', 'B008EQZ25K', 'B000BTCJNG']\n",
      "A196JN53PG0C7R ['B002GU5XKO', 'B000N4WRFY', 'B004N627KS', 'B001TH7T2U', 'B0030DL37I']\n",
      "A2SL5IW096Z2BL ['B000051299', 'B005VO7LG6', 'B002J46IYW', 'B0007SXHP0', 'B003GIJTR8']\n",
      "A4D5B7Q8A7PA6 ['B004CLYEFK', 'B00752R5Z4', 'B0049U3TVE', 'B0057UUB1G', 'B002ZRPYC0']\n",
      "A3UQSOJW51UU9T ['B00820A7SU', 'B00AQ2BWP4', 'B002L5QGQ4', 'B000MF7L5A', 'B000QUUFRW']\n",
      "A1MZL91Z44RN06 ['B0034CL2ZI', 'B0079UAT0A', 'B0002J2P2A', 'B001UE6MIO', 'B00HFAEBWG']\n",
      "AEL6CQNQXONBX ['B00B7FLPBU', 'B00CK4OZGO', 'B004HHICKC', 'B00K4VQZCM', 'B0040723AO']\n",
      "A16C19G0I2DE8S ['B00FEE7B1I', 'B007N4TVRE', 'B009HC7BL8', 'B00722JCMQ', 'B00CZ6D248']\n",
      "A11P105WVK5240 ['B0019EQ1RW', 'B004E10KFG', 'B00004ZCJE', 'B0002TPFTA', 'B009MSGEHO']\n",
      "A2L42QEWR77PKZ ['B005LJQM3Y', 'B001FA1OHW', 'B000QYEN1W', 'B000GIT002', 'B0002D6QJO']\n",
      "A32O5FZH994CNY ['B00829TIEK', 'B005HY4UJ6', 'B007Y4TTWU', 'B001OQC0IO', 'B0050A1O5U']\n",
      "A3LDFTSXU3UPBO ['B00B2HCLL6', 'B0014VY28A', 'B005HGBF9W', 'B008OIH4DQ', 'B004PGMFG2']\n",
      "A2FWZ58M6IQMD7 ['B0039GVOAM', 'B000067RCU', 'B0029L047W', 'B0013BT8US', 'B000RHZJN4']\n",
      "A7EU2BWLLCJY2 ['B00546JKJC', 'B008HU9R7W', 'B008LCYIEI', 'B000VW2QPO', 'B000HDJT4S']\n",
      "A1BT6TL7UCIC5Y ['B004CLYEFK', 'B009SYZ8OC', 'B00829TIEK', 'B0035P4BXO', 'B006WHPQCM']\n",
      "ABVYGB2TKBO8F ['B001BPE3KQ', 'B003WUBIZQ', 'B004W86GQS', 'B000BOLHH0', 'B001NJ0D0Y']\n",
      "A3M7BCQKSQAK4L ['B00948FSH4', 'B004XZMA9C', 'B007SHJIO2', 'B00DYOUGSU', 'B0041D0K1Q']\n",
      "A2WLNSZ9U0T1S3 ['B001GNBD8I', 'B001FA1NSC', 'B003Q6CU12', 'B001NPEB5Q', 'B0014KOB6Y']\n",
      "A19X4BF861LQST ['B007BWWVAC', 'B000OSZA44', 'B000I4WHD6', 'B0011FQUUW', 'B001KUV2KQ']\n",
      "A2Q204DY2L7YRP ['B009H0XQQY', 'B004MMEI8W', 'B004BFZHO4', 'B003ES5ZUU', 'B003ES5ZSW']\n",
      "A2XIOXRRYX0KZY ['B004CLYEDC', 'B00HPM1G8Q', 'B00ARB5FLQ', 'B00DIOALPE', 'B00GGGQHPO']\n",
      "A1X1CEGHTHMBL1 ['B002RCNX8K', 'B002V88HFE', 'B003GSL6UG', 'B001SJVU6K', 'B008R6OPJQ']\n",
      "A1XE3M22N91451 ['B00137NMMW', 'B002TNRTSC', 'B001LYPNFQ', 'B007QOX5A0', 'B001NTFATI']\n",
      "A4S2WAQVQR6PI ['B005U2VAW0', 'B0036WT3XO', 'B0013IO28E', 'B000I20B86', 'B002BUO5TO']\n",
      "A198CCH4NNLI2E ['B001R4BBLU', 'B001SER48S', 'B0006VJ7TI', 'B001OI2YZQ']\n",
      "A10O7THJ2O20AG ['B001ID829O', 'B00BT7RAPG', 'B0012S4APK', 'B0041Q38NU', 'B003FW9T0M']\n",
      "A3QAO3QBCQF89T ['B007YXA5S8', 'B004XXMUCQ', 'B008YDUTRO', 'B004GK0GKO', 'B00E3W15P0']\n",
      "A3NHUQ33CFH3VM ['B007WTAJTO', 'B0034CL2ZI', 'B004CLYEFK', 'B00BOHNYTW', 'B00834SJSK']\n",
      "A2UKE7GIVC7XFW ['B008DWCRQW', 'B001GS8FZ2', 'B006BUN7MG', 'B001DJ64D4', 'B005YR1PV2']\n",
      "A3QNX5KWHDV0GD ['B00009R6VO', 'B00519RW1U', 'B00007EDZG', 'B003ELOSIW', 'B009FU8BTI']\n",
      "A2Y29IRSI08F0I ['B009WQOS1U', 'B004R7A9NU', 'B0045KGZOG', 'B001QFZMCO', 'B006SOLITY']\n",
      "A24RCBRDXRXR0Y ['B0041NO012', 'B000OP8BVG', 'B0043CVH2Q', 'B00272MT3A', 'B005HGBEZ2']\n",
      "AAR7CEPXYJA0T ['B0031ESJ2I', 'B0013IO28E', 'B0009N544A', 'B001FFRTRQ', 'B0030BJEUS']\n",
      "AY3D7DG5L5WCK ['B008X9Z8NE', 'B008X9ZBVI', 'B00B2HCLL6', 'B004CZ9U96', 'B008X9Z9ZQ']\n",
      "AN9CP6J4JF91X ['B00829THK0', 'B004P1V8TM', 'B001XURP7W', 'B000WR3Z3A', 'B001RCTATM']\n",
      "A1Y051MQ2SVPFI ['B00BC4SL18', 'B001RCTA8I', 'B000NP3DJW', 'B003MQWN40']\n",
      "A100UD67AHFODS ['B003O8682Y', 'B0071BTJPI', 'B004I5BUSO', 'B00A83I8G2', 'B005OA3BSY']\n",
      "AR18DH5SL9F73 ['B002MUGUFK', 'B004LPY204', 'B000X3FAJU', 'B003CJQ69A', 'B0091UHMHO']\n",
      "A2AEZQ3DGBBLPR ['B00005YXZE', 'B00004Y7CF', 'B009T0NNRO', 'B005FVNHBI', 'B0013FW8XS']\n",
      "A27Y4OEC9MD9PA ['B005NX7HY6', 'B004H8FNGM', 'B00009XVCZ', 'B00004SYNX', 'B000VDCT3C']\n",
      "A3CLWR1UUZT6TG ['B003ZX8B3W', 'B004SBBD8U', 'B005WY3TD4', 'B005DIBHA6', 'B00IA9LQK6']\n",
      "A2Z9S2RQD542CP ['B000HDZAUA', 'B002K3Z3DO', 'B001F7AHOG', 'B00DR0PDNE', 'B004J3V90Y']\n",
      "A2NVQZ4Y7Y0J1R ['B0001AU6H6', 'B00275XTSQ', 'B004TS2AOS', 'B009YT6PPC', 'B0018P0S1M']\n",
      "A781ITP3HE2N5 ['B003UH0Z9Q', 'B002ZIN9DU', 'B007BCIJP8', 'B000JE7GPY', 'B0049P6OTI']\n",
      "ANW6EGY12V5XS ['B003ES5ZUU', 'B003U3A428', 'B001QFXDA2', 'B000HDONV2', 'B004NVUCH8']\n",
      "A215IN14OKAE2T ['B005K1Y4I8', 'B009UKZV0A', 'B00284VD02', 'B000SDW84K', 'B000AJIF4E']\n",
      "A1YE1IK0JYSIIE ['B001TH7GUU', 'B007S642BW', 'B003CVLTCW', 'B009DCNP9O', 'B008484Q6E']\n",
      "A32QOZWIKQDNZX ['B0000CEOYI', 'B0000228GG', 'B0019I1K0G', 'B001EQ4BVI', 'B0036WT1RW']\n",
      "A36IHC0K68NS2 ['B0000658CE', 'B002OLWITO', 'B00ATM1MGA', 'B006ZS5ATM', 'B005DKZTNK']\n",
      "A3IOQ7NVVLAUEE ['B00ARB5E8U', 'B006VAD2C6', 'B00AVSSKLW', 'B000NPZ4D0', 'B0040BPHJO']\n",
      "A28CCQNXWV6WA2 ['B000MIH8EG', 'B002KANXBG', 'B001BX4NSA', 'B002HEWA28', 'B001G5ZTN6']\n",
      "A2Y4H3PXB07WQI ['B005M21TBA', 'B000EPRG6W', 'B0002IYOKM', 'B0009MX5R4', 'B003ES5ZUU']\n",
      "A1IBKN1GXYJ3K4 ['B0002DG9XW', 'B004CLYEFK', 'B000N99BBC', 'B002LEVGMO', 'B00829THK0']\n",
      "A3SDJ70H00OQCJ ['B002ZLOR56', 'B000NK3H4S', 'B000093UDQ', 'B003ZX8B2S', 'B00001P4ZH']\n",
      "A204K1OFE8OB9Y ['B000UC3COY', 'B00BFRKYVM', 'B000UY3NR8', 'B002S53IG8', 'B0009204RI']\n",
      "A2KYRPDKVBI2R4 ['B007PY3ZPG', 'B000086EYG', 'B006LADLLS', 'B001IF252M', 'B007HZLLOK']\n",
      "A6VPK7X53QNAQ ['B000JQLPZE', 'B0000C8VF9', 'B002J9HBIO', 'B009FX5CY2', 'B000V1MLBE']\n",
      "A33775AIB1A664 ['B004G2KTU4', 'B001QJGYZO', 'B003TTK2X4', 'B0009F3SGE', 'B009YGGKXC']\n",
      "A209G57KXCBF4C ['B0039XQL44', 'B00CJKW4WQ', 'B00DTZYHX4', 'B00C25I5TE', 'B002FYL7PG']\n",
      "A1BXVZSQOJE6UE ['B004B52LHU', 'B007Q8GOHM', 'B00EPQ97C2', 'B007SHJIO2', 'B002TLT10I']\n",
      "AAEVGE52KL0DJ ['B009B0MZ1M', 'B00FFJ0HUE', 'B00B8L36A6', 'B004GF8TIK', 'B008AF383S']\n",
      "A1MFPAM9TTRTXN ['B005YXD4I8', 'B0045JCFLY', 'B00DY3J8VM', 'B00B4GGW5Q', 'B008AJNF78']\n",
      "A2W9I628I6SE1U ['B000P9CWTI', 'B0053XG1AW', 'B002IJ95ZM', 'B002JCSCYS', 'B00176TEGM']\n",
      "AVFJ327UXPXLF ['B004I4YPB4', 'B000DLB91A', 'B000O8WE66', 'B006LW0W5Y', 'B000VIT0G6']\n",
      "A1R3GN9MEJFXM3 ['B00APCMMDG', 'B000MYPPPE', 'B002RCLYXG', 'B00012FVYC', 'B004VEJYEO']\n",
      "ADZF3QDGSZE7K ['B00AJWLUEE', 'B007STXESQ', 'B003MNEA3K', 'B009WHV3XA', 'B003TLAMV4']\n",
      "A1G650TTTHEAL5 ['B00G4UQ6U8', 'B00EZL1IQA', 'B00DR0PDNE', 'B00CHH0JF0', 'B00A6288II']\n",
      "A2RU4U1JZ3DMP5 ['B005GTR0R6', 'B003LR7ME6', 'B00169N0BK', 'B001G445Q4', 'B0031AQ302']\n",
      "A2XXBZPQT5EXHV ['B00009RA60', 'B00DW374W4', 'B001TH7GSW', 'B000VE2RP6', 'B0006I09OS']\n",
      "AD0J5KK4WQXNS ['B0002UM0JW', 'B000FBSREK', 'B00006B7DB', 'B0007NIJBC', 'B000GP845M']\n",
      "A3V8P0O224OBDB ['B004L6MLPQ', 'B004Q0T0LU', 'B003CVQ9YK', 'B001OC6DCW', 'B007PXV310']\n",
      "A18L9A64XNGVGU ['B0042SXZFS', 'B003NZSX7G', 'B009QOGBZE', 'B008MWI16I', 'B0056K6TV8']\n",
      "A2OOXVZ6B1VZ9A ['B000O7K4LO', 'B000FYZARY', 'B00004Z5PY', 'B000051299', 'B00015Y0FK']\n",
      "A2AF0NOCM71J0B ['B004CLYEDC', 'B005HIS5K2', 'B00BW6KCTU', 'B00829TIA4', 'B001NPEBEC']\n",
      "A214W7SK2DJQ99 ['B004TGZ7WM', 'B004JZI78O', 'B005HWC6PI', 'B0000BZM56']\n",
      "A3LQUEB84IR3VO ['B002OJN250', 'B003WV8PKG', 'B0015DYMVO', 'B005ARQV6U', 'B000HPX4AQ']\n",
      "A2QIC4G483SQQA ['B004S7Q8CA', 'B00BT7RAPG', 'B005H3Q57M', 'B009O7YUF6', 'B0007TOR08']\n",
      "A25RTRAPQAJBDJ ['B0002EXJRA', 'B008MF48J4', 'B00026BQJ6', 'B00009WBYL']\n",
      "A3PCEB9ND82AGE ['B0043T7FXE', 'B0044DEDC0', 'B000EGOEBG', 'B0045JHJSS', 'B00E3W15P0']\n",
      "A21VM9WVF8EOSJ ['B001B7V55K', 'B005L91ZL8', 'B007ND42QK', 'B00000K13L', 'B0027Q4HXG']\n",
      "A24ARANWS5E3T8 ['B001Q9A69O', 'B0058UUR6E', 'B003XIM3QK', 'B00139W0XM', 'B002KL0VY2']\n",
      "AQ2FC1DLKVD8H ['B003MTTJOY', 'B008RZ0EQ0', 'B007GMPZ9Q', 'B007ZZ6OW6', 'B00DBX371C']\n",
      "AHD3NZHDUZ5I6 ['B0013FNZ1M', 'B0002J2TLC', 'B001C6IWME', 'B00009R9A1', 'B0013J0502']\n",
      "A16HXVNPU5TCGE ['B003VS9UP4', 'B0023ZK2TY', 'B006Y0YZZ6', 'B00006JPWT', 'B001ELQTTA']\n",
      "A3VONQL7YW8UPM ['B008LCYIEI', 'B005058B56', 'B005HU0LX4', 'B00HFAEBWG', 'B008HK3WK0']\n",
      "A3NYBI5VMVEEIK ['B001TDL34Y', 'B003EO1H7E', 'B0032CP24W', 'B001XURP7W', 'B000OGX5AM']\n",
      "A3TCMJ6GKZJFBQ ['B002P370AI', 'B00CRJSXR4', 'B0016IXEWG', 'B00829TIA4', 'B000CDA802']\n",
      "A3SX5MZTCZRQLF ['B004M8SBC0', 'B00CYX54C0', 'B006NNWZSI', 'B006EKIQYM', 'B00BOHNYTW']\n",
      "A31HE83MU98GBV ['B00DQZP7X6', 'B000F34FVM', 'B009E6J1BU', 'B009M27MB2', 'B00CD778LC']\n",
      "ACH055GTTIGC9 ['B00FDUHD2K', 'B000FVGM38', 'B00009V6U0', 'B002HREI34']\n",
      "A1EH2S92FHWZRP ['B002KANXBG', 'B0000D80D3', 'B003O6PXS6', 'B004PVW1DY', 'B006DEBYWU']\n",
      "A3SRDVCD2ATIIS ['B000067RT6', 'B004J4VYG2', 'B002DUEBIC', 'B008NMCPTQ', 'B0046TDJJK']\n",
      "ACHTDPEQYSEQL ['B008BH5D6K', 'B00BT8XX9C', 'B005QUQP6W', 'B004065DAC', 'B005FVNHBI']\n",
      "A2VJ5ALN1BIV3B ['B003D8GAA0', 'B002SRNS7A', 'B000EY5F5C', 'B0021Y73W6', 'B003L76BJS']\n",
      "A8X478DM3KAWM ['B002LITI8E', 'B002CZQ4GU', 'B00023433U', 'B003ANK9ZA', 'B00AQRUW4Q']\n",
      "A1NAA1R38JSNHV ['B000UHQVOW', 'B0016LDZ36', 'B003XKWLSS', 'B0002E3FBA', 'B0002V85OU']\n",
      "AXP8GO5Q3AXSA ['B002R5AM7C', 'B000XHS4SK', 'B007PXV310', 'B00BEGS4R0', 'B001M56DI0']\n",
      "A28525P0S5ZVJ3 ['B003F9VBGU', 'B005EV1R8Y', 'B000B651DO', 'B002U1N95K', 'B007PTCFFW']\n",
      "A3284KYDZ00BZA ['B0007N33IQ', 'B006YQBKE4', 'B000N99BBC', 'B002JCSCYS', 'B00BOHNYTW']\n",
      "A1TY97ZGQT5FGF ['B004ETQDHW', 'B00395WI58', 'B00427ZLS8', 'B0012YFXSW', 'B0038W0K2K']\n",
      "A3IK2VCQ007CJ ['B00DR0PDNE', 'B008EC4O76', 'B005NHR6KM', 'B0074FGSBY', 'B003GZ828I']\n",
      "A2T24Z5QP2OMXU ['B00AVYNS7M', 'B008ALA6DW', 'B007XOQ3BQ', 'B00D5Q75RC', 'B0054ZLLBS']\n",
      "A2J8DE8R94ZB02 ['B002EF2200', 'B000Z7AKGC', 'B005KJJKVG', 'B00452V66G', 'B003VAHYNC']\n",
      "A3AG5QAT8L0I3R ['B000BP2YLC', 'B00BEHQKPC', 'B00426C57O', 'B004N6259G', 'B00EI4V3X2']\n",
      "A3S5WYWYKSAI9C ['B00FWQ7M2G', 'B004J4VYG2', 'B0068ALVAO', 'B002OAVQJ8', 'B004H8FNC6']\n",
      "AMRMK86X3PKXD ['B004I8WH74', 'B001N85NMI', 'B001P05NBA', 'B002TLTE6O', 'B0044DEDC0']\n",
      "AAXAKFQEAQPWC ['B003RRY8ZG', 'B000MUXJCO', 'B005CG2ATQ', 'B007XOQ3BQ', 'B000VS4HDM']\n",
      "A3E9O1VNJ3U324 ['B000P8Z3MM', 'B000P910OG', 'B003NS0UUQ', 'B0002L5R78', 'B004Z8VCEG']\n",
      "A3V6Z4RCDGRC44 ['B00829THEG', 'B000LU8A7E', 'B0007CZ70Y', 'B00006HZ0L', 'B000V5P90K']\n",
      "A1QNYLBG73QRNF ['B0078JFQ0K', 'B0088PPFP4', 'B0033PRWSW', 'B005Y1CYSQ', 'B001CHHVCU']\n",
      "A2RW587355CMVA ['B002SZEOLG', 'B0088PPFP4', 'B00F9ZQQ8Q', 'B00BZC31WQ', 'B0042FZ50O']\n",
      "A26KXNN6H1IL0I ['B008V6T1IW', 'B0012Y6VQA', 'B004J4VYG2', 'B0071BTJPI', 'B001EZYMF4']\n",
      "A1VTCSCH8FFC76 ['B001OC5JM2', 'B001DCE672', 'B004T9RR7C', 'B0054JJ0QW', 'B001AZP8EW']\n",
      "A1PAGHECG401K1 ['B001FA1NVO', 'B007M58WWO', 'B0039BPG4M', 'B00395ZQMK', 'B0036OR91A']\n",
      "A11EXFO14WEJM1 ['B003QKTMI2', 'B003VWY0VY', 'B009OZUPUC', 'B0001G6U52', 'B000X5ZVS8']\n",
      "A1YN5I4FINMBTI ['B001GQ3DP6', 'B003CJQ69A', 'B004Z0S6RU', 'B0041Q38NU', 'B009PJ3AZ4']\n",
      "A2HV76MYH7UL3S ['B0038S41YM', 'B00E3W15P0', 'B003WM2N94']\n",
      "A2294LS59GC5K7 ['B000V3H0OA', 'B0076AYNXM', 'B00009UT9B', 'B003IRR0YQ', 'B00A35WYBA']\n",
      "A23QII83UGZP5U ['B0000UV0JA', 'B000NEJYVO', 'B003E49GRC', 'B00EXPNFQO', 'B00BD7UXT2']\n",
      "A28N2AWOVO2PB ['B005G81E9M', 'B00BSEV682', 'B00E98O7GC', 'B003YH9EZ8', 'B008D97LNE']\n",
      "A3EWJX7W1X7E79 ['B006GDY57O', 'B004I1FBFQ', 'B0037G2BMY', 'B002QDQ67A', 'B000RBE4B8']\n",
      "A2N75ADJSRW0AH ['B00AQDG99M', 'B0013WNVU0', 'B000VUIXOO', 'B00EHBPF6W', 'B000U8Y88M']\n",
      "A34CKIMZ969UW7 ['B00449BNDG', 'B004ZP756S', 'B0076AYNXM', 'B005HKIDF2', 'B0055QZ216']\n",
      "A2PL06HW6KZH2 ['B00117LECY', 'B0002IQ1F8', 'B001E1Y5O6', 'B007V9SNNY', 'B0039BPG1A']\n",
      "A2XA8CW5DF4MNZ ['B005B9G79I', 'B0014176XI', 'B000EBK3FW', 'B00GEBTFNM', 'B007L5NKZO']\n",
      "A10ZBR6O8S8OCY ['B0079UAT0A', 'B006EKIQYM', 'B00FISD9DO', 'B00829TIA4', 'B0007QN18U']\n",
      "A2OS3TIVAKUAHG ['B0024G48VA', 'B00HPMCNXI', 'B002LITI8E', 'B004J4VYEY', 'B005NYPC1U']\n",
      "A1SC5OXLQNGPLN ['B003ZYF3LO', 'B0054JJ0QW', 'B000HJPK2C', 'B003GSLU3E', 'B0019EHU8G']\n",
      "A3AYSYSLHU26U9 ['B00DTZYHX4', 'B005I6EU48', 'B003Y74AXO', 'B00HHRP11C', 'B0089E5R0W']\n",
      "A3VBZDYGHF4NK8 ['B001BO7R00', 'B00CD778LC', 'B00AXVXXNC', 'B00DQZNWNI', 'B007C0Y8NQ']\n",
      "A30X750M8V1XXW ['B002R5AM7C', 'B000G3FNVM', 'B0037FSYQC', 'B00076N568', 'B001QGE7TW']\n",
      "A84FLVDK2R5JF ['B004ZF0PXI', 'B004YI9NTS', 'B00C4Q61Z6', 'B001542UQW', 'B00CL8F98W']\n",
      "A3IUW081KXD3PE ['B0079UAT0A', 'B002JCSCYS', 'B003VANOI6', 'B00006L4FX', 'B005PQ1V20']\n",
      "A1P3DDFL423B3C ['B003ZTU0OO', 'B0002ILKWM', 'B000HZDF8W', 'B0000U19F0', 'B000BUK7KW']\n",
      "A38NELQT98S4H8 ['B003AHID7M', 'B002RZQQTU', 'B009C3M7H0', 'B0034CL2ZI', 'B000FCSWX0']\n",
      "A1AH8033GWKBY7 ['B0018782QI', 'B000ZG4AL4', 'B004AEYF0S', 'B004E8X6FU', 'B0071BTJPI']\n",
      "AFR9GYKAHM37U ['B0096239G0', 'B00CMQTVK0', 'B00182CIB8', 'B0055QYKQO', 'B000KO0GY6']\n",
      "A2T3S3VTW65VO5 ['B005CT56F8', 'B006U1YVZ8', 'B0018BQR84', 'B00212NO6W', 'B002L16KS2']\n",
      "AQB4DH57MSZSC ['B0090Z3QG6', 'B008X9Z528', 'B0088PPFP4', 'B004T9RR6I', 'B00JC5Y6YA']\n",
      "A17BUUBOU0598B ['B001JIDEXW', 'B001IYS1QM', 'B004SGJBU2', 'B000V9RL6G', 'B000P6H7Y6']\n",
      "AQSV34W54L0VO ['B009SK57HY', 'B009PK9S90', 'B009QXFFDO', 'B008HK1YAA', 'B0083WYD9Q']\n",
      "A36K2N527TXXJN ['B001TH7GSW', 'B00BOHNYTW', 'B00DK2JQOQ', 'B003M8HWDA', 'B008X9Z9ZQ']\n",
      "AWJWCKB92RJX2 ['B000F7689A', 'B00429N18S', 'B001DJ9GOS', 'B000SML2BQ', 'B000SATCUQ']\n",
      "A2ALRZ0ENQLYY5 ['B001TKE25E', 'B002SWIOOM', 'B003LPTAYI', 'B001E1Y5O6', 'B000QUUFRW']\n",
      "A1O229NVVDJUX2 ['B0090J67DG', 'B00FPKDPZC', 'B000EMWBV0', 'B000NK8EWI', 'B006W8U2MU']\n",
      "A3UW0PQLDUACMH ['B004TS2AOS', 'B0093HAWZY', 'B0050IE1O8', 'B004CLYEDC']\n",
      "A3B20R4ZAH0Y2Y ['B00BOHNYU6', 'B008ALAHA4', 'B00F93IOR4', 'B0078SAIUY', 'B00DR6DQZA']\n",
      "A3DOPYDOS49I3T ['B009T0NFTA', 'B002JCSCYS', 'B002SQK2F2', 'B008ULPAT2', 'B002CVTU5Q']\n",
      "A1CYTBE7LLUQ8F ['B000F7JCRA', 'B00622AG6S', 'B00008V6NI', 'B000EXTXSI', 'B00093IIRA']\n",
      "A16RI68PS6T5CA ['B002MCZJ78', 'B000UY1MB2', 'B000N99BBC', 'B005D5M136', 'B0015BUJ0Y']\n",
      "A2XQYE6TJYROHQ ['B004J16XB6', 'B002BNLYFY']\n",
      "ABSYIF0ONC2AF ['B00FAECKH2', 'B00511PS3C', 'B001FWXTK0', 'B005ELV3HE', 'B00829TIA4']\n",
      "A25FL6VLD7S23S ['B00D429Y12', 'B000HJPK2C', 'B000V2BYJI', 'B0012IJYZQ', 'B000BYCKU8']\n",
      "AN0JK8OQLUC55 ['B003FNQHOW', 'B002HJ9PTO', 'B002LARRDK', 'B0016BVKAQ', 'B001L1H0SC']\n",
      "A1D9V11QUHXENQ ['B008LCYIEI', 'B005SEZR0G', 'B001TH7GUU', 'B004LSNF04', 'B0000645RH']\n",
      "ASCBJEPXTOU0V ['B001TH7GSW', 'B005JN9310', 'B009H0XQQY', 'B00000J1SC', 'B004275EO4']\n",
      "A3D822N1K2IAQD ['B004CLYEDC', 'B00654PTT2', 'B00DR8LAE2', 'B00CD8ADKO', 'B0001M3N7O']\n",
      "A37CEYB95LK6R6 ['B00009XVCZ', 'B000CRFOMK', 'B002MTU5C0', 'B005UFZ7F8', 'B004R6NSQG']\n",
      "A3T7V207KRDE2O ['B000ID7QNI', 'B002JCSV8A', 'B004CLYEE6', 'B000BYCKU8', 'B003IVZVDO']\n",
      "A1E55W6ES0FY17 ['B00292BUT2', 'B005SZ66XM', 'B000RQSGYO', 'B00EMHVVLY', 'B001EQQW1A']\n",
      "ATDQ9CGCWTT8D ['B004D5GXOA', 'B000E4K2GO', 'B004UAKCS6', 'B009SJR3GS', 'B0046RE3M4']\n",
      "ABIVKBMSIPEDY ['B008DWCRQW', 'B002TLTE7I', 'B0039BPG1K', 'B005G81E9M', 'B006ZS5AQA']\n",
      "A27T4RQ3XA661C ['B003E7ES4A', 'B000RT8CM2', 'B0029U2YSA', 'B004JOQSEA', 'B0024R4B5C']\n",
      "A2SH7OWE8QJYNC ['B000JSFT0Y', 'B005CNR7B0', 'B002CWZ29S', 'B00B0CQCCC', 'B002Q8IHDQ']\n",
      "A3Q4TYJVAM4IRM ['B000BRWHMQ', 'B002O3W2OI', 'B005QUQP6W', 'B003ZBZ64Q', 'B004CLYEE6']\n",
      "A2IMLOJ2Z2QEU2 ['B008X9Z8NE', 'B003KPBRRW', 'B00DR6DQZA', 'B005KAK2FI', 'B00CD1PTF0']\n",
      "A21S26XYPGXJZX ['B001XURPQI', 'B0040JHVC2', 'B001DYC0CS', 'B00829TIA4', 'B0039NLS3I']\n",
      "A2EZTM9WY5B5IL ['B005I6DUYE', 'B004LTEUDO', 'B000JLKIHA', 'B00DBV28TG', 'B00006I53S']\n",
      "A1L64KDYO5BOJA ['B002EVP85K', 'B0010CKE7G', 'B003MPOLX2', 'B000MWK7K4', 'B000NO8GNG']\n",
      "ASJZT7DM51QEM ['B00COF7DGS', 'B002VPDM2A', 'B00IVPU786', 'B001TOD7ME', 'B00DHPCVQG']\n",
      "A28LUOEY0ECT9G ['B000I23TTE', 'B006W494ZA', 'B0041OSQB6', 'B003CKC8W8', 'B00280KIJ8']\n",
      "A23R3EOZ837242 ['B004G77W4A', 'B0049SCB2Y', 'B00634PLTW', 'B0095F5AFG', 'B002WE6D44']\n",
      "A2R1HUYHXV7H18 ['B00DQZOIOU', 'B002FYL7PG', 'B003EO1H7E', 'B0072LEKMO', 'B006I5MKZY']\n",
      "AVJORH3ACR2A5 ['B001RB21IK', 'B000MX48VM', 'B003M6FDS8', 'B0001FTVEK', 'B00CGUMR2Q']\n",
      "A1BC62X6HZJGZR ['B009RCQWLI', 'B007F7MZ04', 'B00INNP5VU', 'B0061R1XI4', 'B003ES5ZUU']\n",
      "A2DG63DN704LOI ['B00G4UQ6U8', 'B00HFRWWAM', 'B005IA843W', 'B003XE3X8Q', 'B00JF0D7RE']\n",
      "AAQ9NJ480N9W5 ['B000QUUFRW', 'B000VBZWZ6', 'B001F7AHOG', 'B003DZ165W', 'B0015BYKGI']\n",
      "A2XAKGRUHIE2ZA ['B000RT8CM2', 'B003LL4UR4', 'B00G3D4YXW', 'B001P05NKG', 'B0015YJOK2']\n",
      "A2ZGDHLJ85T6AD ['B002AEU3EW', 'B005Q3144W', 'B004N6259G', 'B009JPBPWO', 'B00829THK0']\n",
      "A1FXT4VNDA25LY ['B000BYCKU8', 'B000IM5GBS', 'B0013A1XDY', 'B006W8U2MU']\n",
      "A2YW6XOID7GV6G ['B009Z3SVRM', 'B0009EXVFI', 'B0052RM8T2', 'B0052VZTUI', 'B00119T6NQ']\n",
      "A2LF07KCXDR70D ['B00BAVZRHO', 'B00EXK14S0', 'B00CH643A8', 'B0079MX4Q4', 'B00548SKMI']\n",
      "A3EPJSPH03AS29 ['B00009XVCZ', 'B000EPNES6', 'B005HGBEZ2', 'B002RWJDB6', 'B001FVLTNA']\n",
      "A3EX8ZFNVDHGPM ['B003L4P872', 'B005F25IL4', 'B007PJ4P4G', 'B0097BEDOC', 'B000CRFOMK']\n",
      "A1987V5OCO6QHS ['B00CRFK24K', 'B0019EHU8G', 'B000BOLHH0', 'B00B3Y4FAS', 'B0044YPN0A']\n",
      "AEAFHD09X8044 ['B0035Y7ZJ2', 'B004J1FRN6', 'B008VHHYLW', 'B004J1FS9Y', 'B004G6002M']\n",
      "AIBRTGBN07D6A ['B001P4UTLK', 'B0000DD7P2', 'B001F51G0W', 'B000UY1MB2', 'B00CXB186Y']\n",
      "A35HOUWHAYZZN6 ['B0037BYQTU', 'B002TLSOGA', 'B005GM1Q1O', 'B003F9HH2W', 'B00834SJSK']\n",
      "A3SMD3T0QTN109 ['B003WCAX28', 'B000UF3FT8', 'B00CMMG7I8', 'B0052SCTLI', 'B0025VKUQG']\n",
      "A11D1KHM7DVOQK ['B000069106', 'B0002I5RHG', 'B000060OEO', 'B000G31SRU', 'B000084FD5']\n",
      "A3PGVJF37JSHFO ['B00029U1DK', 'B00A9NE84C', 'B005JN9310', 'B0036WT3RU', 'B0088LYCZC']\n",
      "AKSQNMIKOU01H ['B008MLAT78', 'B000UE50O2', 'B0079M711S', 'B000LQMKDS', 'B0014D2WGW']\n",
      "AM8W6Y3HVXLZT ['B009OZUPUC', 'B000HKIPVE', 'B003BLQHN4', 'B006TF37H8', 'B004OR14GO']\n",
      "A24HWYHR28JJ7A ['B004CJ8DKE', 'B0057V9HQ0', 'B007BXD66E', 'B002VPE1XY', 'B002Q88CGI']\n",
      "A2VIYTWXANL343 ['B00793MIJC', 'B004QK7HI8', 'B001T6K7G6', 'B0001YFZ46', 'B000F2PHDI']\n",
      "A2Z1R98M2XOCEJ ['B0035AN31A', 'B005L38VPC', 'B00BJVJV9A', 'B009T0NLYO', 'B00E98O7GC']\n",
      "A15G70V9OBTOVO ['B003ZSHNEK', 'B0070O9ROY', 'B003T0EYVE', 'B0002Y5WXE', 'B000HJPK2C']\n",
      "A1VHCO8RQFIGQJ ['B0000A1G05', 'B0012IJYZQ', 'B001QNBUA4', 'B00CRY250U', 'B001CBDGHA']\n",
      "A33HIV8RXRDM88 ['B002R5AM7C', 'B003YKG2XM', 'B0043M668G', 'B00JP12170', 'B005DEW4BQ']\n",
      "AGILRZOT49R0V ['B00E3RHS6A', 'B000AM3U2I', 'B003VANO7C', 'B002CTV060']\n",
      "A231WM2Z2JL0U3 ['B00004TEN2', 'B00006I5FQ', 'B0001D3K8A', 'B00004TDL2', 'B00005ARK3']\n",
      "A2JOPUWVV0XQJ3 ['B00GR30SW4', 'B00AERGEW2', 'B001F51GU2', 'B001PBYQHG', 'B001NJ27QM']\n",
      "A100WO06OQR8BQ ['B002IKKFJ6', 'B0096LZ5QI', 'B002782LTG', 'B00108UNEY', 'B00006BBAC']\n",
      "A3GQY0TFRG0MPZ ['B00FFJ0HUE', 'B0000A2QBP', 'B004RFBIUU', 'B000B9RI14', 'B0026ZPFCK']\n",
      "A17NVM7IAPF2NS ['B000I5YZL2', 'B009Z3SVRM', 'B0011FTKFY', 'B00ISIG690', 'B001F51G16']\n",
      "A1XXMNLOLKNO0I ['B001TH7T2U', 'B00B25P27S', 'B007PTCFFW', 'B005GM1Q1O', 'B003VNKKUS']\n",
      "A2OT3PDH1AWLTG ['B001X017G2', 'B000EHUR3O', 'B0010TEOLQ', 'B0083EZE4M', 'B00BFRKYVM']\n",
      "A1Y85GQ09Y95JL ['B0009Q4PIS', 'B0013N3T7O', 'B002FP48H4', 'B0074WDDN8', 'B0049XEE88']\n",
      "A35W3JQYP0M655 ['B0002CPBWI', 'B0006G0II2', 'B005FDXZJU', 'B005FVDTAW', 'B00EPCN9O8']\n",
      "A2NYK9KWFMJV4Y ['B00G4UQ6U8', 'B00IMZKDOS', 'B00AE0IEHM', 'B00JX1ZS5O', 'B0001FV3C8']\n",
      "A253IOATGMT2UP ['B002IKLJVE', 'B00B1K6D5Y', 'B00006BBAC', 'B0071BTJPI', 'B004DOUOI2']\n",
      "ASFP250F22MDZ ['B0079UAT0A', 'B007BY0MIS', 'B001BTCSI6', 'B00FPKDPZC', 'B001CZFJJO']\n",
      "A3GVXKCTFN3YDN ['B00BOHNYU6', 'B00GO1UV4E', 'B001TVAU0E', 'B002FU5QLQ', 'B00829TIA4']\n",
      "A31RULW0KNYJ5H ['B000W74MZU', 'B005GVAWXS', 'B0082E9K7U', 'B0030MITDK', 'B003XU78OU']\n",
      "A3KCKECEO3E2AN ['B001U3ZH7W', 'B00EMHVVLY', 'B00BOHNYTW', 'B004YAYM06', 'B00F1CRTJM']\n",
      "A3V2EZ6MA32FF6 ['B002DPTQ8W', 'B0044TXDSE', 'B0090EC5MS', 'B006I5MKZY', 'B008LCYIEI']\n",
      "AVPNQUVZWMDSX ['B00BOHNYU6', 'B00D7P6176', 'B002AVXDWE', 'B008DWCRQW', 'B002FB7IX4']\n",
      "A33152QEGO2MZN ['B004VTAVLE', 'B0028Y4F4S', 'B000GX484U', 'B003SX0OU2', 'B001OC7ITY']\n",
      "A298GL2D0BHGKZ ['B00EV0CRSI', 'B0036WT4JW', 'B00ASKNT3W', 'B006ROO1XA', 'B005OOKNP4']\n",
      "A1Z7SC7HH1BJKA ['B00A0ABQLM', 'B004LNXO28', 'B008RJZQSW', 'B00846Z34K', 'B002IO2UM2']\n",
      "A51OFQVC6O5YL ['B005CT56F8', 'B0093H4VSS', 'B006EKIQYM', 'B008ABOJKS', 'B003VAGXWK']\n",
      "A3EZEP0FX5BC1P ['B004CLYEDC', 'B009654JW0', 'B00CL8F98W', 'B00005LEN4', 'B003JZU8DC']\n",
      "ATOKT8QYK967L ['B008FQWJWI', 'B00DQZSFSA', 'B005NFG1MS', 'B009JP461G', 'B008E35TD8']\n",
      "A2TKWMX4563NR6 ['B003FO4UHW', 'B00006RVPW', 'B006W8U2MU', 'B000S5Q9CA', 'B000O8I474']\n",
      "A2EHYCA29NSQLU ['B000LGFLXO', 'B003AI272I', 'B00FFJ0HUE']\n",
      "A2Y3WWPUKIJ59I ['B0011FKI3M', 'B000BRWHMQ', 'B000FH9UOK', 'B00DBX371C', 'B000H9J3ZC']\n",
      "AOJA1LC8PN7K1 ['B00006I5O1', 'B00D1GYNT4', 'B008DWCRQW', 'B00023433U', 'B000GABCY2']\n",
      "AP53MVRC8ZEW2 ['B000UHQVOW', 'B00GAKX34E', 'B000VX6XL6', 'B00AWKBZQQ', 'B008R7EWEI']\n",
      "A1OGCPMSIVK7G4 ['B00CI3BP06', 'B007PVN7ZM', 'B00385XUF6', 'B00A7O9ZDC', 'B000NLSGA2']\n",
      "AC9QEWWN4W9MC ['B00E5HXJEI', 'B00DR0PDNE', 'B00BUKQ4ZO', 'B005QX7KYU', 'B00IRV2DL8']\n",
      "A1C82BC5GNABOA ['B0076BNK30', 'B0015V1H28', 'B004LEAYXY', 'B00139VKU6', 'B00009XVCZ']\n",
      "A2W2ODLRQ2L8LE ['B004RRU1B0', 'B000JJM8XE', 'B0015C30J0', 'B000Y7T5UU', 'B000NUYW92']\n",
      "A1CSRR7FCKBL9M ['B005NGKR54', 'B003ZX8B0U', 'B00I5SW8MC', 'B00129CDGC', 'B0027C8M8G']\n",
      "A3U029B8Z5WGI2 ['B002VPDM2A', 'B00AVWKUXE', 'B000233WJ6', 'B00ENY08VU', 'B0052SCU8U']\n",
      "A3MQ15651KGVLJ ['B00834SJNA', 'B0034CL2ZI', 'B005HTIWF4', 'B00EEBS9O0', 'B007PTCFFW']\n",
      "A1UCAVBNJUZMPR ['B000LRMS66', 'B0074BW614', 'B000SA7I0M', 'B0002J2P2A', 'B0049YQVHE']\n",
      "A3EXWV8FNSSFL6 ['B00CJRZ31S', 'B007OY5V68', 'B0012WDMNC', 'B003BYRGJ0', 'B0012R9T0M']\n",
      "AW5JSQCHC2ZJO ['B003A5TX82', 'B003Q6CU12', 'B004LB4SAM', 'B005FVNGRI', 'B003ZX8B1E']\n",
      "A3BY5KCNQZXV5U ['B002K450RM', 'B00603RU9A', 'B003XM73P2', 'B0031AQ302', 'B0071BTJPI']\n",
      "A313H6238N589 ['B008E0VFZC', 'B0001HKIJK', 'B003YTPP72', 'B000JO7PIM', 'B0016OEV7C']\n",
      "AYO1146CBIV5C ['B00EAXRVLY', 'B008X9Z8NE', 'B004MSQZUU', 'B00F93IOR4', 'B00EPQ97C2']\n",
      "A2V1J3JT5OOZFO ['B00000J3UJ', 'B004TDEJEM', 'B000MGH5W8', 'B003WW0ILO', 'B003M2YP6S']\n",
      "A4GGT6O0GQNV2 ['B007Q45EF4', 'B00FJXVRM8', 'B002VPE1Q6', 'B00004SY4H', 'B00CD8ADKO']\n",
      "ADPKRJ2BSFJ0I ['B005HQ50SO', 'B003X1FSCS', 'B001UE6N6A', 'B003N7NO4Q', 'B003SQEAY0']\n",
      "A6VXZ1EEPRTLV ['B001TOD3KU', 'B000GVTX6U', 'B002HQWLM0', 'B00004RG6K', 'B00009UTQK']\n",
      "AXU3VKZE848IY ['B000IS1ZYY', 'B00AZMLIDQ', 'B001OOZ1X2', 'B001CHHVCU', 'B00104XCVO']\n",
      "A1ZA5SXZS8Z3CK ['B003S68Q0Y', 'B008B6ONXK', 'B0000BVYTV', 'B004VMM718', 'B0032OX1N4']\n",
      "A3077MQTAKOVFZ ['B002VPDOH8', 'B007DL79FS', 'B004JQQDZ2', 'B00BJVJV9A', 'B00A3VFIM6']\n",
      "A145LBW8ZHF0TW ['B001H9O6QW', 'B00007IFED', 'B00062UW5A', 'B0040G5KY6', 'B00007M1TZ']\n",
      "A1LA4K5JF78BER ['B002GP7ZT6', 'B001VEIYAC', 'B00CL8F98W', 'B000WHSFYY', 'B001UQ6F5M']\n",
      "A2ZRMCRLDSUX6R ['B001PKUUE0', 'B000TXNS6G', 'B005GOINEK', 'B001M4N956', 'B002GM5GKO']\n",
      "ANEDXRFDZDL18 ['B00A0JUNYY', 'B008PWUPVY', 'B005DQG5SC', 'B00EOI2SR2', 'B001ELK2NY']\n",
      "A5QDZEOIMQ4LW ['B002C76W4C', 'B001K9BFB8', 'B0019SHZU0', 'B004J3VAYO', 'B004ZNA3UA']\n",
      "A14I1F2H7NOYDC ['B000FKP7TY', 'B0018BTPLK', 'B0034XIL60', 'B001C4BEOY', 'B0007V5X4U']\n",
      "A2AX2UGB167J31 ['B004S4R5CK', 'B000EVSLRO', 'B007KXI2R8', 'B000BSN4UY', 'B001MXLD4G']\n",
      "A3SP7T2PZ3HSDE ['B002TLSOG0', 'B002P8LZ36', 'B0055P9K38', 'B00AAHTQ30', 'B0002ZAILY']\n",
      "A141R97FHSSUQ0 ['B005DSPLC6', 'B000WPXQ2M', 'B00ARB5FLQ', 'B0054L8MR8', 'B005JW6WQU']\n",
      "A3J3ZHGDUDPCFL ['B00829TIA4', 'B004H8FNC6', 'B00005T406', 'B00D96LZ6K', 'B008D97LNE']\n",
      "A1H0D7635GEEJ1 ['B0058G40O8', 'B001ISKNKA', 'B002VPE1XE', 'B000KFRSG4', 'B000WO6HJW']\n",
      "A39K52QDP4C3ZS ['B002IXZ5DE', 'B008J26ZL4', 'B004RORMF6', 'B000JV9LUK', 'B000R2PC2M']\n",
      "A11KZ906QD08C5 ['B000Q3043Y', 'B0006OCEFY', 'B000P1O73A', 'B0011000R6', 'B001M5PZXO']\n",
      "A2WCFDOCS73PNB ['B000IMSK8Y', 'B0096YORV4', 'B009E6J8U4', 'B003Q9AZHU', 'B0088PPFP4']\n",
      "A25WJCAP606YMP ['B001AZP8EW', 'B0006B088W', 'B000652M6Y', 'B001F7HLRC', 'B000C1Z0HA']\n",
      "A22S7D0LP8GRDH ['B003YKG2UU', 'B003M0NURK', 'B004N62I0C', 'B00GA55OGE', 'B000069092']\n",
      "AQR4HPVSOPS08 ['B004B8GF7Y', 'B0045IIZKU', 'B006I04AIO', 'B0002U1TJY', 'B000X23I22']\n",
      "AZBXKUH4AIW3X ['B000BSLW8U', 'B00DE7SHII', 'B000067S60', 'B00008AWKZ', 'B008EQZ25K']\n",
      "A292TRC6DX2GKK ['B000VWOL3O', 'B0002Z240M', 'B00081NX5U', 'B000FBK3QK', 'B0051CAE1C']\n",
      "AIJQU979J6UFY ['B00834SJSK', 'B006DEBYWU', 'B004T9RR6I', 'B006TF3746', 'B0016XIQ1U']\n",
      "A3TR3KLL5PXSZ8 ['B00DA8459G', 'B005KEL4NI', 'B000067O7T', 'B003Y0CXX0', 'B004WB8EYM']\n",
      "A10H24TDLK2VDP ['B004BZN9DA', 'B000N99BBC', 'B0088CJT4U', 'B0011Z44UA', 'B001EQ0HAW']\n",
      "AUITG1DJ3QUGK ['B0054L8N7M', 'B00E5UHRIO', 'B0065VKQ34', 'B0097CZHAU', 'B00406YHLI']\n",
      "A2RGWCT6K2C3EZ ['B005HSDLCO', 'B004MTE7EK', 'B005NGKR54', 'B005KBB79C', 'B0057ZEH2U']\n",
      "AQ55H30MZSV0Q ['B009XGH2HG', 'B0041D81WQ', 'B00DQZSFSA', 'B007R5YGO2', 'B001QFZMBU']\n",
      "A20H1M28WLI9J2 ['B003N3JFWU', 'B003E2TQI8', 'B008H9BXMK', 'B003X26LXW', 'B001B96HLU']\n",
      "A23ZXHFLC6TBLD ['B001GS8FZ2', 'B003Y6UNI6', 'B000HPV3RW', 'B002M3SOBU', 'B0037ECAQ8']\n",
      "AUCIFMWP3DU8R ['B0094S37GS', 'B002R5AM7C', 'B004Z0S7K6', 'B0042A8CW2', 'B005N8W1EW']\n",
      "A36MP37DITBU6F ['B0097CXWUW', 'B008X9ZBVI', 'B00B2HCLL6', 'B00DXFDHV8', 'B00DQZRQPI']\n",
      "AG6TX1ZJHLMO7 ['B000IXP96Y', 'B004N625AK', 'B00ACP3OOM', 'B000JE7GPY', 'B0042FZA1S']\n",
      "A3D2VIUT2HWP0Z ['B0011FCV8W', 'B00834SJSK', 'B0084Y9V54', 'B00192KCAG', 'B002J9HCV0']\n",
      "A2Q7OJTVPIO2XH ['B00017LSPI', 'B0002E1RZQ', 'B00836JHVQ', 'B0000BZL1P', 'B00FXYT12G']\n",
      "A3EM243NDJ4DF3 ['B000RZQZM0', 'B0043M668G', 'B005E8MVV4', 'B005KG3NSK', 'B004TKTOWC']\n",
      "AO09RWV40IX78 ['B00BOHNYU6', 'B0093IZOV0', 'B0053NBLFW', 'B00DQZO0R0', 'B0079KZZKO']\n",
      "A30JPZ9TZ7I61U ['B0074FGLUM', 'B004SBBD1C', 'B00AAHTQ30', 'B00A3YDT5Q', 'B0062IPIPQ']\n",
      "A11T807LX2EF00 ['B0084JFLTY', 'B00829TIEK', 'B0040723AO', 'B004QK8FBG', 'B003B3P2D8']\n",
      "A3D1TZH619NKHN ['B004CLYEFK', 'B00AW48DS0', 'B00DIHVL2I', 'B005QCDY50', 'B000OVPBA4']\n",
      "A2JE071UW97J2A ['B002NEGTT2', 'B009SKPVO8', 'B00007E7JU', 'B00AWZFJ22', 'B002Y6CJJ8']\n",
      "A2L9OPJAAEK08Q ['B009F7IBZK', 'B00E6ONJJU', 'B000UXDHOI', 'B0092MD8OW', 'B002MUGUFK']\n",
      "AHNHLGKIZ2N3B ['B0081H8TRA', 'B00G6CLN3Y', 'B0097BEFYA', 'B003Y74AXO', 'B008HK3Y5S']\n",
      "AXU8RH1DEV21H ['B0003QIXBY', 'B00BQ4F9ZA', 'B0012MMW7E', 'B000051299', 'B004XZY71G']\n",
      "A1F5O1USOUOOXI ['B000MSOC22', 'B00FFJ0HUE', 'B00BJVJV9A']\n",
      "A34JKODTSKCGEN ['B002MAPS6W', 'B0006TIA02', 'B002BW6DBU', 'B0012WDMNC', 'B000FIVDIA']\n",
      "A1VR1HIOVQWN09 ['B003A0T6YS', 'B001EPX7N2', 'B0019EHU8G', 'B002MAPSDA', 'B00478O0JI']\n",
      "A7FDGFK0KN7QG ['B0055N2L22', 'B004V4IWHY', 'B0042X9LC4', 'B002MUAEX4', 'B005IMFX2K']\n",
      "A1TDR7Y90SVCHL ['B002SGATH8', 'B0064Z71T8', 'B00094OX2S', 'B002YU83YO', 'B004YAYM06']\n",
      "A3JLOIXFM75QNV ['B008PWUWLC', 'B0066636AS', 'B00FNPD1OY', 'B003SX0NF8', 'B002FB684E']\n",
      "AGR1V15L6FLMA ['B004S4R5CK', 'B004HHICKC', 'B007WTAJTO', 'B004QK7HI8', 'B000UEZ36W']\n",
      "A2TA40MV2H4O6F ['B00B3Y4U4E', 'B001CCAISE', 'B007XOQ3BQ', 'B00004ZCJE', 'B001TH7GUU']\n",
      "A2LEIANN1UZTHP ['B00EYXZI4M', 'B002LVUN6M', 'B000A2EXI8', 'B008EQYRRY', 'B000EY5F5C']\n",
      "APGQTZZ4ZFPHO ['B000V04RQM', 'B001FW9QGQ', 'B002XMP7K6', 'B00007E7JU', 'B00109Y2DQ']\n",
      "AW6J9IILGOZY3 ['B0088CJT4U', 'B006DEBYWU', 'B005KELR3A', 'B00HPMCO4Q', 'B005CLPP84']\n",
      "A3L9E0YI7C5G0W ['B0019EHU8G', 'B005CG2AX2', 'B004C9P9TM', 'B003FVVMS0', 'B00AANMVNQ']\n",
      "A31RZMVAFMLB8B ['B004QVI09W', 'B002SCGY5S', 'B0002KVQBA', 'B0068RKK18', 'B00007GQLU']\n",
      "A1BBYSMT9YCODI ['B00008XKYO', 'B004T9RR6I', 'B008O2HVIK', 'B0035WTVWI', 'B00A9NE84C']\n",
      "ARW8VGT10JG60 ['B008MWBY6W', 'B0057ZEH2U', 'B005IHAIC0', 'B001MSVPM6', 'B00336EHAM']\n",
      "AE88D7OM7YU99 ['B004ZMV2GA', 'B004HIN7SI', 'B0009WKBGC', 'B00EOI2SR2', 'B003WUBIZQ']\n",
      "A259MPG6SOL02P ['B007RG2QNY', 'B004PKGL0Y', 'B002EQ6E9E', 'B004W2JKWG', 'B00DR0PDNE']\n",
      "A3R33KMESG0XGQ ['B0015AARJI', 'B00077AA5Q', 'B00BD7UXXS', 'B00BE68UZ6', 'B000I68BD4']\n",
      "A3TA1UJWRJF9NC ['B00284VD02', 'B001F7AP1Q', 'B0056BPUQC', 'B001DXGBII', 'B000GHVZO2']\n",
      "A2XX2A4OJCDNLZ ['B00004W3ZQ', 'B0074KBLAW', 'B0035ERKYW', 'B0082E9K7U', 'B0019EHU8G']\n",
      "A3P69DTOXII004 ['B00DXFF6EO', 'B00007KDVI', 'B0007Y79AI', 'B000A6NUU6', 'B00DXWFF3E']\n",
      "AGJRUK27RBVYS ['B0038JECKY', 'B005QUQP6W', 'B009JPBPWO', 'B008HK3QII', 'B003TO56F8']\n",
      "A1CST2WUA32GP0 ['B0046BGUWG', 'B0091VF4FA', 'B002UHJ1II', 'B0009YJXMS', 'B0007NWLXO']\n",
      "A3JNBO7H2SPL44 ['B005DSPLDA', 'B00B46XUQU', 'B001QUA6R0', 'B003V7BJ9U', 'B000WL6YY8']\n",
      "AHQRU3MRORIWQ ['B00BBAFWQA', 'B003ZV8U76', 'B0088CJT4U', 'B002Y6CJJ8', 'B000W2Z5M4']\n",
      "A1FDSZISWIXH1A ['B003LSTD38', 'B00HFRWWAM', 'B003ZQYVVK', 'B007Q8GOHM', 'B004444O5U']\n",
      "A13BX9O5UDBILC ['B003YKG2XM', 'B001IOPIRM', 'B0035FZJHQ', 'B00006RVPW', 'B0014DVIL2']\n",
      "A3F3B6HY9RJI04 ['B000N99BBC', 'B005KP473Q', 'B004LB4MZS', 'B001NTFAOS', 'B00829TIEK']\n",
      "A19NP8YYADOOSF ['B003NREDHS', 'B006MBP7T0', 'B00C8OT7FK', 'B00BPHH8MA', 'B005A2RLXC']\n",
      "A1FMU4CJLIDHR9 ['B007QIXSVM', 'B000WS5VNQ', 'B001IF252M', 'B000BMXJR8']\n",
      "AG5WSXI52FPKH ['B000HDJY7K', 'B00834SJNA', 'B000Q82PIQ', 'B0000ACOBG', 'B00E0EY7Z6']\n",
      "A2D1ZQEFS1NBH2 ['B004RLOPE0', 'B003KTN0B4', 'B00D42AB50', 'B009EUWNH0', 'B004G8HXXO']\n",
      "A2RIL2NXHE00AQ ['B00009R6TA', 'B001TI9F8U', 'B001SLFN7U', 'B000053HC5', 'B002NEGTSI']\n",
      "A33SX0AD5PYD9B ['B00G6CLN3Y', 'B005DOK8NW', 'B003CFATT2', 'B006GDTTM0', 'B0081FLFQE']\n",
      "A2X8KN82L07RSK ['B000FKKO74', 'B0002ZW5W4', 'B001OOZ1X2', 'B004VM1T5S', 'B001N85NMI']\n",
      "A1DTCJV6KOMJOA ['B004ZF0Q28', 'B005HY4UOG', 'B006WHPQE0', 'B00HFAEBWG', 'B007KTQU5I']\n",
      "A206CGM6J75UJY ['B002U1ZBG0', 'B0035FZJHQ', 'B002YU83YO', 'B007477COO', 'B001LYPIIS']\n",
      "A215WH6RUDUCMP ['B009NHWVIA', 'B009YQ8BTI', 'B00BGIQPSG', 'B00A7PPLP2', 'B008X9Z8NE']\n",
      "AOMEH9W6LHC4S ['B002SCGY5S', 'B000YA50P6', 'B004CAGDUA', 'B004CLYEDC', 'B004444O5U']\n",
      "A2ME89MSWVG9NF ['B007FEEZ00', 'B0000A55BE', 'B001UE6MA2', 'B0059M4G9K', 'B005GM1Q1O']\n",
      "A15T9G38F589KM ['B00A0IICY8', 'B00834SJNA', 'B005X9XVNQ', 'B00E87E1OM', 'B00CO0DE0W']\n",
      "A2QI2NTDTMK2FV ['B004GK0GKO', 'B0001GRTK2', 'B001U0OGQS', 'B00IVPU786', 'B0018P0S1M']\n",
      "A2OTQMC69J8MUI ['B002SZEOLG', 'B00ATM1MHO', 'B00EIQTKAS', 'B001QUA6R0', 'B007BJHETS']\n",
      "A2AC6GQ24S45GA ['B0002ZW5W4', 'B002QAUN2M', 'B004CLYEDC', 'B007RFW1NA', 'B00DT04I9W']\n",
      "AGEKVD8JPZQMT ['B000K7ZWVK', 'B008X9Z528', 'B00G1PQVPQ', 'B0097CZHAU', 'B001O6LR2Y']\n",
      "A1FDV3WPOHREY9 ['B002K3Z3E8', 'B002P3KH80', 'B001U0O5QO', 'B002MPPHKY', 'B00009MK5M']\n",
      "A1GBT4UN2RW7XY ['B00G1YKHHA', 'B00094OT36', 'B001EYU3LM', 'B009RH9FR6', 'B00GQDBS7O']\n",
      "A11YOTONCPRQ9S ['B000069106', 'B00125KR1E', 'B005C6CVAE', 'B0094NY3R0', 'B004LPY204']\n",
      "AXYM52DNK6NDF ['B006ZB39QU', 'B00092GM0Q', 'B0049WBZEK', 'B002V88HFE', 'B005AY9278']\n",
      "A1GYEGLX3P2Y7P ['B00284ALF0', 'B009NUK6S4', 'B004MWL6AA', 'B00387EW1K', 'B003JZU8DC']\n",
      "AZCE11PSTCH1L ['B00004Z5D1', 'B004J3V90Y', 'B004Q72PEM', 'B002G1YPH0', 'B0039825LM']\n",
      "A1TFDMY4YNTV97 ['B005MEDD80', 'B002KL0VY2', 'B0017H4EBG', 'B0036R76R4', 'B000Q76LBY']\n",
      "A1OH33MR6K4G5J ['B009WVJ9VE', 'B004L6MLPQ', 'B005TJAXN6', 'B003OBXHPC', 'B005CWJB5G']\n",
      "A3G5MOHY1U635N ['B0002ATWPW', 'B0009W9WHQ', 'B004G6002M', 'B001FA1O18', 'B004Q3R9AQ']\n",
      "AMS2CPERWN7JV ['B001VEIYAC', 'B005VONPT8', 'B002HWRJY4', 'B0030MITDK', 'B002TLTE7I']\n",
      "A3EP26M3QHINXT ['B00768SBAU', 'B00004SABB', 'B0049KV50G', 'B005SPQ8XK', 'B00EVVGAC6']\n",
      "AAA0TUKS5VBSA ['B0018MRK6Q', 'B008ULPAT2', 'B003NE5JCE', 'B007KZQMO6', 'B001PPGG2U']\n",
      "A1ITRGMT80D5TK ['B004SKBJP8', 'B001RNNXQM', 'B00CD8ADKO', 'B00IKF2H12', 'B009T0NFTA']\n",
      "A1YEPFLLH42OU1 ['B0034CL2ZI', 'B003VTZE4Y', 'B005DJNRQM', 'B00884WH74', 'B0046W5EQI']\n",
      "A2V7EO331SFUF6 ['B005SXT6RW', 'B0003404RW', 'B009WHV3BM', 'B000XA8766', 'B000S5Q9CA']\n",
      "AZAC8O310IK4E ['B000KQQUQW', 'B000CH3IIW', 'B003VAHYNC', 'B003BLQHN4', 'B004URTJ6U']\n",
      "AO8NH0BV82XIE ['B000ZPIMN2', 'B005HSDLCO', 'B006WHPQUO', 'B001AI6CNK', 'B003N12TSY']\n",
      "A1VLVWTLV3LVHR ['B000ENQT1W', 'B0080K2KUK', 'B0000A602S', 'B00114LG7U', 'B001MTE32Y']\n",
      "AV9PIER7NE448 ['B004HKIB6E', 'B00BLGUKDE', 'B005QX7KYU', 'B00GPH6T8E', 'B000PMGZDO']\n",
      "A2MJ8OL2FYN7CW ['B007VL8Y5E', 'B00FZ9SMVU', 'B00DQZT38G', 'B009NHU556', 'B00CPGYNV4']\n",
      "A11ULAZ4B5ZXC8 ['B008I636D6', 'B000IJY8DS', 'B00DR0RBV6', 'B0002V85OU', 'B004OVECU0']\n",
      "A2KZOIOFXXMC1H ['B000P8X8R4', 'B00000J6WY', 'B009SK580K', 'B001UQ6E4Y', 'B009NHAF5G']\n",
      "A2WJ5XSE4I9F55 ['B007WTAJTO', 'B001MPWMDA', 'B0002QIBNK', 'B001E1Y5O6']\n",
      "A18U49406IPPIJ ['B0092HP3GS', 'B00FSA8VQ2', 'B00J5174TU', 'B0038W0K2K', 'B00F3L19KQ']\n",
      "A2PSC7LUNIDEAH ['B004CLYEDC', 'B002SQK2F2', 'B0015BUJ0Y', 'B0089E5R0W', 'B0052D38UO']\n",
      "A3OA4DV4L81N1D ['B001TIHVHC', 'B00009XVCU', 'B000053HBB', 'B00009R86L', 'B003K1EYM6']\n",
      "A1C5WS021EL3WO ['B002V88HFE', 'B004C3AW40', 'B000JE7GPY', 'B00CSMYBFS', 'B009MAKWC0']\n",
      "A1E3OB6QMBKRYZ ['B0072XQI2W', 'B009FUF6DM', 'B0047DVRQW', 'B00E1HIVG8', 'B00EMHVVNM']\n",
      "APG2BHOAXPNEQ ['B00BGGDVOO', 'B004Y9OPC2', 'B00752QXZ2', 'B00CHDSPSM', 'B005869A16']\n",
      "A23D13HKTA95WX ['B001E1Y5O6', 'B000CRFOMK', 'B004IZN3K2', 'B0063K4NN6', 'B000I20AJ6']\n",
      "A3872Y2XH0YDX1 ['B0031RGGFM', 'B000Q82PIQ', 'B0036V9AGU', 'B003ES5ZUU', 'B002G1YPHA']\n",
      "A3R4794K2RVU1S ['B004T9RR6I', 'B001EO6W8K', 'B00EXPNFQO', 'B0007VPFI4', 'B000PH1DL8']\n",
      "A3KZ7OH4VRL048 ['B000N99BBC', 'B00BFO14W8', 'B0015DYMVO', 'B0028ACYMC', 'B00C25I5TE']\n",
      "A12EVK82QUTSA6 ['B003ES5ZUU', 'B0073FE1F0', 'B007PTCFFW', 'B00066IJPQ', 'B001KB6Z2U']\n",
      "A29GWIJL72GXXZ ['B0014KROZO', 'B001E1Y5O6', 'B00COYOAYW', 'B0022NHQ00', 'B000NAXC6G']\n",
      "A26SO3TOT2TLJE ['B004SGSHDY', 'B001U612R8', 'B003WOLM62', 'B009QV72VY', 'B00395ZQMK']\n",
      "A1VLE2SH9J8WYS ['B005FYNSPK', 'B001C4BEOY', 'B000F28DP2', 'B00CPV9YOU', 'B00D6WF80G']\n",
      "A2XCCN239AR1XK ['B0075SUHKI', 'B006WVR9GY', 'B00IVFDZBC', 'B00829THO6', 'B003L76BJS']\n",
      "AT09WGFUM934H ['B0090IA3AU', 'B005LFYCM6', 'B008ASF5MC', 'B000J1H4VI', 'B004Q0T0LU']\n",
      "A1G3DKT38DNZJP ['B00004YZLX', 'B005U2VAW0', 'B004AGX4YO', 'B002A92OVM', 'B000BUDHNQ']\n",
      "A110VKXAVLAYKY ['B00008OT2G']\n",
      "A1VFX417XDNWIU ['B00AW54Z7C', 'B004NY9UZA', 'B006U1YUW2', 'B000AY5Y5W', 'B002Q8IHDQ']\n",
      "A3AGQAXTX6VRJ3 ['B001KUL012', 'B00419V4L0', 'B00B588HY2', 'B000ONDRDU', 'B003JV3XZ6']\n",
      "A2MR696ZU17F12 ['B003CFATT2', 'B003WOLM62', 'B00012EYNG', 'B00013BNLQ', 'B002VPE1XY']\n",
      "A2AFTRU43PY9P5 ['B00AWKC0JM', 'B003C1CCJG', 'B005CLPP84', 'B0002Y5WZM', 'B00BCGRRWA']\n",
      "A7KBAXO177NND ['B001ASU1QO', 'B0019SHZU0', 'B001S2PPT0', 'B0012MMW7E', 'B008HVNCMC']\n",
      "A19RW25Q6206I3 ['B002NO7PWC', 'B003ZUXXVU', 'B00A0JUNYY', 'B004OR14GO', 'B000OFSN4G']\n",
      "A7QMQBGJ2TCQG ['B00166EUI0', 'B000VDF5RO', 'B000KJQ1DG', 'B000J6FTUQ', 'B000HGIWN4']\n",
      "A3L6L5O89JTX2T ['B001F7AJKI', 'B004C3AW40', 'B000MDZKUU', 'B0001LRIT4', 'B0014F9U6U']\n",
      "A2YRX8J4WM5BRX ['B002P3KVAY', 'B001SER456', 'B0023B14TK', 'B0067PLM5E', 'B00HNJWSH4']\n",
      "ASF3J4UYV34KA ['B0002EPWC0', 'B000UTQOEW', 'B003VX3S3Y', 'B00856XDOQ', 'B009SQQF9C']\n",
      "A2H4OMJLE7JFM2 ['B000FIDTYG', 'B00BB0ZSIC', 'B005P99KX4', 'B00DN443K8', 'B000S1ADYY']\n",
      "A3VI2VETB90ZG5 ['B00CRY250U', 'B002PWHOYG', 'B000UKMZ94', 'B00DT04I9W', 'B002FYL7PG']\n",
      "A3CFU12GS5CZCN ['B004NDEWWW', 'B000IZECH4', 'B005ONMDYE', 'B009NB8WR0', 'B007WTAJTO']\n",
      "A1ATVMMJZP3Q4X ['B003YTROIU', 'B0041RSPRS', 'B00007E7JU', 'B006UMM2BW', 'B00427ZLRO']\n",
      "A3MMR2WDKAK0PA ['B0041O425K', 'B00EO8L5TE', 'B00DDUK0H2', 'B001GNBD8I', 'B009YKTR06']\n",
      "A1ZXMMQPYC3Z9I ['B001A6G6CY', 'B000IWTHYA', 'B000HE6OAE', 'B0007DDK7A', 'B00A35WYBA']\n",
      "ABH9D1TEOJ56E ['B00009VSBE', 'B00008O35W', 'B00008O35T', 'B00008OE43']\n",
      "A1UMSB7LAW0RIR ['B004GUT1QO', 'B002C7481G', 'B0095F5ACE', 'B0062XB9FE', 'B001FA1NCI']\n",
      "A2QI2JHSIQ3SN3 ['B002XN3OL4', 'B002ZFF3KU']\n",
      "A1S27P7KJO9I96 ['B005M1777G', 'B00091S0WA', 'B000SDNMHW', 'B00DR8LA60', 'B000V01RLK']\n",
      "A1N3EH28S4DI8L ['B00BXA7N6A', 'B000I1X3W8', 'B001CCAISE', 'B001KELVS0', 'B0002ER2YQ']\n",
      "A2XJMQ2COPGWJH ['B005FYNSPK', 'B000E6G9RI', 'B00005NIMJ', 'B002BDUAEK', 'B001QTXKCE']\n",
      "A11KQADBYE0UZL ['B002FRLEIS', 'B001OAR26K', 'B000M2TAN4', 'B005F77Z9C', 'B004NBZ98K']\n",
      "A23WPWLYT3P1CZ ['B000VM60I8', 'B002MCZJ78', 'B002VG39BI', 'B001A5V1K2', 'B001R0EVMA']\n",
      "A2I357I10ZY7CI ['B007ZFSAB4', 'B004V93U26', 'B003VQHIEQ', 'B0017UCTX8', 'B000NFIW98']\n",
      "A141OPVE376YFI ['B000QUUFRW', 'B000EUFJXE', 'B002WE6D44', 'B000W0BVTW', 'B002TKS0S8']\n",
      "AZNUHQSHZHSUE ['B002LARYGA', 'B00005853Z', 'B009A6CZYO', 'B003FBQKZ0', 'B000VNJD18']\n",
      "AHS6PX6H22WW1 ['B00139S3U6', 'B004431UBM', 'B002R5AM7C', 'B001OC6DCW', 'B008EQZ25K']\n",
      "A1NGFGBX2VCQS8 ['B009NHWVIA', 'B008X9ZBVI', 'B004U8G20A', 'B00CSJHCH0', 'B002POBS46']\n",
      "A3HQAPXAJV7PRX ['B00829THK0', 'B00EU9V3VW', 'B00EVIBN8U', 'B009NHWVIA', 'B002QQ8H8I']\n",
      "A32AK8FOAZEPE2 ['B005BNWKD6', 'B007P8I3K4', 'B0009KUHLI', 'B000LRMS66', 'B0006BGV2Y']\n",
      "AGHZXQL9F94T9 ['B0007MVHZS', 'B00008PVXA', 'B0000645C9', 'B00009YDPM', 'B00006JKXN']\n",
      "AVU1ILDDYW301 ['B005O0R99Q', 'B004HCO4GI', 'B00DIOALPE', 'B00DBX371C', 'B005EOWBKE']\n",
      "A1TQBAHI3M4ZBQ ['B000VJG356', 'B000JMJWV2', 'B000BUDHNQ', 'B0007A1IRC', 'B001GCQ3KM']\n",
      "A3V7D0LH8L7BG0 ['B00BOHNYTW', 'B00829TIEK', 'B000BN94F8', 'B0001FTVEK', 'B00COF7DGS']\n",
      "AX7317G153T8W ['B0002JFN10', 'B0025VKUQG', 'B002TLTGM6', 'B008M0NDOK', 'B00080G0BK']\n",
      "AUUV3XDYB16X5 ['B00AWKC0JM', 'B003QSG0HK', 'B0016120M8', 'B005LFT3GG', 'B005BDAR5E']\n",
      "A9Y5O2R4D6EH5 ['B004CLYEFK', 'B0039BPG1A', 'B005O88CUS', 'B00004ZCJE', 'B001B8CU8U']\n",
      "A4IEUHNRFZO0 ['B001TK89L2', 'B000V1PB2K', 'B0044D1788', 'B005T3LKKM', 'B003FVVMS0']\n",
      "A2L4ZGN7GZJ95T ['B003WVFAO0', 'B007B6YPAW', 'B008F537KC', 'B00IVPU7DG', 'B00FNPD1OY']\n",
      "A1DSRM2P0WGQNS ['B000N99BBC', 'B0079UAT0A', 'B006TF3746', 'B005GTO07O', 'B0030MIU16']\n",
      "AK3GKIV8DEY8B ['B001542X64', 'B001NXDC4O', 'B001Q2FM5E', 'B000GYI76Y', 'B0013TRZI2']\n",
      "A34CSXOGVYF94S ['B000JQ3A7A', 'B004ELA0SS', 'B0079TOEQQ', 'B00CF7E0R0', 'B00EDCF0MY']\n",
      "AY4EXFOO43C3S ['B000N53T0K', 'B005B5G4S6', 'B0015EY5RE', 'B002MUGUFK', 'B001O5CCQK']\n",
      "A2THQCHKR89E16 ['B002M3SHXA', 'B008I646WG', 'B007R5YDYA', 'B002GEA4U4', 'B004NIG1SA']\n",
      "A1C5TCCR2IGKBU ['B004KKZ0H4', 'B002KC55OM', 'B0029ZA78O', 'B0011Z44UA', 'B00008AWKZ']\n",
      "A1BZIM4WGZ6DZP ['B003MVZ60S', 'B005F778JO', 'B0014H16V0', 'B005INZKKE', 'B003HFG6S0']\n",
      "A27AF4DLLOBQDQ ['B000DZKNM2', 'B008GVM9K4', 'B005N3TPJQ', 'B00E055H5O', 'B0031U1ATG']\n",
      "A1PS4OYWUB0VX ['B0000AI0N1', 'B00DR0B7Y8', 'B004LNXO28', 'B0081H8TRA', 'B00DVFLJDS']\n",
      "A8WEXFRWX1ZHH ['B00H09BB16', 'B004YIZWXO', 'B0028N6VLE', 'B002SZEOLG', 'B00006B9CR']\n",
      "A1U11IP6K6NHAK ['B00GMRCAC6', 'B00GQOZFNQ', 'B003ES5ZSW', 'B00ATKKV0A', 'B00AOYX2DO']\n",
      "A1J87SYB3JPQWH ['B000P0R6KW', 'B001FWYLLG', 'B00007GQLU', 'B001G5ZTLS', 'B002I3OZ7G']\n",
      "A3094EPI56GKZ6 ['B0057UUB1G', 'B007PZYAJ0', 'B008R7EVE4', 'B000BTL0OA', 'B00DQZQPNM']\n",
      "A1G5MI2KREPEIB ['B0055BNN08', 'B004NHCGJO', 'B000ANCPNM', 'B0041Q38NU', 'B001PUSERA']\n",
      "A38Z6QG6988WS7 ['B000NMFCIA', 'B0061RJSWC', 'B009EA7XKC', 'B00BHZL4C0']\n",
      "A54S9CIUV5VNB ['B004WO8HQ4', 'B005HJWWW8', 'B0054U6CEE', 'B002ZIMEMW', 'B00004ZCJE']\n",
      "A1UEL5C1N6E5SE ['B000EN81ZE', 'B0039XRJ5Y', 'B0073FE1F0', 'B0001FTVEK', 'B0017HF3XO']\n",
      "A11EYMH9UV9XG7 ['B008LCYIHK', 'B0025VKUQG', 'B00A0JUNYY', 'B009YE461W', 'B0007Z9QMG']\n",
      "A1WXG10FJ353K0 ['B00DR8LA60', 'B001NTBVPA', 'B00429N16A', 'B009HQCARY', 'B000X4PJP4']\n",
      "A2K6CDQ9HZ359G ['B0073K645A', 'B0083Z6R4W', 'B007RZB3KM', 'B007IV7KRU', 'B0029N3U8K']\n",
      "A27QXQQOLAMRRR ['B00ESYW40S', 'B005EWB37S', 'B0018P0S1M', 'B00IF0JAYE', 'B00FQQ4PNQ']\n",
      "A2OWR5G2OAQF7C ['B001TOD7ME', 'B0073HSH8U', 'B00829THVO', 'B00CD1FB26', 'B00902SFC4']\n",
      "A213J54E63SYOP ['B0058GN1AM', 'B001VEAI74', 'B0043T7FXE', 'B0041Q38NU', 'B0002J2P2A']\n",
      "A3CG93783LP0FO ['B0039BPG1A', 'B00DTZYHX4', 'B003B4AVRE', 'B0044XTJ10', 'B000JJSQ30']\n",
      "AEWYUPCNDV7HY ['B001GXRWAQ', 'B00D69747O', 'B002TJ00FU', 'B0034CL2ZI', 'B008ULPAT2']\n",
      "A1FF2PLA84KNAE ['B00DK2JQOQ', 'B00001P4ZH', 'B004YDUZ22', 'B00752R5Z4', 'B0006B486K']\n",
      "A1H6SBO7R007I8 ['B0011E4N5W', 'B004KKZ0J2', 'B001587LOO', 'B00BEHQKP2', 'B003YH9EZ8']\n",
      "A2VODABWSVHV8E ['B003ELYQGG', 'B00154MCRO', 'B000TG4BA0', 'B003ES5ZUU', 'B0027P9BO2']\n",
      "A3M7R4PD0FEPUB ['B009APC0S6', 'B001SER460', 'B002R5AM7C']\n",
      "A3HC7NWLKCPX4X ['B0011FKI3M', 'B0036QLHKC', 'B004PFQX7K', 'B004EIJXES', 'B005LIDU5S']\n",
      "A3TBMGNSEQBWIL ['B000LRMS66', 'B003NVMHM2', 'B00AYB3OMG', 'B00000K135', 'B001TH7GUA']\n",
      "A2GOHNFBHUU3UI ['B00DQZOD8Q', 'B003HFCDLY', 'B001F8SCRE', 'B007PRHNHO', 'B000HDFXU2']\n",
      "A1GW7V6S6XSXX3 ['B00D429Y12', 'B002UJPK04', 'B00829THK0', 'B00EMHVVLY', 'B00829THO6']\n",
      "A1HYH206E18XVC ['B002SZEOLG', 'B005HMCCNE', 'B00HPM1FZ0', 'B002V8C3W2', 'B003M8HWDA']\n",
      "A27GITTN6AVW5I ['B000UPV74I', 'B00005AW1F', 'B0095P2F1S', 'B000FL9E6K', 'B00CQ35C1Q']\n",
      "A37IRE9GZ0CZ7I ['B009A136T2', 'B008ULPCB8', 'B0099SMFP2', 'B004CADY9I', 'B004SD22PQ']\n",
      "A3FBM0RMCMAABV ['B00A7PPLP2', 'B00EHZYWGM', 'B00EU9V3S0', 'B008ULPE70', 'B007FZN53W']\n",
      "A3O5ASFUXC32UA ['B003ZSHNEA', 'B005IY2OD4', 'B001CZFJJO', 'B002JCSV8U', 'B000VDCTCI']\n",
      "AT8V3JOZD3KWK ['B004OOVIDQ', 'B00FMTIUD8', 'B003ZYF3LO', 'B001144JQU', 'B00EFE9OAE']\n",
      "AW6FQE5QRF2LM ['B004S4R5CK', 'B00DR0PDNE', 'B000WWK16O', 'B006W8U2MU', 'B008UG6GCC']\n",
      "A1QOK9LU90ACF7 ['B000LRMS66', 'B00141AZR2', 'B004GF1PC2', 'B000MX48VM', 'B004GUT1QO']\n",
      "A2NJQF2UI60VGT ['B001J8BPYM', 'B007Y4NWQE', 'B003SX0OR0', 'B004GF8TIK', 'B00020M1U0']\n",
      "A1I96OYAUJ3HQE ['B0041PO3DU', 'B007NLSGOQ', 'B00CGW74YU', 'B001UE6N6A', 'B004ZGA5AA']\n",
      "A27H61OHW44XA7 ['B001FA1O18', 'B005WY3TD4', 'B003GAJ67Y', 'B004E10KFG', 'B001TH7GSW']\n",
      "A1VS1LL905P5L5 ['B000HCT12O', 'B00AAHT8JC', 'B0000CE1UO', 'B000CS1TLE', 'B00GMGDFPI']\n",
      "A3REK3OFONWB1Q ['B000VZS2EU', 'B002K3Z3DO', 'B0000BZL5A', 'B00004WCIC', 'B00483WRZ6']\n",
      "A316XO4RWX21YN ['B0027CTURI', 'B00176BDD4', 'B002SZEOLG', 'B002QAUN2M', 'B009HQCARY']\n",
      "A1SHHQSPOWR00F ['B001UAEWSU', 'B0009HN57Y', 'B0038VETHS', 'B0009HN57E', 'B001VMAYAM']\n",
      "A328S9RN3U5M68 ['B00GXMLSFU', 'B00G56ZNZU', 'B00946XHI8', 'B00AYQ433U', 'B00HZWJGS8']\n",
      "ALDAF4VVLFRHP ['B004CLYEH8', 'B0011NVMO8', 'B0000X0VCY', 'B004CLYEDC', 'B000XB9GV0']\n",
      "A23ZNGL704AW7O ['B008YDUTRO', 'B004X28I0A', 'B004T1YAEI', 'B0081FLFQE', 'B001RNNXQM']\n",
      "A2ULZRSHXS3HL7 ['B007EZGOMC', 'B0040FLTKQ', 'B004H3US80', 'B005FQSXFI', 'B0000BZL1P']\n",
      "AGATRDOFW48DK ['B0018P7WZ2', 'B003Y2YE3A', 'B000KZ70JE', 'B0013WM0BQ', 'B005GI18EI']\n",
      "A3G007LQX6KGOD ['B00004X10B', 'B0085RV0AO', 'B003CJTQJC', 'B00B7X2OTY', 'B007ZZ6OW6']\n",
      "A17O9AHKHK66AI ['B001QTW2BE', 'B0038M3YM8', 'B005M1777G', 'B007X3VEX4', 'B00GHY5F3K']\n",
      "A35KBAQ4VBNQ6L ['B007FL6100', 'B0051XDOZO', 'B001G1ZPV6', 'B0079M711S', 'B00A40GPM8']\n",
      "A18FLOC8YQY0P8 ['B000IE8Z4Q', 'B0000BZL1P', 'B008D1RMGI', 'B002WE4HE2', 'B006K551WQ']\n",
      "A1IDAKX7OM3QIE ['B009TCCTSQ', 'B00C97AF16', 'B004SGJCCO', 'B004YHXXKO', 'B008W0COZE']\n",
      "ANSVB7OYSXZSL ['B0012QCYNM', 'B002TQ6HT6', 'B005TGKX9S', 'B00740MR78', 'B0043M6F14']\n",
      "A1KSNK256G46GX ['B004JKH4FQ', 'B001RBXV20', 'B000AM8SK2', 'B003ZX8B3W', 'B000V6R2OU']\n",
      "A2JCJJNY43QQIV ['B001ASDHI8', 'B00D3F7D7M', 'B001CHHVCU', 'B00310PJM0', 'B005SNPTRS']\n",
      "A21I62TCDL4754 ['B001MU246A', 'B0077B3E5S', 'B0018DQYQ2', 'B008OZF9SQ', 'B001C6IWME']\n",
      "AJCR7L4AXL2OG ['B001RB1XVG', 'B0012OI6EA', 'B00AMPIVFO', 'B00B7LQ73U', 'B0007IOYU2']\n",
      "A2TN0U8173HM7A ['B0025ZH43O', 'B0002KVQBA', 'B000J01I1G', 'B001DFS49U', 'B00548SKH8']\n",
      "APBB297H3ZA5E ['B008D9AIMA', 'B009D4D1NW', 'B00EY3YGBS', 'B0058PL9RK', 'B000067G0J']\n",
      "A2F4HP0J5VNOYR ['B002QQ8H8I', 'B00889ST2G', 'B0000BZL1P', 'B001BLTDZA', 'B000OLDG60']\n",
      "A1PSVZBM894R5H ['B001LK6XFY', 'B000IWTHYA', 'B0009MFV0I', 'B0000DZET4', 'B00007056H']\n",
      "A1BVE2ZIBKJ7YI ['B003DRMKXW', 'B0030L3ASU', 'B004MKNJEI', 'B00F2ENU92', 'B003HGHR82']\n",
      "AMO1MLSIJSQOF ['B003G2Z1M6', 'B0049SKIDI', 'B004XNLR16', 'B007M4Z60Q', 'B004J4VYG2']\n",
      "A1HFT68GJ42LTM ['B002VFFA5M', 'B0040702HA', 'B00DQZOD8Q', 'B00EXPNFQO', 'B002R5AM7C']\n",
      "A2X61KKXXR6WNP ['B001DJ64C0', 'B004GCJEZU', 'B0009JR45Q', 'B002O3W2OI', 'B001CHHVCU']\n",
      "A341HCMGNZCBIT ['B00D02AG7C', 'B0006TIEZS', 'B000M2GYF6', 'B0002DG9XW', 'B00B5HE3UU']\n",
      "A3AVJCB1ZD6ZY5 ['B007X3VEX4', 'B00D1GYNT4', 'B00GHY5F3K', 'B0096239G0', 'B007BY0MIS']\n",
      "A361M14PU2GUEG ['B00006BXBS', 'B007B6YPAW', 'B0011NVMO8', 'B007WTAJTO', 'B004D8NZ52']\n",
      "A2KOV8XWZOZ0FQ ['B002R5AM7C', 'B00AR95FOU', 'B00829THEG', 'B0085KAGJC', 'B0099SMFVQ']\n",
      "A1WJ3P43SZUNDM ['B002G1YPH0', 'B0058J1QYC', 'B0001Y7UAI', 'B00310K9VQ', 'B003MRHOQG']\n",
      "A35A2RWUMC737N ['B000Q8UAWY', 'B0099TX7O4', 'B003VX3S3Y', 'B007HISGRW', 'B00I5SW8MC']\n",
      "ABUE0ALHKWKHC ['B0000A2QBP', 'B003ELYQGG', 'B0032GU1LW', 'B00028VKLI', 'B001ID49BO']\n",
      "A2VCXIAWCPQ13P ['B000Z3K47G', 'B00BP54KNM', 'B00009V332', 'B005DIBHA6', 'B00336EM0W']\n",
      "A1522TN5FVJL0Y ['B00000JDF6', 'B003W9B4H4', 'B00006B7HB', 'B00006HYKM']\n",
      "A1MJMYLRTZ76ZX ['B00004Y7TD', 'B001IUQB2W', 'B000UWX70S', 'B0009RKL5S', 'B00004T0RC']\n",
      "A3E68EBGXTWDNP ['B00005NPWJ', 'B00006HOAE', 'B0009I4VE4', 'B00004TX71', 'B001GS8G06']\n",
      "A1VRANSQ0WF1YS ['B002CNOYRS', 'B004HW6F8I', 'B001BZUC9C', 'B0010Y414Q', 'B00007E7JU']\n",
      "A4GHPW9AAH1NY ['B008195P34', 'B000EUFJXE', 'B001GJADP6', 'B006GWO5WK', 'B002AUJHLG']\n",
      "A303SNZ4AR7TDQ ['B002IVVD8C', 'B000J01I1G', 'B005DVJJWQ', 'B007SZ0EOW', 'B009VV56TY']\n",
      "A1MNN0ZMHYPJDU ['B00B588HY2', 'B0000T1R4O', 'B002WE6D44', 'B000G1EWZ2', 'B004BV4JXI']\n",
      "A3QKIR8J56EUI1 ['B005MR4P0W', 'B003LR5HRK', 'B005NX7HY6', 'B0041RSDWK', 'B003MVZ60I']\n",
      "A1SDPA1J98UP4L ['B007BJHETS', 'B0039BPG1A', 'B000VEMNRS', 'B005HMKKH4', 'B0015V1H28']\n",
      "AHR86ZEYETLJI ['B001CRBTDW', 'B004G8QO5C', 'B007B6YPAW', 'B00B7O1CY6', 'B00004ZCJE']\n",
      "AGGAQLXPVGM5D ['B000EPHR0C', 'B004G8QO8O', 'B007XOQ3BQ', 'B001DULYZG', 'B0023B14TK']\n",
      "A25QJBK33C4O0R ['B00BD7UXT2', 'B0054QNL38', 'B005DOUJL8', 'B00FH66AW4', 'B006TR0FCQ']\n",
      "AENULRBQ2IE5I ['B001T6O0ZK', 'B002SZEOLG', 'B000WIK61I', 'B005WUUFBW', 'B001TSMJDS']\n",
      "A3EK2KTYHJCPB9 ['B005KFONIU', 'B0090IA4FO', 'B002J9HBSE', 'B0074BW614', 'B00BD7UXT2']\n",
      "A2ZRG5NOFZ47RK ['B004BFXBXI', 'B002V88HFE', 'B00834SJSK', 'B0053FR9FQ', 'B004TA0AUW']\n",
      "AFXTKAO0CB354 ['B002IJ95ZM', 'B000Q85WRC', 'B00000J1F3', 'B000067RT6', 'B0000CG4DI']\n",
      "A1CPRP3VFJRS1R ['B0008G1RWG', 'B000093US3', 'B000AMLXHW', 'B007PZYBTY', 'B000WY8JRU']\n",
      "ABMNX856X89CS ['B00G6CLN3Y', 'B00GC1ZMYA', 'B00IVFDZBC', 'B00829TIEK', 'B00JC5Y6WM']\n",
      "A9BWUH9XKZ2DQ ['B003MVZ60S', 'B00006RVPW']\n",
      "A3VTOLNB5N6FVP ['B00634PLTW', 'B00FH66AW4', 'B00AO1L1RG', 'B003G2Z1M6', 'B004TPJKEY']\n",
      "A2WC9NFLG57W4H ['B00829TIEK', 'B0034CL2ZI', 'B0038KV2MO', 'B00CKAOJA0', 'B00ARB5FLQ']\n",
      "A291XTI6NO7DEG ['B000204SWE', 'B000XSDKP6', 'B0009WKBGC', 'B000ANRP82', 'B00006364I']\n",
      "AL42PIIG5DXYD ['B003D1606G', 'B000BMQPCE', 'B003AJXUTQ', 'B005DKIID8', 'B000WNG0MW']\n",
      "A197T2N6RU7K56 ['B0046TJG1U', 'B001UQ6F4S', 'B00009R94Q', 'B000N254LU', 'B001KZ6C74']\n",
      "A3QRR8PSCBI07C ['B002WE6D44', 'B001J8BPYM', 'B003ZX8B1E', 'B0050X1OQ6', 'B0053NBLFW']\n",
      "AGXMC3ITWZASE ['B001PKEJZQ', 'B002MXXFHI', 'B002IPHA1W', 'B000EU02YK', 'B00007EDZG']\n",
      "AM0QLU79O05JR ['B00065W74G', 'B00D42AB50', 'B00A42Y0PA', 'B004G8QO8O', 'B000HCT12O']\n",
      "A28RSMADFCBJDT ['B000NB05OW', 'B001XCX9V6', 'B003CH3V0Y', 'B002IKLJVE', 'B000M2GYF6']\n",
      "A2RGA7UGAN3UL7 ['B001NJ0D0Y', 'B000V1R96Q', 'B0083J8D90', 'B00483WRZ6', 'B002TUC64W']\n",
      "A335QXPTV1RIV1 ['B002M3SO0G', 'B004PZRO3W', 'B002L6HE9G', 'B005CWHZP4', 'B002LARRDA']\n",
      "A10X9ME6R66JDX ['B007B6YPAW', 'B0013DXVYK', 'B000Z80ICM', 'B009LL9VDG', 'B000051299']\n",
      "A30R8VFR16RE32 ['B000Z7AKGC', 'B008BDBPTS', 'B00G6CLNCK', 'B003FZA1MY', 'B00CIRLJPI']\n",
      "A3R19YKNL641X3 ['B00AAHT8JC', 'B0071BTJPI', 'B001M5U5AC', 'B00HZWJGS8', 'B001F51G16']\n",
      "A1MBXP3NZM2BUO ['B0088CJT4U', 'B002RM08RE', 'B00FNPD1OY', 'B00D349WB8', 'B00519RW1U']\n",
      "A3PPO2X5PJE1L9 ['B00GJYJFKM', 'B00007E7JU', 'B001KN6WL2', 'B007KCV0RS', 'B002KETE24']\n",
      "A1EQ5D5JRSW23K ['B009NUK6S4', 'B000JE7GPY', 'B002WE6D44', 'B008X9Z8NE', 'B000VX6XL6']\n",
      "A2MIP3AQVSF2SS ['B00BGGDVOO', 'B007WTAJTO', 'B0057QETGS', 'B007ZWLRSU', 'B0030DL37I']\n",
      "AB094YABX21WQ ['B000KO0GY6', 'B000JJM8XE', 'B000LQMKDS', 'B003YL412A', 'B002WE6D44']\n",
      "A12R3YGEHW7D8G ['B0099SMFP2', 'B00489SLEQ', 'B0099SMFVQ', 'B00021EE4U', 'B00EWJHRMY']\n",
      "A2WDCAMKCCP1UR ['B00D7NZLK6', 'B000B6MLPU', 'B00006B81E', 'B004GGUAUE', 'B000ZH98LU']\n",
      "A32HSNCNPRUMTR ['B0045VXORG', 'B00462QT62', 'B0051PGX2I', 'B004T9RR6I', 'B0037D51FQ']\n",
      "A13WOT3RSXKRD5 ['B00AQDG96K', 'B004CLYEH8', 'B001207YMY', 'B000A0CV9S', 'B008SFPMRK']\n",
      "A1NMM0RDRF6R84 ['B000HZ9CCA', 'B0000665V6', 'B003DKL54O']\n",
      "A3E049PVKG7NDK ['B00024ENES']\n",
      "A38RMU1Y5TDP9 ['B000FEDRN8', 'B00AYB3OMG', 'B008BDBPTS', 'B004Z57YJQ', 'B00E87E1OM']\n",
      "A2PC9ZZIFV31B1 ['B004I43F9C', 'B001W8WEGC', 'B009TCCTSQ', 'B001TH7GUU', 'B00HC3YXRO']\n",
      "A2DKQQIZ793AV5 ['B007WTAJTO', 'B00DLZOG2E', 'B003YKG2UK', 'B00DBX371C', 'B0031RD3YY']\n",
      "A11YIHB6IW352W ['B004O0PAKW', 'B00243HHNY', 'B004W2JKWG', 'B000CC6I5W', 'B00007KDVI']\n",
      "A27H0T39U3FZB5 ['B003TLSXMO', 'B005IPMIBQ', 'B00408GUNY', 'B002DPTQ8W', 'B0025VKUQ6']\n",
      "AMKNPIDFLRFMP ['B001A4LVYY', 'B000N99BBC', 'B000FIVDIA', 'B001D9IWIY', 'B00E362W9O']\n",
      "AKX9EQ37PAYMY ['B00834SJNA', 'B000VM60I8', 'B001A4HAFS', 'B007Q45EF4', 'B001FB6PO8']\n",
      "A2KIJBT9HRIOM8 ['B000FFISV8', 'B002ROILDA', 'B004FJV8EE', 'B003XM1WE0', 'B000T8THL6']\n",
      "AN9WA4C5E7YY5 ['B00A9LHLQ6', 'B005CLPP8E', 'B001LQSFKY', 'B004CANMCC']\n",
      "AWZR0O65DL2Q ['B004QRUM92', 'B006O711RE', 'B005FVDTAW', 'B0014L4ZKK', 'B000EN62YG']\n",
      "ATNOI7E8GTIVE ['B0015A8Y3E', 'B002ZCXJZE', 'B000VX6XL6', 'B0013IWYHU', 'B000MX48VM']\n",
      "A240FRPD4MEXND ['B008HU9R7W', 'B00829THVO', 'B0042X93AY', 'B00CHT6CRC', 'B00966PFHW']\n",
      "A1W415JP5WEAJK ['B005ELV3HE', 'B006MVX5B2', 'B005FDXZJU', 'B003UE52ME', 'B00CEB5QU2']\n",
      "A5A4374R8I7NB ['B005Y586QQ', 'B007JWUP52', 'B004LNXO28', 'B003WCAX28', 'B004YPK5ZW']\n",
      "A3IRA0BHI9NE9U ['B005PYD2RE', 'B00C0NWAPS', 'B002GU5XKO', 'B003VAHYNC', 'B000P910OG']\n",
      "A12DLJESJKM1OQ ['B00008OE5G', 'B00008L3HY', 'B00008N6VM', 'B000AYGDWU']\n",
      "A1R6RKKE44AYA8 ['B0053NBLFW', 'B0001GZ87I', 'B00834SJSK', 'B002IKLJU0', 'B008D4X4GW']\n",
      "A1PM7HH4F77NEH ['B001JT1KEG', 'B001RNNX8K', 'B00004Z5LZ', 'B005S0BYQ6', 'B001MPWMDA']\n",
      "AFM2J3HJNPIHV ['B009W34X5O', 'B0016GV1UU', 'B0019EHU8G', 'B0052VZTUI', 'B008UHK3KM']\n",
      "A3S0DBBR693O06 ['B0000A2QBP', 'B001MSU1HG', 'B0088CJT4U', 'B00934CQ56', 'B000ID7QNI']\n",
      "A2CWIYIETNBAK3 ['B0084JFLTY', 'B000UY1MB2', 'B00829TIEK', 'B00829THK0', 'B00DR0C96S']\n",
      "A3W4D8XOGLWUN5 ['B005GS3C9C', 'B0006OCZOY', 'B000B0NC2W', 'B003QWYX8E', 'B000NWVAFO']\n",
      "A3QDY9I0CNMD2W ['B000BV8604', 'B000VIQ6AO', 'B00004WCGF', 'B004WO8HQ4', 'B000RT77I2']\n",
      "AHROSV6WJOEGY ['B0017O3UHI', 'B00GGVPKKC', 'B0000ACOBG', 'B0002FHENE', 'B000EPJL1A']\n",
      "A17V9XL4CWTQ6G ['B00CKK8GEU', 'B00CHRID4Y', 'B0081FLFQE', 'B00DN27H58', 'B001U0O5QO']\n",
      "A1LYMYNURB9EWW ['B00EXPNFQO', 'B006RG0QC8']\n",
      "A2HXE29CU1I24Y ['B001AZP8EW', 'B000065BPB', 'B0000AKVHF', 'B0020HR7DE', 'B0015DYMVO']\n",
      "AH5BCMZELZSKG ['B006AR1QAA', 'B009NXFLWW', 'B007PFQ0PC', 'B009P7JJEC', 'B003LYKLCO']\n",
      "A1L1N3J6XNABO2 ['B003VYEYE0', 'B00004T8R2', 'B003ES5ZUU', 'B000E8SY5G', 'B0000AI0N1']\n",
      "A1OMXVXXP07F05 ['B0009WDM2W', 'B0079UAT0A', 'B002RWJHBM', 'B0043EV20Q', 'B002WE4HE2']\n",
      "A3DQWFWINN3V5A ['B005CLPP84', 'B000BTL0OA', 'B001UI2FPE', 'B0002UM0JW', 'B000GQXFUK']\n",
      "A3NGOG8Z78AZSD ['B003LD4T0K', 'B004ELA0SS', 'B0002YV8EG', 'B00002EQCW', 'B00028VKLI']\n",
      "A200RY2ELZL2Q3 ['B004C467MU', 'B007V9UO6S', 'B0046A8YF8', 'B008ZGKWQI', 'B005Q39PTI']\n",
      "A1T7EHCMZ92TKC ['B009CQNPYQ', 'B008PQAFR4', 'B000J5LA9Q', 'B005LAIEN4', 'B008CS5T76']\n",
      "A3IJL9A50KVVZ1 ['B00068YUN4', 'B002QAUN2M', 'B007SM7O2U', 'B0049KV50G', 'B007WTAJTO']\n",
      "A5Q1FK0FWU7DH ['B0015VW3NK', 'B000VY6T82', 'B003554BP2', 'B007Q8GOGI', 'B001KP3NZS']\n",
      "AA8RBTN3J2F5H ['B00005TQKQ', 'B000AAZQM2', 'B005LS2J14', 'B004LNFJCQ', 'B005H3Q57M']\n",
      "AL5CUWBFBMWYQ ['B007JUFKLI', 'B000M1G8BW', 'B006ZP8UOW', 'B00066IJPQ', 'B00DDK1QUC']\n",
      "AFICF7DKHTQ87 ['B001QFXDA2', 'B00DQZQHBW', 'B0076AYNXM', 'B0018ZDGAC', 'B00ARB5FLQ']\n",
      "A2NOIWPJDD7WIQ ['B0040702IE', 'B0064SBNQM', 'B0081CRXGI', 'B0057WXF6C', 'B0063K4NN6']\n",
      "A1M7HP5CHDXXOU ['B005SEZR0G', 'B00D429Y12', 'B002PV3UO0', 'B008LTBITY', 'B00D5Q75RC']\n",
      "A15CL28ALB7MTZ ['B003ES5ZUU', 'B0012H6H7A', 'B000FHFPHG', 'B0009U6YQK', 'B009LPV766']\n",
      "A1KWPIORLG2QV ['B005EKJC78', 'B0051PGX2I', 'B0038L495U', 'B004T9RR6I', 'B003B41XYO']\n",
      "A2RS66Y79Q8X0W ['B00BOHNYTW', 'B001KELVS0', 'B004S76NH0', 'B003YM04NO', 'B0009IGAPW']\n",
      "A110PC8C5Y7MQD ['B000I1D0BW', 'B005EOWBKE', 'B002ZVCGXQ', 'B005J4C820', 'B0015TJNEY']\n",
      "AEZJTA4KDIWY8 ['B000JMJWV2', 'B0001Y7UAI', 'B001B8CU8U', 'B001NS0OZ4', 'B008THTWIW']\n",
      "A1Z7U9K6X3FEOU ['B004EHSV4W', 'B002HOPUPC', 'B003GSCS3U', 'B002WUVAVE', 'B005C1U8QS']\n",
      "AZMY6E8B52L2T ['B00EFE9OAE', 'B00AQUMZRA', 'B00E3FHXYO', 'B004G6002M', 'B0041TF4QQ']\n",
      "AXR3CV6A4FMBG ['B00E8HIN78', 'B001U0O5QO', 'B003Y74AXO', 'B00BD7UVO4', 'B001U3ZUWO']\n",
      "A1IG1I6MR3HAWA ['B001FA1NK0', 'B0038KN114', 'B001QUA6R0', 'B00006ELLL', 'B000MWNJPE']\n",
      "A35HNL2VEDK9Z1 ['B008XW7T8I', 'B000KO0GY6', 'B00032AVN6', 'B000S5Q9CA', 'B00GD1K8J8']\n",
      "AFQBS241UKPAZ ['B003XM73P2', 'B000GLIIFW', 'B0094S35W4', 'B0007R4LI8', 'B008X1BV2Y']\n",
      "A1LAGS8H4A2DR7 ['B000NO5QVG', 'B0077V88VI', 'B003P2UMR6', 'B001AYW91I', 'B005O9YMM4']\n",
      "A22I55P15NSAOX ['B004Y4XVOK', 'B00834SJSK', 'B004Z57YJQ', 'B000067SOL', 'B00B7X2OV2']\n",
      "AW63IRQWH10GF ['B0093LINVK', 'B0024G48VA', 'B00BLGUKDE', 'B000EY5F5C', 'B00D02AHEO']\n",
      "A1WUQF5HWBAQJU ['B00GJYJFKM', 'B00JF0D7RE', 'B00G4V0QSK', 'B002IKLJVE', 'B00F5NB7JK']\n",
      "A3IJ4Z18FTIIP ['B001U3Y8Q8', 'B0036Q7MV0', 'B009QBIZ60', 'B00066IJPQ', 'B00AXX0I88']\n",
      "AKT8TGIT6VVZ5 ['B00G4V0QSK', 'B00000J1TX', 'B00006B938', 'B000M2GYF6', 'B00BOHNYTW']\n",
      "AFH97KY1SBP2C ['B001LQSFKY', 'B001U3ZH7W', 'B000ANCPNM', 'B004BLIQEG', 'B004R7P28W']\n",
      "A3977M5S0GIG5H ['B0087NB1IW', 'B0002Z45DQ', 'B002TLTGM6', 'B0000C0XS0', 'B004X6AJV2']\n",
      "A3SOJO7Z7R9WIA ['B00HPMCNXI', 'B004ETSGG8', 'B002OWHZMI', 'B004JOQSEA', 'B00104XCVO']\n",
      "A1QRST0A3IQIEF ['B00305N48C', 'B001X017G2', 'B0027AGK3M', 'B001KZ6C74', 'B008MDSWI4']\n",
      "A19XMHRB3G4DIR ['B004CLYEH8', 'B004QK7HI8', 'B001OQC0IO', 'B004CLYEFK', 'B003X26LYG']\n",
      "A1CN1P7147QDJC ['B001SV571M', 'B00BQ8RFAI', 'B008F537KC', 'B0010YWPZ8', 'B0000AZK0D']\n",
      "A1BJOHHLG0D965 ['B000RHZJN4', 'B001FWBUUG', 'B0043M668G', 'B001E1Y5O6', 'B000J6FWT4']\n",
      "A1J5HIF41ENSMZ ['B00028OP2Y', 'B000GABVOS', 'B005O88CY4', 'B002VPE1Z2', 'B0079TOEQQ']\n",
      "A3S3R88HA0HZG3 ['B007OY5V68', 'B00BQ5RYI4', 'B000V0DY7U', 'B006ZH0KVG', 'B002JSQ96K']\n",
      "AG8YP2XTC5X1I ['B001FO4QHI', 'B000X24ISU', 'B00B5HE3UU', 'B002WE6D44', 'B002K42W50']\n",
      "A33PVCHCQ2BTN0 ['B000TXNS6G', 'B00ICDAAXO', 'B00AYB3OOY', 'B00E87E1OM', 'B00829TIA4']\n",
      "A14MZJTZAQS6CV ['B006Y54IK8', 'B005CT56F8', 'B001TH7GUU', 'B008LTBITY', 'B001QUA6R0']\n",
      "A34C9AFFZOI45T ['B000PI9E4K', 'B000SA7I0M', 'B00008OE6F', 'B000PKX2KA', 'B00080G0BK']\n",
      "A9DYWY9VOSP1P ['B0001G6U9I', 'B000W09ZTK', 'B00C94GTJQ', 'B000EX1TGC', 'B005HQ50SO']\n",
      "A2J3VCGBNDLAKF ['B00823EE8G', 'B00009XVA3', 'B00CUACTKM', 'B00AAIPT76', 'B0041MY32Y']\n",
      "A2NSXY5L42ZUGO ['B0012QCYNM', 'B001O4EPHA', 'B005LFT40G', 'B0009BX0AM', 'B001QUA6RA']\n",
      "A2CWUM49ZWMGEY ['B000MGG6SC', 'B00BJOZNV2', 'B001G4ZA6I', 'B008MDSWI4', 'B000050AUJ']\n",
      "ANTN61S4L7WG9 ['B008EQZ25K', 'B008M11XO6', 'B007ZZ6OW6', 'B003YKG2XM', 'B00HVT27B8']\n",
      "A1LHMSY3Q46PJS ['B001KC08A4', 'B008Y8PON8', 'B004YDUZ22', 'B000I2HAVW', 'B002QEBMAK']\n",
      "A2PJH18W4XHTZW ['B008AL9VXI', 'B0081SS5C8', 'B00E3W15P0', 'B008B488DI', 'B00A6288II']\n",
      "A3SVYWA9O1KUQV ['B000K9DHZG', 'B0007Y79AI', 'B0009NEUO0', 'B008O2HVIK', 'B0001NNLHK']\n",
      "A2NP9CGUSFP22E ['B003CJQ69A', 'B000F9YN22', 'B0036Q7MV0', 'B004RORMF6', 'B0001PFQAI']\n",
      "A3G7BEJJCPD6DS ['B0011YAOBE', 'B00FLZ2F5W', 'B00EAXRVLY', 'B007LBOCVY', 'B004H8FNCQ']\n",
      "AULFLNWJP1QXY ['B004C13VWC', 'B004N625BO', 'B00DT04I9W', 'B003M0NURK', 'B00F3F0EIU']\n",
      "A2HNH4PKE5DPSI ['B003LVZO92', 'B00829THVO', 'B000BI2180', 'B000FQ2JLW', 'B002R5AM7C']\n",
      "A2G563AC1HME2R ['B001W26TIW', 'B000F28DP2', 'B0042F3K9W', 'B003BKW2K2', 'B00HBYKVA2']\n",
      "A2ER8G4JJJ7XER ['B00264GMOG', 'B000GQMHBI', 'B000UIA6YM', 'B00006HZ0K', 'B0086ZU8XK']\n",
      "AMWL7XIWIPXEZ ['B0043GCBU4', 'B000HCT12O', 'B00CO8TBQ0', 'B002G1YPH0', 'B000VOE466']\n",
      "A2FZQF0MH29VYN ['B00829THK0', 'B007ULT41S', 'B003WV5DJC', 'B007WTAJTO']\n",
      "A1NNMOD9H36Q8E ['B000F31KLA', 'B00093IIRA', 'B00007EDZG', 'B00005LEN4', 'B0015VW3BM']\n",
      "A2TVH2OBNXYXHV ['B006K553LU', 'B00486UR2I', 'B00BSEV682', 'B008X9Z7N0', 'B001FA1OHW']\n",
      "A32T2H8150OJLU ['B00006I5J7', 'B003ZYF3M8', 'B003HIXOOG', 'B004X69BFW', 'B00829TIEK']\n",
      "A3GFQHHVMEAIO ['B002UAR8SK', 'B0037D51FQ', 'B0014KOB6Y', 'B002BW6DBU', 'B007HQR710']\n",
      "A3O4OIBCML0683 ['B00886XQO0', 'B002K0TU2C', 'B005MIZYOW', 'B00264NZWS', 'B005KOZNBW']\n",
      "A17Z0LVY96TO53 ['B007SZ0EHE', 'B002NEGTTW', 'B000053HC5', 'B002YTDE5I', 'B003RRFWRY']\n",
      "A2BUQ240COLAOP ['B005CFLMNC', 'B002K8A75I', 'B001DFTGUQ', 'B0055CL5XE', 'B003HFCDLY']\n",
      "ACY9QYNDFLVBI ['B007G5NNOW', 'B007SZ0E1K', 'B002MAPRYU', 'B002HKCVVW', 'B0041OSQB6']\n",
      "A7Z2J9V37ABCO ['B004RORMF6', 'B002V88HFE', 'B00BEW9BBW', 'B008MDSWI4', 'B009OBCAW2']\n",
      "A7EJERNB7IK3Z ['B0000AOWVC', 'B004QK7HI8', 'B001CK9760', 'B000V1MLBE', 'B0018QNYIK']\n",
      "A1ZPUEHF4AES86 ['B006U5W49O', 'B002Q7IKYS', 'B00EYXZI4M', 'B0015YJOK2', 'B00746LVOM']\n",
      "A20L63B48RPSOH ['B000N99BBC', 'B000V5O640', 'B004CLYEH8', 'B00ESYW40S', 'B002Y5XQYG']\n",
      "AJL3U764D7NI3 ['B001PUSERA', 'B004K1EZDS', 'B006M76GWG', 'B002G1YNQS', 'B002ROEKBW']\n",
      "A2LLSFQO8O8XNW ['B002HSXXMA', 'B003ENOFGK', 'B000083KIH', 'B00299G80Q', 'B0011FQUQG']\n",
      "A57Q87B0TC9IJ ['B00002JXFH', 'B000N99BBC', 'B0026FCI2U', 'B001UQ6F4S', 'B002ZV51DI']\n",
      "AC1YLEFC9AN5X ['B005LD275M', 'B0088CJT4U', 'B00DQZT0AC', 'B00CF030S2', 'B005YR0X4W']\n",
      "A1MQQEM7W77L62 ['B006VJREFS', 'B0074703CM', 'B003EYV224', 'B0012DR4HG', 'B00DBDM934']\n",
      "A21NS06GDEA3V0 ['B0036VO70O', 'B00333F2YU', 'B009A5204K', 'B0002MQGOA', 'B00004Z5PY']\n",
      "A21GW4L8FO307V ['B008YD80KC', 'B004S4R5CK', 'B005LIDU5S', 'B0023Y9EQC', 'B000I20AJ6']\n",
      "A15U64VGUV6RBF ['B000XPSH70', 'B003ES5ZR8', 'B005HSG3TC', 'B00426C57O', 'B007WTAJTO']\n",
      "A4H4KYSM2KQ85 ['B008MWBY6W', 'B00G4JZ2T0', 'B00B2HCLL6', 'B000J47W12', 'B004P8K24W']\n",
      "A1AKW788238PWQ ['B001SVNHIC', 'B000LYAZ4G', 'B0071LSAR6', 'B003E3029Y', 'B0041Q38NU']\n",
      "A1FLJCHN5CG5M5 ['B001KNP3MQ', 'B001G1ZPV6', 'B0000BZL0G', 'B00CYSHUG8']\n",
      "ATDE9JYCPI0L1 ['B000JLKIHA', 'B00E6ONJJU', 'B00004SB92', 'B009VV56TY', 'B000HKIPVE']\n",
      "A3ER6ARJ23CIN8 ['B0017KH6OU', 'B001D7REIK', 'B001C20816', 'B003UH0Z9Q', 'B004HKIB6E']\n",
      "A2RN2AO4BE6F4K ['B008DWCRQW', 'B005YQY5TM', 'B0096YORV4', 'B009A6CZ30', 'B001TOD7ME']\n",
      "A3NKRH3TJ4DPVI ['B002MAPRYU', 'B000ONZTMW', 'B002Y2NI4M', 'B00006G2OJ', 'B001C271MA']\n",
      "A1H55L0BLPCWYF ['B00B46XUQU', 'B0002L5R78', 'B0046TJG1U', 'B000S6E0XY', 'B000HKIPVE']\n",
      "ARC5ASW9CUAGP ['B0010Z294O', 'B000EVLS4C', 'B001E78UQY', 'B00E3W15P0', 'B0042X8W0Q']\n",
      "A132ETQPMHQ585 ['B006QOM1FG', 'B000J4J6T8', 'B000P6H7Y6', 'B0026K5SWW', 'B000BM8RFM']\n",
      "A3KTWUXXB8KKC7 ['B00005ATMB', 'B000RZQZM0', 'B005CWJB5G', 'B000EWHH7I', 'B004YLCKYA']\n",
      "A11LNPG39A2ZV4 ['B004GCJEZU', 'B00BOHNYU6', 'B00946XHI8', 'B0012GQZZU', 'B00AXVXXNC']\n",
      "A1ZPY91VE3IDN1 ['B000H84LBE', 'B006YQBKE4', 'B004N62HZI', 'B003LVZO92', 'B006C248BC']\n",
      "A1U5IJHJK84S54 ['B003YNB86K', 'B007B5PPF2', 'B008GVM9K4', 'B004M187ZI', 'B000PH1DL8']\n",
      "APBDZ88BBTN4F ['B00AW48DS0', 'B00BPHH8MA', 'B001TH7GVE', 'B00BWHILCY', 'B00FNPD1OY']\n",
      "A186697K4XKXQL ['B0094S35W4', 'B003FST9EC', 'B00829TIEK', 'B00AQRUW4Q', 'B002LF2PQO']\n",
      "A38CHSS1ZAE51B ['B005DKZTMG', 'B000RQSGYO', 'B003CH1SJU', 'B001F42MKG', 'B0046TJG1U']\n",
      "APMYPD97EHUUZ ['B002HWRJY4', 'B003P2UMQ2', 'B0011Z2402', 'B00829TIEK', 'B0076POAOE']\n",
      "A3O1FVLUD9X1XC ['B003H3HLEU', 'B00461E7JE', 'B0057FRTPW', 'B0055QYKQE']\n",
      "AM9APPMIE1BHZ ['B000N99BBC', 'B0093HAWZY', 'B00E6ONJJU', 'B001B8EOMU', 'B001GS8FZ2']\n",
      "A2LCE1D0TW2XY0 ['B008HD3CTI', 'B00006I53S', 'B000053HBB', 'B009B0MZ8U', 'B00894YWD0']\n",
      "A3D0UM4ZD2CMAW ['B004MYFOE2', 'B005CT56F8', 'B004Z0S6RU', 'B004RFBIUU', 'B005HMKKH4']\n",
      "A3QD59N3M7O7KB ['B00BXQUQ9U', 'B00E5M3FTM', 'B00B0O1BWG', 'B00DQZP7X6', 'B001JTQUYG']\n",
      "AEIB3UR05OP7A ['B00CO8TBOW', 'B00D12OBEU', 'B001E01EYQ', 'B001NJ0D0Y', 'B00ARB5E8U']\n",
      "A145B8OHVNNFAJ ['B00EDCF0MY', 'B00BE68UZ6', 'B0044779G8', 'B0063705PE', 'B006OOKT3Y']\n",
      "A29KJ32G75L7G9 ['B002TNRTSC', 'B00023433U', 'B0058TUZT4', 'B000JMJWV2', 'B00902SJY8']\n",
      "A31BD4RXCON7QO ['B000023VW2', 'B003NRHAH8', 'B00004TS16', 'B004HO58L6', 'B00009R6WL']\n",
      "A2DXENZNO2JT4F ['B0015DYMVO', 'B00ESYW40S', 'B008F4NL04', 'B00FLZ2F5W', 'B004EPV7TK']\n",
      "A2JKM8KF3296CW ['B00BEGS4R0', 'B003L1ZYZ6', 'B009APBY0G', 'B003ZUXVQM', 'B00EOE4G4E']\n",
      "AFFVUZEGP1FDQ ['B001TH7GT6', 'B00DTZYHX4', 'B008DWCRQW', 'B00F3SIQKK', 'B00EAR8S76']\n",
      "ASHJAZC9OA9NS ['B0030DL37I', 'B0049XGNKK', 'B0083WYFWG']\n",
      "A2NXRD80LWHUOP ['B00005AXHW', 'B000X24ISU', 'B002HR8HV8', 'B0011U65F2', 'B003O8J11E']\n",
      "A1MCH5RXDOH87H ['B000CD8BCY', 'B0042FZA1S', 'B0036AWR8E', 'B00025O7FC', 'B00DY2Y28M']\n",
      "A21INUA35HX4XQ ['B002AULS7C', 'B0076D099Q', 'B0031U1ATQ', 'B002EOTJE8', 'B005MIZYPQ']\n",
      "A1SX9PHJWTDMF9 ['B00006JQ06', 'B0053T83Y8', 'B0012Y02CE']\n",
      "AQ3IN3MRXQ5KH ['B001U3ZVQ4', 'B000E6NGBU', 'B002TLSOFQ', 'B00429N160', 'B0028ACYEK']\n",
      "A26LD9FQHTM8ZH ['B004CZ9U96', 'B001IBMLKM', 'B005CLPP84', 'B002TLTE6Y', 'B005HMKKH4']\n",
      "A3BNMHRW2R35LK ['B0079UAT0A', 'B004CLYEDC', 'B001NTDGQC', 'B005A2RLXC', 'B00D695GS8']\n",
      "A3QQCEQ33O0GJU ['B0057QETGS', 'B004ALYGI2', 'B004RFGALC', 'B004W2T2TM', 'B004MU8VCS']\n",
      "A12ANFNOSMW5VD ['B009VXUFLG', 'B000BKN2Y0', 'B000N50S3Q', 'B001V9LPT4', 'B0034CL2ZI']\n",
      "A13QOK3SKIT9QL ['B003P2UMQ2', 'B0014J07R2', 'B000HDJT4S', 'B00224ZDFY', 'B000I98ZYG']\n",
      "A2JXS1JII6SAUD ['B000OH63MI', 'B0051G5SBY', 'B002DMK1R0', 'B004FA8NOQ', 'B007R1FH3K']\n",
      "A34UVV757IKPVB ['B000652LUG', 'B004QR56R0', 'B008KYY0WW', 'B0042X96II', 'B0082DCPQ4']\n",
      "A3NCIN6TNL0MGA ['B003QHXZM4', 'B001BGGD8A', 'B0002AHS12', 'B00006HOLO', 'B00000DM9W']\n",
      "A2HBOG4LVIY15L ['B005YW7OLM', 'B00CO8TBOW', 'B005JN9310', 'B001N9X4CS', 'B001TZUS98']\n",
      "A3FKQQTSMHOCE0 ['B001MRX3RM', 'B00505EZYM', 'B0057ODG6Y', 'B0044DEDCA', 'B000AYGD8E']\n",
      "A26CPEEWB2WKRE ['B00D77KEEK', 'B003VTZFNE', 'B005O81U8Y', 'B00EZ9XG62', 'B0089E5R0W']\n",
      "AMUP8DYE7EAN2 ['B000EOOQUW', 'B0091T97J6', 'B0009K9FZW', 'B0016BVDIK', 'B00A0JUNYY']\n",
      "A3BI8BKIHESDNQ ['B007YUISN0', 'B000JVCPEY', 'B00006B828', 'B0009ON12G', 'B000FV8P24']\n",
      "A19XPAWSWDRI3B ['B002WE6D44', 'B004Q81CKY', 'B006JINHYS', 'B00066FH1U', 'B001KB21KA']\n",
      "A3PJJTAKISAFI9 ['B0059M4G9K', 'B00ASQFW40', 'B003XTRU58', 'B007VD36K0', 'B000M2TAN4']\n",
      "A2NU9H8H5MJZSL ['B0007XL43M', 'B00191QN6O', 'B001KEEGIM', 'B003SGCO3E', 'B003UE52ME']\n",
      "A1QOIHVQC5XWCJ ['B0038JECKE', 'B004RKQMCY', 'B002J9HBIO', 'B003N7NTX2', 'B001TK89L2']\n",
      "A3RGHO0Q938FRS ['B0011N17RU', 'B009NHWVIA', 'B00AXVXXNC', 'B001U5YZ4G', 'B0051FWA7U']\n",
      "A361U4SXK7FCQE ['B00169N0BK', 'B008DWCRQW', 'B0078GCLU6', 'B007TEE90W', 'B00829THK0']\n",
      "A2YYHSORXIHZCS ['B005SEZBXY', 'B009IBX7Z2', 'B004GK0GKO', 'B005H3Q59U', 'B000KFWUMG']\n",
      "A1OA2ZW406NQXM ['B0032ANC5U', 'B007PJ4P4G', 'B000NLLXVQ', 'B008LCYIEI', 'B003X1AK12']\n",
      "A2UCDLO7V7DG6 ['B003Y322RO', 'B001CHM3VO', 'B003DSEJWQ', 'B007TUSXEY']\n",
      "A1HBI9BBQIG1NH ['B00ATM1MHO', 'B0054CFKQI', 'B001U0O5QE', 'B001B11GTQ', 'B006ZH0L2E']\n",
      "ADKGE078JK8K7 ['B005DLDTAE', 'B005HSG3TC', 'B0001YXWVO', 'B005755U0I', 'B00BGGDVOO']\n",
      "A19HT7YC1UW3D6 ['B003B20JDW', 'B000HPV3RW', 'B002WE6D44', 'B000P1NAMO', 'B00632SOD4']\n",
      "A2EMUM49CE0JV4 ['B0058UUR6E', 'B0019X20R8', 'B005N1QL54', 'B000QUUFRW', 'B000F7JCRA']\n",
      "A1WG97A0EFHYXN ['B002FFT8Z6', 'B007S642BW', 'B0009MIP8I', 'B005WUUFBW', 'B005LIDU5S']\n",
      "A31HOWJKEIY037 ['B002UAR8JY', 'B002DUKPN2', 'B001E1Y5O6', 'B001CIREXA', 'B007NZGPAY']\n",
      "A2SYAQXJGRY3XE ['B003Y2ILB6', 'B000L9OIQC', 'B003A6H1OY', 'B002JCSV8U', 'B001U3F1YG']\n",
      "A3NVZTGPORNPRW ['B000SE6IV8', 'B000EW2XQ8', 'B001CY0P7G', 'B008ABOJKS', 'B000TUDOQ8']\n",
      "AETQIN7OH0RL9 ['B007525SLM', 'B0068ABJZ6', 'B004SBBD8U', 'B008AST7R6', 'B00622AG6S']\n",
      "A3VL4RXCWNSR3H ['B000E6NGBU', 'B00009KIYM', 'B009FD4UDG', 'B0000ALPBA', 'B000062R4P']\n",
      "A1EOTB1WHLSW6G ['B0000C3GWU', 'B004M8SWBU', 'B008I21EA2', 'B007PJ4Q4A', 'B000BI2CIO']\n",
      "A12LH2100CKQO ['B00005AC8W', 'B0015DYMVO', 'B003VAHYTG', 'B004Y3FG9E']\n",
      "A2NYOY6H42SORF ['B0007QKMQY', 'B002V88HFE', 'B007P71IM0', 'B009ISU33E', 'B00429N18S']\n",
      "AA95DWUI3ODU ['B007CMSEUM', 'B00728ZAEY', 'B003ZYEKJ0', 'B003K1EYM6', 'B001EQ0HAW']\n",
      "A1XK4VP74IB9TQ ['B001VO83A8', 'B000S6E0XY']\n",
      "A3FEJ8H2VTN0OJ ['B000HLZXH2', 'B008MDSWI4', 'B005DKZTNK', 'B001NJ0D0Y', 'B004PVW1DY']\n",
      "A1GBU479WXR7UG ['B001TH76JQ', 'B006ZGWJU2', 'B005PYD2RE', 'B002ZIMEMW']\n",
      "ANYC38I00IRVK ['B004477OAY', 'B004Z57XFQ', 'B00APP6694', 'B004HIN97M', 'B0098Y77U0']\n",
      "A2M14CFAMF8J7I ['B0088CJT4U', 'B00AXVXXNC', 'B003M8HWDA', 'B00CD8ADKO', 'B004MSQZUU']\n",
      "A2FHTXLKY1XJDB ['B00F4PRKDG', 'B003HNS6S0', 'B004W7DSG0', 'B001W8WEGC', 'B004T6P1FU']\n",
      "A1QJ10LEINDRWW ['B000H4CLXS', 'B002IKLJUU', 'B001EZYMF4', 'B001ISKNKA', 'B0033PRWSW']\n",
      "A3JU990UTN5RQP ['B0028N78C0', 'B004R6NWBC', 'B002LITI8E', 'B001TFBPMM']\n",
      "AS7J4952JB5XR ['B008KFY16Q', 'B004JWA70I', 'B002DPUUKK', 'B005TCMW7S', 'B006UV6YMQ']\n",
      "A2PICNZWHEINQC ['B008EQZ25K', 'B002VPE1QG', 'B005OL2ID2', 'B001VO4MOY', 'B002RM08RE']\n",
      "A2J96FILPQA01 ['B00FEE7B1I', 'B00DTPYRKC', 'B0041OSQB6', 'B005CPGHAA', 'B0054YQO5C']\n",
      "A2JRDFIGWTX50J ['B00023NDLS', 'B000E1B29I', 'B000B8UOTS']\n",
      "ADHA1W879JNT0 ['B005CI47F4', 'B0000DZET4', 'B006P4DI5E', 'B00A83I8G2', 'B001KUL012']\n",
      "A2NPN06SYI5VL3 ['B007R67FTY', 'B000EUGX70', 'B001GTT0VO', 'B001RB24S2', 'B0058UUR6E']\n",
      "AYCAIHABPYWVJ ['B004N6259G', 'B00139VKU6', 'B0012GQZZU', 'B003MSSW84', 'B00006I53V']\n",
      "A2Y739CRM15WDL ['B0002WTK48', 'B002CNOYRS', 'B00DQZRQPI', 'B0007XXU3E', 'B00FG38L16']\n",
      "A2QDOJFFLFGF18 ['B008X9Z7N0', 'B0007Y79AI', 'B00F6E8OUS', 'B008MF48J4', 'B009YQ8BTI']\n",
      "A365PBEOWM7EI7 ['B0074EUKDM', 'B0050VGZLM', 'B00E3W15P0', 'B008FO7PQA', 'B001TH7GUA']\n",
      "A96JD9312DHWC ['B008ULPE70', 'B004CLYEFK', 'B000NLLXVQ', 'B002OAVQJ8', 'B001FA1NUK']\n",
      "A3V15SFD7918WZ ['B005C95NCY', 'B004CLYEFK', 'B005VTIMEQ', 'B0027VT6V4', 'B004FEEY9A']\n",
      "A1UL2JH7XOUGM5 ['B001A5NGZU', 'B004NCRYZK', 'B000JNG45I', 'B00009R6UI', 'B002NEGTSI']\n",
      "A1H7Y5XKPGT0OS ['B00008L3IS', 'B002VPE1Z2', 'B0021AFWL4', 'B00A81ICCE', 'B008ULPAT2']\n",
      "A368IPE6EW0GZL ['B00F5NB7MW', 'B002SOBPH8', 'B000CLNHXY', 'B001LM66BS', 'B005IMFX2K']\n",
      "A3P1508PZ0UADD ['B009WHV3XA', 'B004G6002M', 'B000CSOXTO', 'B0057OCDQS', 'B0002Y5WZC']\n",
      "ALUNVOQRXOZIA ['B009PK9SA4', 'B00ARSNT7Q', 'B002L9LW00', 'B006B1CF1O', 'B005KWPJ04']\n",
      "A1DB5QPH7WO488 ['B000EQ5HSK', 'B000AY0IT4', 'B002ZV51DI', 'B004H8FNCQ', 'B004TS1IFK']\n",
      "A1W4F91DH3XPB2 ['B000WOGA6C', 'B003M8HWDA', 'B0097CZHAU', 'B004MSQZUU', 'B001XURPQI']\n",
      "A3PU3EDJ2FG1AW ['B004FLL58Q', 'B001CBPWT0', 'B004ZMVQRA', 'B00BD7UVO4', 'B000MAXYHY']\n",
      "A3U5HKDHPYBAK3 ['B005JSM95W', 'B00ALN54KM', 'B0035JAE0O', 'B007M4Z60Q', 'B00829TIA4']\n",
      "A2GYV87WW0DMSN ['B000FIDTYG', 'B00803N2AY', 'B003ELYQGG', 'B00FA4Y7N2']\n",
      "A15TABNGK6L4N3 ['B0046A8YEO', 'B002SZEOLG', 'B000YBH4YU', 'B002V41X2M', 'B000O5TH14']\n",
      "A2L4W1M5YU5QX3 ['B0089VO7MY', 'B00CM0XHNS', 'B001M4HXSK', 'B0062W0XD4', 'B00DP3KOOG']\n",
      "A12O5SEIF162P8 ['B009X01C64', 'B008X9Z6EA', 'B000JLK5NW', 'B000RZ8WHG', 'B0064EL2DK']\n",
      "A257X1MQJO82P2 ['B004HREPCQ', 'B008EC4O76', 'B001GCU0MY', 'B000IEN8QQ', 'B008X46QC6']\n",
      "A2SGAJWXG65464 ['B004MEZ5IM', 'B007HBLX8I', 'B0056YNA1Q', 'B003ZUIHY8', 'B000JLK5PK']\n",
      "AU2UJF4I7KAWL ['B001SVJUPG', 'B005BOMTT0', 'B004KCAQ9O', 'B000ENUCR4', 'B000OPB4U6']\n",
      "A3KZEGBTPH6MMF ['B002RCNX8K', 'B00EMHVVLY', 'B00EIQTKAS', 'B00001W0DD', 'B001NTFATI']\n",
      "A7UPJYPAH73NC ['B002M78EA2', 'B0050A1O64', 'B00BSEV682', 'B002J9HBIO', 'B00931DHKM']\n",
      "A3SU7JSTPH9CC9 ['B00009X3UA', 'B003ZTKFEE', 'B0034WR71G', 'B002ZIVKAE']\n",
      "A95PWI4S6WHGL ['B007WTAJTO', 'B00F19PZXW', 'B00APCMMDG', 'B0002BEQJ8', 'B005HMO6A6']\n",
      "A3T8WOFS5RD2IR ['B001N0KEWU', 'B0000C4G78', 'B000EXRSVM', 'B0002375F8', 'B0012GC42S']\n",
      "A2M9ME0N2S3R39 ['B00003006K', 'B007C81JL2']\n",
      "A2I5LVVQ7WXEH6 ['B0089E5R0W', 'B004LU1U2M', 'B002K9IHGI', 'B006HXUXRY', 'B000R9PXE2']\n",
      "A34VRVI4CSI5RQ ['B00829TIEK', 'B006VJT1K4', 'B0023B14TK', 'B003ZX8B2S', 'B00D429Y12']\n",
      "A2J4XMWKR8PPD0 ['B009W49ALA', 'B00728Z9JA', 'B000P9CWRK', 'B000NRX12E', 'B00652CYPG']\n",
      "A2CL818RN52NWN ['B000J13TEE', 'B0007P4G6M']\n",
      "A2YHXGPCTENZY3 ['B0000UV0JA', 'B00005ATZN', 'B001FS1LLI', 'B0006HU49Y', 'B000RQHAUA']\n",
      "A2MCRCK1V61FWQ ['B000MGG6SC', 'B003O8J11E', 'B0061XSBZG', 'B001IYCMNA', 'B009W8YQ6K']\n",
      "AT53ZTTO707MB ['B00G4V0QSK', 'B00JC5Y6YA', 'B00ISGCAJM']\n",
      "A3D5B2CBFNJB0K ['B00CZ6WAEQ', 'B009WA115M', 'B004CLYE8C', 'B00834SJSK', 'B00B59NO5S']\n",
      "A3TPNC3TKGCCEI ['B000I8FZQI', 'B0097CZHAU', 'B00HPM1FZ0', 'B002FFG6JC', 'B0077SAYY0']\n",
      "A25TQLMIAPI1T6 ['B005MTME3U', 'B0027EMHM6', 'B002BFLALA', 'B003A4H2LI', 'B005DKZTNK']\n",
      "A1VOFY3QFT9WCG ['B0009JZSKO', 'B005LIDU5S', 'B0027AGK3M', 'B00008OE6F', 'B007VXJ9IS']\n",
      "A15J71JLC29KPW ['B0026RHUNK', 'B000063574', 'B007YXA5TC', 'B00B45EOYS', 'B00009KAPW']\n",
      "A2BCDZO1XQLDH ['B00007LTBI', 'B000VDF5RO', 'B003XU6H8I', 'B00DDK1QUC', 'B000GABCY2']\n",
      "A18EA7MNLXP9H5 ['B00264NZWS', 'B0027VT6V4', 'B003FWHTTA', 'B000V1R96Q', 'B003VAHYNC']\n",
      "A1435P5AMCPB3X ['B000204SWE', 'B0041LYY6K', 'B000087KY8', 'B000779RZA', 'B000H7FXHG']\n",
      "A25KKXUQQ0OLWB ['B00HR7FWUC', 'B00DQZQHBW', 'B006GWO5WK', 'B004RO9L4Q', 'B00DQZO0R0']\n",
      "ASJSX783R5HTZ ['B00003CWDG', 'B0013A1XDY', 'B007NZGPAY', 'B0007Q9PWQ', 'B001QUA6R0']\n",
      "A2PB325LKXYDOL ['B00109Y2DQ', 'B003YNQ6MG', 'B005ARQV6U', 'B007YXA5SI', 'B004GF1PC2']\n",
      "A33ZYFE8XMKKR1 ['B0097BEFYA', 'B0007CZ70Y', 'B0097BEDOC']\n",
      "AM3XNQU9TZBD8 ['B002TLTE6O', 'B00F9VROO0', 'B008DWCRQW', 'B005X9Y0YU', 'B004WIUDGM']\n",
      "AAW7X3GRD8GY9 ['B009NB8WR0', 'B007PRHNHO', 'B0000UV2AW', 'B004UE1W9K', 'B000EHCYBC']\n",
      "A379DLIAF0MFM5 ['B00834SJNA', 'B002R5AM7C', 'B001T0HFNA', 'B001TH7GVE', 'B00HC0ZDOE']\n",
      "A3UW23DBF2KHWC ['B0082E9K7U', 'B00F3F0EIU', 'B000UEZ36W', 'B00FISD9DO', 'B006I0KL6Y']\n",
      "AH3LF9RAD1O2V ['B0007WK8MQ', 'B005UF3G2Y', 'B00834SJSK', 'B003HNS6S0', 'B002WPUC5Y']\n",
      "A6TBR6L2D4XKC ['B0057LX9H8', 'B005OB2L7U', 'B00021EE4U', 'B001KZ6C74']\n",
      "A2POXR5VS3PHKR ['B0009XHOBG', 'B0043DKBTK', 'B000234I6C', 'B004Q0T0LU', 'B001C271MA']\n",
      "A3V6QSTG2T9MIO ['B005FDXMJS', 'B001D60LG8', 'B00AR95FOU', 'B0078K17WK', 'B002TLTE6O']\n",
      "A22NKFOH9RATRC ['B004AM5Z5O', 'B001G5ZTN6']\n",
      "A30KPB2ILF6K6J ['B008UG6GCC', 'B001CCLBSA', 'B004G8QO8O', 'B00EXK1L38', 'B0081FLFQE']\n",
      "A3H6NNGCINPLEC ['B00001W0EQ', 'B003YKG2XM', 'B001L6LG5K', 'B002RWJHBM', 'B0000TU7IG']\n",
      "A3HRDRQ5VAFPQS ['B000P0RPX0', 'B000W6POQW', 'B00001P4XH', 'B0001656FW', 'B0039NLS3I']\n",
      "A274MXTX3DYLUV ['B001HLFAD8', 'B005DCP280', 'B000PKX2KA', 'B003S6CO9I', 'B003XN24GY']\n",
      "A2WBVO6X3KPMDT ['B000EY5F5C', 'B003FVJYF8', 'B007EM7NES']\n",
      "A3SL0HA6422W4M ['B00B6QXWIY', 'B001OTZ8DA', 'B0053R0WWG', 'B001UE6I0G', 'B000065BPB']\n",
      "A19FRW264WZTGP ['B000QWEN5K', 'B000KE48CM', 'B0043GWDYI', 'B00HMREOLK', 'B001IBHUU8']\n",
      "AT2J7H5TRZM8Z ['B0000635UX', 'B00005LB8P', 'B000056SSM']\n",
      "A1PI8VBCXXSGC7 ['B004NZBAF2', 'B000W6POQW', 'B0082E9K7U', 'B009WZRAQQ', 'B00DR0B31U']\n",
      "A3CKI6VEH0HBMJ ['B004QK8FBG', 'B00829THVO', 'B00093IIRA', 'B001G5ZTN6', 'B0002VAQR4']\n",
      "A3TRY87JJCA5Y8 ['B00009V3CG', 'B003AI272I', 'B000NK5Z8Y', 'B000HB2TJ2', 'B006K554UU']\n",
      "A33GNK4YENACDJ ['B0058G40O8', 'B00B3YSTI2', 'B00D7RA080']\n",
      "A377LPVLLAI42D ['B004A88RM6', 'B000JVCPEY', 'B003SGCO3E', 'B0001G6U5W']\n",
      "A307Y3LMCVEZS1 ['B003XDCDCY', 'B001EMUE6I', 'B0040702HA', 'B0009H5VVM', 'B000MQNMQ6']\n",
      "A17RFKCYS69M3Y ['B002SZEOLG', 'B00008SCFL', 'B000BTL0OA', 'B00008WM9J']\n",
      "A3K91X9X2ARDOK ['B000I1X6PM', 'B00GMGDFPI', 'B001PVUIL4', 'B005A0B3FG', 'B00892RUTA']\n",
      "A8P6GIIQ6YQV8 ['B000JLG5ZY', 'B005EJH6RW', 'B00BY3XOSW', 'B00609B3J2']\n",
      "A3NOBH42C7UI5M ['B000GD3J3G', 'B00093IIRA', 'B000W6POQW', 'B002HZW7CK', 'B0002MQGOK']\n",
      "A3JV071KO43Q5X ['B004GIW9RY', 'B002FB684E', 'B002CVHURQ', 'B008YDTNDU', 'B001V9LA44']\n",
      "A9J4UURM4OSDW ['B001GIPR5S', 'B0011E324K', 'B000H866BM', 'B00005ARK3', 'B000UV4AIM']\n",
      "A3BACUOZV1M0WM ['B000BQ7GW8', 'B004RORMF6', 'B000E5GGQI', 'B0040JHVC2', 'B004G6002M']\n",
      "A3DL29NLZ7SXXG ['B001EM9JXC', 'B00CROTNGO', 'B001IANWCO']\n",
      "A35SNSDRNE9P8Q ['B00B588HY2', 'B0043M6F14', 'B00CI3BISU', 'B0035ERKYW', 'B005BOMTT0']\n",
      "AG35JCCQWDRCS ['B004GYVPGE', 'B004GW25WY', 'B001MSVPM6', 'B0076UXKDG', 'B000068O16']\n",
      "A3VVMIMMTYQV5F ['B001VSCH74', 'B00G0OYHCW', 'B00BKRMMUS', 'B000ND75C0']\n",
      "A3F7USIDJBR8WU ['B00066IJPQ', 'B000FKKWVM', 'B004J3V90Y', 'B002VA56I8', 'B00007EDZG']\n",
      "A1REY92IEZJUSX ['B00166EUI0', 'B0018BTPLK', 'B007BXD66E', 'B00752R4PK']\n",
      "A19UTUEBWKIZFT ['B008ULPAT2', 'B0079UAT0A', 'B007Z92SS6', 'B009AR2MF0', 'B005YR1PV2']\n",
      "A3AZI828WJN1CD ['B00F93IOR4', 'B0041OMWNY', 'B00834SJSK', 'B00CM0XHNS', 'B005CT56F8']\n",
      "A15XI2BEGGFEOW ['B004CLYEDC', 'B008DWCRQW', 'B001ELK2NY', 'B0000AOWVP', 'B0002L5R78']\n",
      "A32O98PFC3OP7K ['B000F2PHDI', 'B003DTLV8K', 'B003ZUXHV6', 'B007ZZ6OW6']\n",
      "A2XRIU3SOYZ0ZC ['B0011FCV8W', 'B0001F22PA', 'B0006TIEZS', 'B000OLDG60', 'B0007SXHP0']\n",
      "A7Y6AVS576M03 ['B0007XXU3E', 'B00005T408', 'B00005ATMI', 'B000ELSY0I', 'B000BQ7GW8']\n",
      "A1ZBEIL78MLR9Z ['B001QTXL82', 'B003ES5ZUU', 'B009NUK6S4', 'B009SPUY5O', 'B0015DYMVO']\n",
      "AP2NZAALUQKF5 ['B006Y44DAY', 'B003B8VBJ2']\n",
      "A3HXGSMCIOZEW8 ['B008TLE1P2', 'B008I2175E', 'B00007E7QS', 'B00006HSML', 'B00CS43I4Q']\n",
      "A3223W5IROMYTY ['B00CO8TBQ0', 'B0019N4RUQ', 'B0075SUK14', 'B002UVNW5W', 'B0055QYKQE']\n",
      "A1XB7JGJ459ERP ['B004CADY9I', 'B00BGGDVOO', 'B00005LB8P', 'B003Y30334', 'B0018ZDGAC']\n",
      "A32JCI4AK2JTTG ['B006W8U2MU', 'B00007E7NH', 'B002JQNXZC', 'B001MXLD4G']\n",
      "A2VALCFTOWFYXZ ['B00ARB5E8U', 'B00691WMJG', 'B00B4QESVQ', 'B00918MEZG', 'B008CX2A2I']\n",
      "A5CDMTW6JKV5G ['B0088CJT4U', 'B00EMHVVNM', 'B0019HGTLC', 'B005CLPP84', 'B00A9NE84C']\n",
      "A1PVX61PRPVX27 ['B00D6XSRL2', 'B007UMLEWO', 'B002HGFKR8', 'B00A35WYBA', 'B009VCAJ7W']\n",
      "A3CIET1UO3G51E ['B00DR0PDNE', 'B008M9U3BM', 'B005DEHVC8', 'B0081SS5C8', 'B004HREPCQ']\n",
      "A3UXW18DP4WSD6 ['B005PAINXQ', 'B0028Y4F4S', 'B00182CIB8', 'B008I646WG', 'B004M5H660']\n",
      "A2HXEJXEQQTM1D ['B0023Y9EQC', 'B004AGX4YO', 'B0040IG1A6', 'B00000J1U8', 'B001TUYTZM']\n",
      "A24QFMD1RXLJMB ['B005KN1YV6', 'B005DSPLC6', 'B008TT7CXW', 'B0098Y77U0', 'B000V7AF8E']\n",
      "A33XMCG1UFDSY2 ['B002669XKY', 'B0015F1L7A', 'B001MSU1FS']\n",
      "A1KD8NJPZ01R37 ['B0006ZM4XK', 'B005GSVN48', 'B00006HCJI', 'B004MSPOQG', 'B0047T79J0']\n",
      "A3CJOB7CHOSZUG ['B001KB21KA', 'B003M0NURK', 'B00009RA60', 'B003VTZFNE']\n",
      "A30C8WHQ2CYFO4 ['B0028Y5GKK', 'B001P06Q66', 'B000053HC5', 'B007FGYZFI', 'B001BTCSI6']\n",
      "A8X8D4BUY5DFU ['B003BEDQQM', 'B00009V6U0', 'B0049P6OTI', 'B000RQSGYO', 'B008KNDTB6']\n",
      "A30UP2KKD5IQEP ['B003ES5ZUU', 'B009AR2MQO', 'B003DZ165W', 'B0009YDP7W', 'B0042F3K9W']\n",
      "A54SG05AV6S4H ['B0007TOR08', 'B0016P5ASK', 'B005X9XVNQ', 'B001VEAI74', 'B000RG9RPQ']\n",
      "A111WCUF5KA2I6 ['B00762YNMG', 'B00DVFLJDS', 'B006Z95LHW']\n",
      "A1Q5P5ML3176C0 ['B0058VIXBY', 'B0041NPZE8', 'B001GN7A8A', 'B0016D1I0G', 'B001FA1NZU']\n",
      "A1901NTE8LFJF6 ['B004WOBMIY', 'B002P3KMXA', 'B0076R7F1M', 'B002HWRJBM', 'B004VPLY1E']\n",
      "A2PY5ED630H0QJ ['B000EHWCDW', 'B0001BVXI6', 'B0009H5VVM', 'B008DWH00K', 'B00ATKKV0A']\n",
      "A1ZM846Y7AUYD ['B0007U00X0', 'B00004ZCJE', 'B007M4Z60Q', 'B000WOIFO2', 'B00009R6FV']\n",
      "A178M2AHNWQZB0 ['B004BQTSKC', 'B002NEG0VO', 'B009DMFOVG', 'B000652M6Y', 'B004X355Y6']\n",
      "AA91O96C1Z18W ['B00EOI2SR2', 'B000DIM9AS', 'B00DQZOD8Q', 'B009DL0LOW', 'B003IT985S']\n",
      "AOTZOHB2LZGYR ['B008H7Y1N0', 'B009GUWPSU', 'B001UE6PE0', 'B009O7YUF6', 'B009ISU33E']\n",
      "A38QEATH3NODFM ['B00009QSET', 'B000NJ9CYS']\n",
      "A274X54O9CN2SR ['B0031B7DCS', 'B0021AESA0', 'B001PBYQHG', 'B00012FVYM', 'B004286VMW']\n",
      "AROQO2VDODT7 ['B002NEGTT2', 'B0000AQI9E', 'B004J3Y9U6', 'B000VSWHIE', 'B000053HC5']\n",
      "AU627A4UGIW6V ['B0048IW030', 'B001G4NBSC', 'B00006I5J7', 'B0043VE28S', 'B0076F3RS4']\n",
      "A2F92M62KN324B ['B009F1JL5A', 'B002QQ8H8I', 'B000NQ16NG', 'B005DSPLCQ', 'B00BGGDVOO']\n",
      "A3JU16JTNLVK1J ['B004TJ6JH6', 'B000V6MSRG', 'B00BEWF4R2', 'B003WKVVWQ', 'B000S5Q9CA']\n",
      "AQNSQW4495SG0 ['B001ANT1I8', 'B000NP3DJW', 'B00454YCWY']\n",
      "A18NDN2CIG2TKR ['B000F2JUOK', 'B00AYK7J9G']\n",
      "A3FS3FJPD3RJTD ['B001VZ1W5U', 'B000W8JFPG', 'B009F7IBZK', 'B00884WH74', 'B007KZQM8W']\n",
      "ANTGGAQYPSWHF ['B0055YB5IC', 'B009LPV766', 'B003FMUMSA', 'B00ARB5FLQ']\n",
      "A32AFX2PUJ82HG ['B0049SCB2Y', 'B00AWKC0JM', 'B0001FTVEK', 'B00029U1DK', 'B00001WRSJ']\n",
      "A2WA8TDCTGUADI ['B002AEU3EW', 'B008P8FDEW', 'B00DQZSIW8', 'B003ES5ZSW']\n",
      "A2HJY7418G1KV1 ['B000KX8TCI', 'B0014Z3XMC']\n",
      "A2ZR3YTMEEIIZ4 ['B0001CFSX6', 'B0000AQIFW', 'B000E6NGBU', 'B00005AW1H', 'B0011Z44UA']\n",
      "AZ8XSDMIX04VJ ['B002Y6CJJ8', 'B0047T79M2', 'B007WTAJTO', 'B001S0NTMC', 'B0009GZSSO']\n",
      "A3NXJDNTQK2YJL ['B0050IE1O8', 'B003M0NURK', 'B000IJY8DS', 'B001E0JH5E', 'B0000C0XS0']\n",
      "A2SH6A32BE6NEV ['B00BT8XX9C', 'B00752R9PK', 'B00DIOALPE', 'B000PCX780', 'B0081H8TRA']\n",
      "A1T9MILRRZ00F8 ['B000W0OVV2', 'B00829THEG', 'B0094S35W4', 'B003YKG2XM']\n",
      "A1Z3598J0371ND ['B00BQ8RFAI', 'B005JE3VYY']\n",
      "AOQLV2LSI9B2W ['B004E10KFG', 'B000062VUO', 'B008FQMUL8', 'B004MFQ2I8']\n",
      "A22R9L5DAVYYWR ['B0088CJT4U', 'B002WE6D44', 'B001X017G2', 'B00GAKX34E', 'B001FWYGJS']\n",
      "A2BGZ52M908MJY ['B00004W3YX', 'B004HO59M4']\n",
      "AYOMAHLWRQHUG ['B007F9XHAY', 'B001G8A8AM', 'B00B3PDH5G', 'B008EWNVI4', 'B005BL4PHW']\n",
      "A2E1EFNIZL2FVA ['B000V4TMWC', 'B003FSTAFK']\n",
      "A2SZLNSI5KOQJT ['B004H8FNBC', 'B009APC0S6', 'B004CLYE8C', 'B00HWMPSF6', 'B000IJY8DS']\n",
      "A2X06FP2PQ6EK0 ['B002FKNPBY', 'B004G8QO8E', 'B0002J2P2A', 'B003ES5ZUU']\n",
      "A2C8I2RQ0WG940 ['B0037MH5W4', 'B002JCSV8U', 'B000VDCTCI']\n",
      "A20ZM879PCQQEZ ['B00CLZWK64', 'B003WOL4VK', 'B001CY0P7G', 'B000EON3WY', 'B0040RWN0O']\n",
      "A6XLG77BC9R8R ['B0028Y9BX8', 'B001P2R1RW', 'B0009JR82U', 'B003WOWB5S', 'B002HK5AW4']\n",
      "A1D27BCSYV7VWH ['B0033AF5WW', 'B00AYB3OOY', 'B0019EHU8G', 'B002DS9BOI', 'B0043BPZWA']\n",
      "A20UU20K7M9ZPF ['B005HI7YEK', 'B004W88SBE', 'B009JRMBVG', 'B00EYTI0TG', 'B008OEHPPM']\n",
      "A1XEQGYY1IL8CD ['B002HJ9PTO', 'B002VGWFF4']\n",
      "ACP9S40H3SHY1 ['B007PZALFC', 'B0058G40O8']\n",
      "A6KL17KKN0A5L ['B00CGW74YU', 'B0035LBRJO', 'B00894YP00', 'B00483WRZ6']\n",
      "A2MSBIA18RXYQC ['B002U0KE8Q', 'B00DBV28TG', 'B007LK5S0E', 'B001EUG3II', 'B0001FTVEK']\n",
      "AFM7FK7NFEKFZ ['B004LNXO28', 'B0000EI9VR', 'B000VWOKRG', 'B00007E816', 'B0034XRDUA']\n",
      "A1RCGK44YXNBBB ['B000G1EWZ2']\n",
      "A25HBO5V8S8SEA ['B0001F1ZY4', 'B00009R6TA']\n"
     ]
    }
   ],
   "source": [
    "# Print the recommended items for each user\n",
    "for uid, user_ratings in top_n.items():\n",
    "    print(uid, [iid for (iid, _) in user_ratings])"
   ]
  },
  {
   "cell_type": "code",
   "execution_count": 135,
   "metadata": {},
   "outputs": [
    {
     "name": "stdout",
     "output_type": "stream",
     "text": [
      "Computing the msd similarity matrix...\n",
      "Done computing similarity matrix.\n",
      "Computing the msd similarity matrix...\n",
      "Done computing similarity matrix.\n",
      "Computing the msd similarity matrix...\n",
      "Done computing similarity matrix.\n",
      "Computing the msd similarity matrix...\n",
      "Done computing similarity matrix.\n",
      "Computing the msd similarity matrix...\n",
      "Done computing similarity matrix.\n",
      "Evaluating RMSE, MAE of algorithm KNNWithMeans on 5 split(s).\n",
      "\n",
      "                  Fold 1  Fold 2  Fold 3  Fold 4  Fold 5  Mean    Std     \n",
      "RMSE (testset)    1.0465  1.0511  1.0397  1.0527  1.0546  1.0489  0.0053  \n",
      "MAE (testset)     0.7405  0.7466  0.7324  0.7392  0.7383  0.7394  0.0046  \n",
      "Fit time          0.07    0.10    0.07    0.08    0.08    0.08    0.01    \n",
      "Test time         0.14    0.17    0.14    0.15    0.14    0.15    0.01    \n",
      "Evaluating RMSE, MAE of algorithm SVD on 5 split(s).\n",
      "\n",
      "                  Fold 1  Fold 2  Fold 3  Fold 4  Fold 5  Mean    Std     \n",
      "RMSE (testset)    0.9539  0.9635  0.9673  0.9742  0.9539  0.9625  0.0078  \n",
      "MAE (testset)     0.7005  0.7082  0.7061  0.7110  0.7028  0.7057  0.0037  \n",
      "Fit time          0.45    0.41    0.43    0.44    0.47    0.44    0.02    \n",
      "Test time         0.04    0.04    0.04    0.04    0.05    0.04    0.00    \n",
      "Evaluating RMSE, MAE of algorithm SVDpp on 5 split(s).\n",
      "\n",
      "                  Fold 1  Fold 2  Fold 3  Fold 4  Fold 5  Mean    Std     \n",
      "RMSE (testset)    0.9627  0.9615  0.9659  0.9582  0.9698  0.9636  0.0040  \n",
      "MAE (testset)     0.6998  0.6974  0.7065  0.6988  0.7019  0.7009  0.0032  \n",
      "Fit time          1.96    2.51    2.89    1.94    4.29    2.71    0.86    \n",
      "Test time         0.43    0.44    0.42    0.60    0.43    0.46    0.07    \n",
      "KNNWithMeans: RMSE = 1.0489, MAE = 0.7394\n",
      "SVD: RMSE = 0.9625, MAE = 0.7057\n",
      "SVDpp: RMSE = 0.9636, MAE = 0.7009\n"
     ]
    },
    {
     "data": {
      "image/png": "[encoded data removed]",
      "text/plain": [
       "<Figure size 1500x500 with 2 Axes>"
      ]
     },
     "metadata": {},
     "output_type": "display_data"
    }
   ],
   "source": [
    "from surprise import SVD, KNNWithMeans, SVDpp\n",
    "from surprise.model_selection import cross_validate\n",
    "\n",
    "algorithms = [KNNWithMeans(), SVD(), SVDpp()]\n",
    "\n",
    "results = {}\n",
    "for algo in algorithms:\n",
    "    algo_class_name = type(algo).__name__\n",
    "    cv_results = cross_validate(algo, data, measures=['RMSE', 'MAE'], cv=5, verbose=True)\n",
    "    results[algo_class_name] = cv_results\n",
    "\n",
    "for algo_class_name in results:\n",
    "    cv_result = results[algo_class_name]\n",
    "    print(f'{algo_class_name}: RMSE = {round(cv_result[\"test_rmse\"].mean(), 4)}, MAE = {round(cv_result[\"test_mae\"].mean(), 4)}')\n",
    "\n",
    "import matplotlib.pyplot as plt\n",
    "\n",
    "rmse_values = [results[name]['test_rmse'].mean() for name in results]\n",
    "mae_values = [results[name]['test_mae'].mean() for name in results]\n",
    "\n",
    "plt.figure(figsize=(15, 5))\n",
    "plt.subplot(1, 2, 1)\n",
    "plt.bar(list(results.keys()), rmse_values, color='skyblue')\n",
    "plt.title('Algorithms RMSE Comparison')\n",
    "plt.ylabel('RMSE')\n",
    "\n",
    "plt.subplot(1, 2, 2)\n",
    "plt.bar(list(results.keys()), mae_values, color='salmon')\n",
    "plt.title('Algorithms MAE Comparison')\n",
    "plt.ylabel('MAE')\n",
    "\n",
    "plt.xticks(rotation=45)\n",
    "plt.tight_layout()\n",
    "plt.show()"
   ]
  }
 ],
 "metadata": {
  "kernelspec": {
   "display_name": "Python 3",
   "language": "python",
   "name": "python3"
  },
  "language_info": {
   "codemirror_mode": {
    "name": "ipython",
    "version": 3
   },
   "file_extension": ".py",
   "mimetype": "text/x-python",
   "name": "python",
   "nbconvert_exporter": "python",
   "pygments_lexer": "ipython3",
   "version": "3.9.19"
  }
 },
 "nbformat": 4,
 "nbformat_minor": 2
}
